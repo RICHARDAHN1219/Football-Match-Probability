{
 "cells": [
  {
   "cell_type": "markdown",
   "metadata": {
    "id": "BjJ_E646E7sJ"
   },
   "source": [
    "# Introduction\n",
    "Thanks for looking.  \n",
    "This competition will predict the outcome of future soccer matches based on historical data!  \n",
    "In this notebook, we will show a simple implementation of the lightgbm method for beginners in machine learning."
   ]
  },
  {
   "cell_type": "markdown",
   "metadata": {
    "id": "gzHIC21jE7sN"
   },
   "source": [
    "# Module Load\n",
    "First, import required modules."
   ]
  },
  {
   "cell_type": "code",
   "execution_count": 1,
   "metadata": {
    "execution": {
     "iopub.execute_input": "2022-04-18T14:20:44.58919Z",
     "iopub.status.busy": "2022-04-18T14:20:44.588738Z",
     "iopub.status.idle": "2022-04-18T14:20:45.145055Z",
     "shell.execute_reply": "2022-04-18T14:20:45.144102Z",
     "shell.execute_reply.started": "2022-04-18T14:20:44.589109Z"
    },
    "id": "CQICs_RqE7sO"
   },
   "outputs": [],
   "source": [
    "import numpy as np\n",
    "import pandas as pd\n",
    "import warnings\n",
    "import time\n",
    "warnings.simplefilter('ignore')\n",
    "import math\n",
    "from statistics import mean\n",
    "import matplotlib.pyplot as plt\n",
    "import seaborn as sns\n",
    "from datetime import timedelta\n",
    "from sklearn.preprocessing import StandardScaler, MinMaxScaler\n",
    "from sklearn.model_selection import train_test_split\n",
    "from sklearn.model_selection import StratifiedKFold\n",
    "from sklearn.metrics import log_loss"
   ]
  },
  {
   "cell_type": "markdown",
   "metadata": {
    "id": "PgdbJiKQE7sP"
   },
   "source": [
    "# Loading Data\n",
    "Loading data by using read_csv in pandas.\n"
   ]
  },
  {
   "cell_type": "code",
   "execution_count": 2,
   "metadata": {
    "execution": {
     "iopub.execute_input": "2022-04-18T14:20:45.273924Z",
     "iopub.status.busy": "2022-04-18T14:20:45.273604Z",
     "iopub.status.idle": "2022-04-18T14:20:51.649273Z",
     "shell.execute_reply": "2022-04-18T14:20:51.64816Z",
     "shell.execute_reply.started": "2022-04-18T14:20:45.27389Z"
    },
    "id": "_nEe7k3WE7sQ"
   },
   "outputs": [],
   "source": [
    "train_df = pd.read_csv('C:/Users/HP/Downloads/football-match-probability-prediction/train.csv')\n",
    "test_df = pd.read_csv('C:/Users/HP/Downloads/football-match-probability-prediction/test.csv')\n",
    "train_target_score_df = pd.read_csv('C:/Users/HP/Downloads/football-match-probability-prediction/train_target_and_scores.csv')"
   ]
  },
  {
   "cell_type": "markdown",
   "metadata": {
    "id": "6Ac-avpME7sQ"
   },
   "source": [
    "## Explanatory Data Analysis"
   ]
  },
  {
   "cell_type": "markdown",
   "metadata": {
    "id": "sJxTAJSnE7sR"
   },
   "source": [
    "Check the contents and shape"
   ]
  },
  {
   "cell_type": "code",
   "execution_count": 3,
   "metadata": {
    "colab": {
     "base_uri": "https://localhost:8080/",
     "height": 404
    },
    "execution": {
     "iopub.execute_input": "2022-04-18T14:20:51.651569Z",
     "iopub.status.busy": "2022-04-18T14:20:51.651232Z",
     "iopub.status.idle": "2022-04-18T14:20:51.688984Z",
     "shell.execute_reply": "2022-04-18T14:20:51.688131Z",
     "shell.execute_reply.started": "2022-04-18T14:20:51.651534Z"
    },
    "id": "LnzaT70cE7sR",
    "outputId": "322a1b92-a38b-48e1-abe5-741b46d4c1f0"
   },
   "outputs": [
    {
     "name": "stdout",
     "output_type": "stream",
     "text": [
      "(110938, 190)\n"
     ]
    },
    {
     "data": {
      "text/html": [
       "<div>\n",
       "<style scoped>\n",
       "    .dataframe tbody tr th:only-of-type {\n",
       "        vertical-align: middle;\n",
       "    }\n",
       "\n",
       "    .dataframe tbody tr th {\n",
       "        vertical-align: top;\n",
       "    }\n",
       "\n",
       "    .dataframe thead th {\n",
       "        text-align: right;\n",
       "    }\n",
       "</style>\n",
       "<table border=\"1\" class=\"dataframe\">\n",
       "  <thead>\n",
       "    <tr style=\"text-align: right;\">\n",
       "      <th></th>\n",
       "      <th>id</th>\n",
       "      <th>target</th>\n",
       "      <th>home_team_name</th>\n",
       "      <th>away_team_name</th>\n",
       "      <th>match_date</th>\n",
       "      <th>league_name</th>\n",
       "      <th>league_id</th>\n",
       "      <th>is_cup</th>\n",
       "      <th>home_team_coach_id</th>\n",
       "      <th>away_team_coach_id</th>\n",
       "      <th>...</th>\n",
       "      <th>away_team_history_league_id_1</th>\n",
       "      <th>away_team_history_league_id_2</th>\n",
       "      <th>away_team_history_league_id_3</th>\n",
       "      <th>away_team_history_league_id_4</th>\n",
       "      <th>away_team_history_league_id_5</th>\n",
       "      <th>away_team_history_league_id_6</th>\n",
       "      <th>away_team_history_league_id_7</th>\n",
       "      <th>away_team_history_league_id_8</th>\n",
       "      <th>away_team_history_league_id_9</th>\n",
       "      <th>away_team_history_league_id_10</th>\n",
       "    </tr>\n",
       "  </thead>\n",
       "  <tbody>\n",
       "    <tr>\n",
       "      <th>0</th>\n",
       "      <td>11906497</td>\n",
       "      <td>away</td>\n",
       "      <td>Newell's Old Boys</td>\n",
       "      <td>River Plate</td>\n",
       "      <td>2019-12-01 00:45:00</td>\n",
       "      <td>Superliga</td>\n",
       "      <td>636</td>\n",
       "      <td>False</td>\n",
       "      <td>468196.0</td>\n",
       "      <td>468200.0</td>\n",
       "      <td>...</td>\n",
       "      <td>1122.0</td>\n",
       "      <td>642.0</td>\n",
       "      <td>636.0</td>\n",
       "      <td>636.0</td>\n",
       "      <td>636.0</td>\n",
       "      <td>1122.0</td>\n",
       "      <td>636.0</td>\n",
       "      <td>642.0</td>\n",
       "      <td>636.0</td>\n",
       "      <td>1122.0</td>\n",
       "    </tr>\n",
       "    <tr>\n",
       "      <th>1</th>\n",
       "      <td>11984383</td>\n",
       "      <td>home</td>\n",
       "      <td>Real Estelí</td>\n",
       "      <td>Deportivo Las Sabanas</td>\n",
       "      <td>2019-12-01 01:00:00</td>\n",
       "      <td>Primera Division</td>\n",
       "      <td>752</td>\n",
       "      <td>False</td>\n",
       "      <td>516788.0</td>\n",
       "      <td>22169161.0</td>\n",
       "      <td>...</td>\n",
       "      <td>752.0</td>\n",
       "      <td>752.0</td>\n",
       "      <td>752.0</td>\n",
       "      <td>752.0</td>\n",
       "      <td>752.0</td>\n",
       "      <td>752.0</td>\n",
       "      <td>752.0</td>\n",
       "      <td>752.0</td>\n",
       "      <td>752.0</td>\n",
       "      <td>752.0</td>\n",
       "    </tr>\n",
       "    <tr>\n",
       "      <th>2</th>\n",
       "      <td>11983301</td>\n",
       "      <td>draw</td>\n",
       "      <td>UPNFM</td>\n",
       "      <td>Marathón</td>\n",
       "      <td>2019-12-01 01:00:00</td>\n",
       "      <td>Liga Nacional</td>\n",
       "      <td>734</td>\n",
       "      <td>False</td>\n",
       "      <td>2510608.0</td>\n",
       "      <td>456313.0</td>\n",
       "      <td>...</td>\n",
       "      <td>734.0</td>\n",
       "      <td>734.0</td>\n",
       "      <td>734.0</td>\n",
       "      <td>734.0</td>\n",
       "      <td>734.0</td>\n",
       "      <td>734.0</td>\n",
       "      <td>734.0</td>\n",
       "      <td>734.0</td>\n",
       "      <td>734.0</td>\n",
       "      <td>734.0</td>\n",
       "    </tr>\n",
       "    <tr>\n",
       "      <th>3</th>\n",
       "      <td>11983471</td>\n",
       "      <td>away</td>\n",
       "      <td>León</td>\n",
       "      <td>Morelia</td>\n",
       "      <td>2019-12-01 01:00:00</td>\n",
       "      <td>Liga MX</td>\n",
       "      <td>743</td>\n",
       "      <td>False</td>\n",
       "      <td>1552508.0</td>\n",
       "      <td>465797.0</td>\n",
       "      <td>...</td>\n",
       "      <td>743.0</td>\n",
       "      <td>743.0</td>\n",
       "      <td>743.0</td>\n",
       "      <td>743.0</td>\n",
       "      <td>743.0</td>\n",
       "      <td>743.0</td>\n",
       "      <td>743.0</td>\n",
       "      <td>743.0</td>\n",
       "      <td>746.0</td>\n",
       "      <td>743.0</td>\n",
       "    </tr>\n",
       "    <tr>\n",
       "      <th>4</th>\n",
       "      <td>11883005</td>\n",
       "      <td>home</td>\n",
       "      <td>Cobán Imperial</td>\n",
       "      <td>Iztapa</td>\n",
       "      <td>2019-12-01 01:00:00</td>\n",
       "      <td>Liga Nacional</td>\n",
       "      <td>705</td>\n",
       "      <td>False</td>\n",
       "      <td>429958.0</td>\n",
       "      <td>426870.0</td>\n",
       "      <td>...</td>\n",
       "      <td>705.0</td>\n",
       "      <td>705.0</td>\n",
       "      <td>705.0</td>\n",
       "      <td>705.0</td>\n",
       "      <td>705.0</td>\n",
       "      <td>705.0</td>\n",
       "      <td>705.0</td>\n",
       "      <td>705.0</td>\n",
       "      <td>705.0</td>\n",
       "      <td>705.0</td>\n",
       "    </tr>\n",
       "  </tbody>\n",
       "</table>\n",
       "<p>5 rows × 190 columns</p>\n",
       "</div>"
      ],
      "text/plain": [
       "         id target     home_team_name         away_team_name  \\\n",
       "0  11906497   away  Newell's Old Boys            River Plate   \n",
       "1  11984383   home        Real Estelí  Deportivo Las Sabanas   \n",
       "2  11983301   draw              UPNFM               Marathón   \n",
       "3  11983471   away               León                Morelia   \n",
       "4  11883005   home     Cobán Imperial                 Iztapa   \n",
       "\n",
       "            match_date       league_name  league_id is_cup  \\\n",
       "0  2019-12-01 00:45:00         Superliga        636  False   \n",
       "1  2019-12-01 01:00:00  Primera Division        752  False   \n",
       "2  2019-12-01 01:00:00     Liga Nacional        734  False   \n",
       "3  2019-12-01 01:00:00           Liga MX        743  False   \n",
       "4  2019-12-01 01:00:00     Liga Nacional        705  False   \n",
       "\n",
       "   home_team_coach_id  away_team_coach_id  ... away_team_history_league_id_1  \\\n",
       "0            468196.0            468200.0  ...                        1122.0   \n",
       "1            516788.0          22169161.0  ...                         752.0   \n",
       "2           2510608.0            456313.0  ...                         734.0   \n",
       "3           1552508.0            465797.0  ...                         743.0   \n",
       "4            429958.0            426870.0  ...                         705.0   \n",
       "\n",
       "  away_team_history_league_id_2 away_team_history_league_id_3  \\\n",
       "0                         642.0                         636.0   \n",
       "1                         752.0                         752.0   \n",
       "2                         734.0                         734.0   \n",
       "3                         743.0                         743.0   \n",
       "4                         705.0                         705.0   \n",
       "\n",
       "  away_team_history_league_id_4 away_team_history_league_id_5  \\\n",
       "0                         636.0                         636.0   \n",
       "1                         752.0                         752.0   \n",
       "2                         734.0                         734.0   \n",
       "3                         743.0                         743.0   \n",
       "4                         705.0                         705.0   \n",
       "\n",
       "  away_team_history_league_id_6 away_team_history_league_id_7  \\\n",
       "0                        1122.0                         636.0   \n",
       "1                         752.0                         752.0   \n",
       "2                         734.0                         734.0   \n",
       "3                         743.0                         743.0   \n",
       "4                         705.0                         705.0   \n",
       "\n",
       "  away_team_history_league_id_8 away_team_history_league_id_9  \\\n",
       "0                         642.0                         636.0   \n",
       "1                         752.0                         752.0   \n",
       "2                         734.0                         734.0   \n",
       "3                         743.0                         746.0   \n",
       "4                         705.0                         705.0   \n",
       "\n",
       "  away_team_history_league_id_10  \n",
       "0                         1122.0  \n",
       "1                          752.0  \n",
       "2                          734.0  \n",
       "3                          743.0  \n",
       "4                          705.0  \n",
       "\n",
       "[5 rows x 190 columns]"
      ]
     },
     "execution_count": 3,
     "metadata": {},
     "output_type": "execute_result"
    }
   ],
   "source": [
    "print(train_df.shape)\n",
    "train_df.head()"
   ]
  },
  {
   "cell_type": "code",
   "execution_count": 4,
   "metadata": {
    "colab": {
     "base_uri": "https://localhost:8080/",
     "height": 224
    },
    "execution": {
     "iopub.execute_input": "2022-04-18T14:20:51.691301Z",
     "iopub.status.busy": "2022-04-18T14:20:51.690352Z",
     "iopub.status.idle": "2022-04-18T14:20:51.701782Z",
     "shell.execute_reply": "2022-04-18T14:20:51.701139Z",
     "shell.execute_reply.started": "2022-04-18T14:20:51.691261Z"
    },
    "id": "kwvny0LfE7sS",
    "outputId": "294b9afb-8db3-45d9-cba4-9275e8cdd15a"
   },
   "outputs": [
    {
     "name": "stdout",
     "output_type": "stream",
     "text": [
      "(110938, 3)\n"
     ]
    },
    {
     "data": {
      "text/html": [
       "<div>\n",
       "<style scoped>\n",
       "    .dataframe tbody tr th:only-of-type {\n",
       "        vertical-align: middle;\n",
       "    }\n",
       "\n",
       "    .dataframe tbody tr th {\n",
       "        vertical-align: top;\n",
       "    }\n",
       "\n",
       "    .dataframe thead th {\n",
       "        text-align: right;\n",
       "    }\n",
       "</style>\n",
       "<table border=\"1\" class=\"dataframe\">\n",
       "  <thead>\n",
       "    <tr style=\"text-align: right;\">\n",
       "      <th></th>\n",
       "      <th>id</th>\n",
       "      <th>score</th>\n",
       "      <th>target</th>\n",
       "    </tr>\n",
       "  </thead>\n",
       "  <tbody>\n",
       "    <tr>\n",
       "      <th>0</th>\n",
       "      <td>11906497</td>\n",
       "      <td>2-3</td>\n",
       "      <td>away</td>\n",
       "    </tr>\n",
       "    <tr>\n",
       "      <th>1</th>\n",
       "      <td>11984383</td>\n",
       "      <td>1-0</td>\n",
       "      <td>home</td>\n",
       "    </tr>\n",
       "    <tr>\n",
       "      <th>2</th>\n",
       "      <td>11983301</td>\n",
       "      <td>2-2</td>\n",
       "      <td>draw</td>\n",
       "    </tr>\n",
       "    <tr>\n",
       "      <th>3</th>\n",
       "      <td>11983471</td>\n",
       "      <td>1-2</td>\n",
       "      <td>away</td>\n",
       "    </tr>\n",
       "    <tr>\n",
       "      <th>4</th>\n",
       "      <td>11883005</td>\n",
       "      <td>1-0</td>\n",
       "      <td>home</td>\n",
       "    </tr>\n",
       "  </tbody>\n",
       "</table>\n",
       "</div>"
      ],
      "text/plain": [
       "         id score target\n",
       "0  11906497   2-3   away\n",
       "1  11984383   1-0   home\n",
       "2  11983301   2-2   draw\n",
       "3  11983471   1-2   away\n",
       "4  11883005   1-0   home"
      ]
     },
     "execution_count": 4,
     "metadata": {},
     "output_type": "execute_result"
    }
   ],
   "source": [
    "print(train_target_score_df.shape)\n",
    "train_target_score_df.head()"
   ]
  },
  {
   "cell_type": "code",
   "execution_count": 5,
   "metadata": {
    "colab": {
     "base_uri": "https://localhost:8080/",
     "height": 404
    },
    "execution": {
     "iopub.execute_input": "2022-04-18T14:20:51.703566Z",
     "iopub.status.busy": "2022-04-18T14:20:51.703215Z",
     "iopub.status.idle": "2022-04-18T14:20:51.737963Z",
     "shell.execute_reply": "2022-04-18T14:20:51.737087Z",
     "shell.execute_reply.started": "2022-04-18T14:20:51.703537Z"
    },
    "id": "CrhvbPvrE7sS",
    "outputId": "be57c9eb-36d7-4b7c-c8a5-bc93052c19d6"
   },
   "outputs": [
    {
     "name": "stdout",
     "output_type": "stream",
     "text": [
      "(72711, 189)\n"
     ]
    },
    {
     "data": {
      "text/html": [
       "<div>\n",
       "<style scoped>\n",
       "    .dataframe tbody tr th:only-of-type {\n",
       "        vertical-align: middle;\n",
       "    }\n",
       "\n",
       "    .dataframe tbody tr th {\n",
       "        vertical-align: top;\n",
       "    }\n",
       "\n",
       "    .dataframe thead th {\n",
       "        text-align: right;\n",
       "    }\n",
       "</style>\n",
       "<table border=\"1\" class=\"dataframe\">\n",
       "  <thead>\n",
       "    <tr style=\"text-align: right;\">\n",
       "      <th></th>\n",
       "      <th>id</th>\n",
       "      <th>home_team_name</th>\n",
       "      <th>away_team_name</th>\n",
       "      <th>match_date</th>\n",
       "      <th>league_name</th>\n",
       "      <th>league_id</th>\n",
       "      <th>is_cup</th>\n",
       "      <th>home_team_coach_id</th>\n",
       "      <th>away_team_coach_id</th>\n",
       "      <th>home_team_history_match_date_1</th>\n",
       "      <th>...</th>\n",
       "      <th>away_team_history_league_id_1</th>\n",
       "      <th>away_team_history_league_id_2</th>\n",
       "      <th>away_team_history_league_id_3</th>\n",
       "      <th>away_team_history_league_id_4</th>\n",
       "      <th>away_team_history_league_id_5</th>\n",
       "      <th>away_team_history_league_id_6</th>\n",
       "      <th>away_team_history_league_id_7</th>\n",
       "      <th>away_team_history_league_id_8</th>\n",
       "      <th>away_team_history_league_id_9</th>\n",
       "      <th>away_team_history_league_id_10</th>\n",
       "    </tr>\n",
       "  </thead>\n",
       "  <tbody>\n",
       "    <tr>\n",
       "      <th>0</th>\n",
       "      <td>17761448</td>\n",
       "      <td>team home</td>\n",
       "      <td>team away</td>\n",
       "      <td>2021-05-01 00:15:00</td>\n",
       "      <td>Division 1</td>\n",
       "      <td>755</td>\n",
       "      <td>False</td>\n",
       "      <td>9605704.0</td>\n",
       "      <td>30866250.0</td>\n",
       "      <td>2021-04-28 00:30:00</td>\n",
       "      <td>...</td>\n",
       "      <td>755.0</td>\n",
       "      <td>755.0</td>\n",
       "      <td>755.0</td>\n",
       "      <td>755.0</td>\n",
       "      <td>755.0</td>\n",
       "      <td>755.0</td>\n",
       "      <td>755.0</td>\n",
       "      <td>755.0</td>\n",
       "      <td>755.0</td>\n",
       "      <td>755.0</td>\n",
       "    </tr>\n",
       "    <tr>\n",
       "      <th>1</th>\n",
       "      <td>17695487</td>\n",
       "      <td>team home</td>\n",
       "      <td>team away</td>\n",
       "      <td>2021-05-01 00:30:00</td>\n",
       "      <td>Liga MX</td>\n",
       "      <td>743</td>\n",
       "      <td>False</td>\n",
       "      <td>10319425.0</td>\n",
       "      <td>460370.0</td>\n",
       "      <td>2021-04-24 02:06:00</td>\n",
       "      <td>...</td>\n",
       "      <td>743.0</td>\n",
       "      <td>743.0</td>\n",
       "      <td>743.0</td>\n",
       "      <td>743.0</td>\n",
       "      <td>743.0</td>\n",
       "      <td>743.0</td>\n",
       "      <td>743.0</td>\n",
       "      <td>743.0</td>\n",
       "      <td>743.0</td>\n",
       "      <td>743.0</td>\n",
       "    </tr>\n",
       "    <tr>\n",
       "      <th>2</th>\n",
       "      <td>17715496</td>\n",
       "      <td>team home</td>\n",
       "      <td>team away</td>\n",
       "      <td>2021-05-01 01:00:00</td>\n",
       "      <td>Paulista A2</td>\n",
       "      <td>1314</td>\n",
       "      <td>False</td>\n",
       "      <td>440905.0</td>\n",
       "      <td>220998.0</td>\n",
       "      <td>2021-04-28 23:00:00</td>\n",
       "      <td>...</td>\n",
       "      <td>1314.0</td>\n",
       "      <td>1314.0</td>\n",
       "      <td>1314.0</td>\n",
       "      <td>1314.0</td>\n",
       "      <td>1314.0</td>\n",
       "      <td>1314.0</td>\n",
       "      <td>1314.0</td>\n",
       "      <td>1314.0</td>\n",
       "      <td>1315.0</td>\n",
       "      <td>1315.0</td>\n",
       "    </tr>\n",
       "    <tr>\n",
       "      <th>3</th>\n",
       "      <td>17715493</td>\n",
       "      <td>team home</td>\n",
       "      <td>team away</td>\n",
       "      <td>2021-05-01 01:00:00</td>\n",
       "      <td>Paulista A2</td>\n",
       "      <td>1314</td>\n",
       "      <td>False</td>\n",
       "      <td>21036670.0</td>\n",
       "      <td>1553238.0</td>\n",
       "      <td>2021-04-29 01:00:00</td>\n",
       "      <td>...</td>\n",
       "      <td>1314.0</td>\n",
       "      <td>1314.0</td>\n",
       "      <td>1314.0</td>\n",
       "      <td>1314.0</td>\n",
       "      <td>1314.0</td>\n",
       "      <td>1314.0</td>\n",
       "      <td>1314.0</td>\n",
       "      <td>1314.0</td>\n",
       "      <td>1746.0</td>\n",
       "      <td>1746.0</td>\n",
       "    </tr>\n",
       "    <tr>\n",
       "      <th>4</th>\n",
       "      <td>17715492</td>\n",
       "      <td>team home</td>\n",
       "      <td>team away</td>\n",
       "      <td>2021-05-01 01:00:00</td>\n",
       "      <td>Paulista A2</td>\n",
       "      <td>1314</td>\n",
       "      <td>False</td>\n",
       "      <td>3618158.0</td>\n",
       "      <td>37400444.0</td>\n",
       "      <td>2021-04-29 01:00:00</td>\n",
       "      <td>...</td>\n",
       "      <td>1314.0</td>\n",
       "      <td>1314.0</td>\n",
       "      <td>1314.0</td>\n",
       "      <td>1314.0</td>\n",
       "      <td>1314.0</td>\n",
       "      <td>1314.0</td>\n",
       "      <td>1314.0</td>\n",
       "      <td>1314.0</td>\n",
       "      <td>1314.0</td>\n",
       "      <td>1314.0</td>\n",
       "    </tr>\n",
       "  </tbody>\n",
       "</table>\n",
       "<p>5 rows × 189 columns</p>\n",
       "</div>"
      ],
      "text/plain": [
       "         id home_team_name away_team_name           match_date  league_name  \\\n",
       "0  17761448      team home      team away  2021-05-01 00:15:00   Division 1   \n",
       "1  17695487      team home      team away  2021-05-01 00:30:00      Liga MX   \n",
       "2  17715496      team home      team away  2021-05-01 01:00:00  Paulista A2   \n",
       "3  17715493      team home      team away  2021-05-01 01:00:00  Paulista A2   \n",
       "4  17715492      team home      team away  2021-05-01 01:00:00  Paulista A2   \n",
       "\n",
       "   league_id  is_cup  home_team_coach_id  away_team_coach_id  \\\n",
       "0        755   False           9605704.0          30866250.0   \n",
       "1        743   False          10319425.0            460370.0   \n",
       "2       1314   False            440905.0            220998.0   \n",
       "3       1314   False          21036670.0           1553238.0   \n",
       "4       1314   False           3618158.0          37400444.0   \n",
       "\n",
       "  home_team_history_match_date_1  ... away_team_history_league_id_1  \\\n",
       "0            2021-04-28 00:30:00  ...                         755.0   \n",
       "1            2021-04-24 02:06:00  ...                         743.0   \n",
       "2            2021-04-28 23:00:00  ...                        1314.0   \n",
       "3            2021-04-29 01:00:00  ...                        1314.0   \n",
       "4            2021-04-29 01:00:00  ...                        1314.0   \n",
       "\n",
       "  away_team_history_league_id_2 away_team_history_league_id_3  \\\n",
       "0                         755.0                         755.0   \n",
       "1                         743.0                         743.0   \n",
       "2                        1314.0                        1314.0   \n",
       "3                        1314.0                        1314.0   \n",
       "4                        1314.0                        1314.0   \n",
       "\n",
       "  away_team_history_league_id_4 away_team_history_league_id_5  \\\n",
       "0                         755.0                         755.0   \n",
       "1                         743.0                         743.0   \n",
       "2                        1314.0                        1314.0   \n",
       "3                        1314.0                        1314.0   \n",
       "4                        1314.0                        1314.0   \n",
       "\n",
       "  away_team_history_league_id_6 away_team_history_league_id_7  \\\n",
       "0                         755.0                         755.0   \n",
       "1                         743.0                         743.0   \n",
       "2                        1314.0                        1314.0   \n",
       "3                        1314.0                        1314.0   \n",
       "4                        1314.0                        1314.0   \n",
       "\n",
       "  away_team_history_league_id_8 away_team_history_league_id_9  \\\n",
       "0                         755.0                         755.0   \n",
       "1                         743.0                         743.0   \n",
       "2                        1314.0                        1315.0   \n",
       "3                        1314.0                        1746.0   \n",
       "4                        1314.0                        1314.0   \n",
       "\n",
       "   away_team_history_league_id_10  \n",
       "0                           755.0  \n",
       "1                           743.0  \n",
       "2                          1315.0  \n",
       "3                          1746.0  \n",
       "4                          1314.0  \n",
       "\n",
       "[5 rows x 189 columns]"
      ]
     },
     "execution_count": 5,
     "metadata": {},
     "output_type": "execute_result"
    }
   ],
   "source": [
    "print(test_df.shape)\n",
    "test_df.head()"
   ]
  },
  {
   "cell_type": "markdown",
   "metadata": {
    "id": "qLMlgv8CE7sT"
   },
   "source": [
    "### Data Summary\n",
    "***\n",
    "**train.csv**...the training set. It contains data from 110938 matches from December 1, 2019 to May 1, 2021.  \n",
    "**test.csv**...the test set. No away and home team names.  \n",
    "**train_target_and_scores.csv** - contains each match's final score Home - Away in addition to the target which is also in the training set.\n",
    "\n",
    "*  target - The team that won that match\n",
    "*  home_team_name - The name of the Home the team. Hidden in test set, see this discussion\n",
    "*  away_team_name - The name of the Away the team. Hidden in test set, see this discussion\n",
    "*  match_date - The match date (UTC).\n",
    "*  league_name - The league name.\n",
    "*  league_id - The league id. Note that league names can be identical for two differents id.\n",
    "*  is_cup - If the value is 1 the match is played for a cup compettion.\n",
    "*  home_team_coach_id - The id of the Home team coach.\n",
    "*  away_team_coach_id - The id of the Away team coach.\n",
    "*  home_team_history_match_date_{i} - The date of the last i-th match played by Home team.\n",
    "*  home_team_history_is_play_home_{i} - If 1, the Home team played home.\n",
    "*  home_team_history_is_cup_{i} - If 1, the match was a cup competition.\n",
    "*  home_team_history_goal_{i} - The number of goals scored by the Home team on its last i-th match.\n",
    "*  home_team_history_opponent_goal_{i} - The number of goals conceded by the Home team on its last i-th match.\n",
    "*  home_team_history_rating_{i} - The rating of the Home team on its last i-th match (pre match rating).\n",
    "*  home_team_history_opponent_rating_{i} - The rating of the opponent team on Home team last i-th match (pre match rating).\n",
    "*  home_team_history_coach_{i} - The coach id of the Home team on its last i-th match.\n",
    "*  home_team_history_league_id_{i} - The league name id by the Home team on its last i-th match.\n",
    "*  away_team_history_match_date_{i} - The date of the last i-th match played by Away team.\n",
    "*  away_team_history_is_play_home_{i} - If 1, the Away team played home.\n",
    "*  away_team_history_is_cup_{i} - If 1, the match was a cup competition.\n",
    "*  away_team_history_goal_{i} - The number of goals scored by the Away team on its last i-th match.\n",
    "*  away_team_history_opponent_goal_{i} - The number of goals conceded by the Away team on its last i-th match.\n",
    "*  away_team_history_rating_{i} - The rating of the Away team on its last i-th match (pre match rating).\n",
    "*  away_team_history_opponent_rating_{i} - The rating of the opponent team on Away team last i-th match (pre match rating).\n",
    "*  away_team_history_coach_{i} - The coach id of the Away team on its last i-th match.\n",
    "*  away_team_history_league_id_{i} - The league name id played by the Away on its last i-th match."
   ]
  },
  {
   "cell_type": "markdown",
   "metadata": {
    "id": "_IPdblZVE7sU"
   },
   "source": [
    "Specify id as line name"
   ]
  },
  {
   "cell_type": "code",
   "execution_count": 6,
   "metadata": {
    "colab": {
     "base_uri": "https://localhost:8080/",
     "height": 418
    },
    "execution": {
     "iopub.execute_input": "2022-04-18T14:20:51.740134Z",
     "iopub.status.busy": "2022-04-18T14:20:51.739597Z",
     "iopub.status.idle": "2022-04-18T14:20:51.772895Z",
     "shell.execute_reply": "2022-04-18T14:20:51.772163Z",
     "shell.execute_reply.started": "2022-04-18T14:20:51.740085Z"
    },
    "id": "aRZDiNJJE7sU",
    "outputId": "fc81f8a1-3dd8-4f30-f3fa-aba33f09d9f5"
   },
   "outputs": [
    {
     "data": {
      "text/html": [
       "<div>\n",
       "<style scoped>\n",
       "    .dataframe tbody tr th:only-of-type {\n",
       "        vertical-align: middle;\n",
       "    }\n",
       "\n",
       "    .dataframe tbody tr th {\n",
       "        vertical-align: top;\n",
       "    }\n",
       "\n",
       "    .dataframe thead th {\n",
       "        text-align: right;\n",
       "    }\n",
       "</style>\n",
       "<table border=\"1\" class=\"dataframe\">\n",
       "  <thead>\n",
       "    <tr style=\"text-align: right;\">\n",
       "      <th></th>\n",
       "      <th>target</th>\n",
       "      <th>home_team_name</th>\n",
       "      <th>away_team_name</th>\n",
       "      <th>match_date</th>\n",
       "      <th>league_name</th>\n",
       "      <th>league_id</th>\n",
       "      <th>is_cup</th>\n",
       "      <th>home_team_coach_id</th>\n",
       "      <th>away_team_coach_id</th>\n",
       "      <th>home_team_history_match_date_1</th>\n",
       "      <th>...</th>\n",
       "      <th>away_team_history_league_id_1</th>\n",
       "      <th>away_team_history_league_id_2</th>\n",
       "      <th>away_team_history_league_id_3</th>\n",
       "      <th>away_team_history_league_id_4</th>\n",
       "      <th>away_team_history_league_id_5</th>\n",
       "      <th>away_team_history_league_id_6</th>\n",
       "      <th>away_team_history_league_id_7</th>\n",
       "      <th>away_team_history_league_id_8</th>\n",
       "      <th>away_team_history_league_id_9</th>\n",
       "      <th>away_team_history_league_id_10</th>\n",
       "    </tr>\n",
       "    <tr>\n",
       "      <th>id</th>\n",
       "      <th></th>\n",
       "      <th></th>\n",
       "      <th></th>\n",
       "      <th></th>\n",
       "      <th></th>\n",
       "      <th></th>\n",
       "      <th></th>\n",
       "      <th></th>\n",
       "      <th></th>\n",
       "      <th></th>\n",
       "      <th></th>\n",
       "      <th></th>\n",
       "      <th></th>\n",
       "      <th></th>\n",
       "      <th></th>\n",
       "      <th></th>\n",
       "      <th></th>\n",
       "      <th></th>\n",
       "      <th></th>\n",
       "      <th></th>\n",
       "      <th></th>\n",
       "    </tr>\n",
       "  </thead>\n",
       "  <tbody>\n",
       "    <tr>\n",
       "      <th>11906497</th>\n",
       "      <td>away</td>\n",
       "      <td>Newell's Old Boys</td>\n",
       "      <td>River Plate</td>\n",
       "      <td>2019-12-01 00:45:00</td>\n",
       "      <td>Superliga</td>\n",
       "      <td>636</td>\n",
       "      <td>False</td>\n",
       "      <td>468196.0</td>\n",
       "      <td>468200.0</td>\n",
       "      <td>2019-11-26 00:10:00</td>\n",
       "      <td>...</td>\n",
       "      <td>1122.0</td>\n",
       "      <td>642.0</td>\n",
       "      <td>636.0</td>\n",
       "      <td>636.0</td>\n",
       "      <td>636.0</td>\n",
       "      <td>1122.0</td>\n",
       "      <td>636.0</td>\n",
       "      <td>642.0</td>\n",
       "      <td>636.0</td>\n",
       "      <td>1122.0</td>\n",
       "    </tr>\n",
       "    <tr>\n",
       "      <th>11984383</th>\n",
       "      <td>home</td>\n",
       "      <td>Real Estelí</td>\n",
       "      <td>Deportivo Las Sabanas</td>\n",
       "      <td>2019-12-01 01:00:00</td>\n",
       "      <td>Primera Division</td>\n",
       "      <td>752</td>\n",
       "      <td>False</td>\n",
       "      <td>516788.0</td>\n",
       "      <td>22169161.0</td>\n",
       "      <td>2019-11-27 21:00:00</td>\n",
       "      <td>...</td>\n",
       "      <td>752.0</td>\n",
       "      <td>752.0</td>\n",
       "      <td>752.0</td>\n",
       "      <td>752.0</td>\n",
       "      <td>752.0</td>\n",
       "      <td>752.0</td>\n",
       "      <td>752.0</td>\n",
       "      <td>752.0</td>\n",
       "      <td>752.0</td>\n",
       "      <td>752.0</td>\n",
       "    </tr>\n",
       "    <tr>\n",
       "      <th>11983301</th>\n",
       "      <td>draw</td>\n",
       "      <td>UPNFM</td>\n",
       "      <td>Marathón</td>\n",
       "      <td>2019-12-01 01:00:00</td>\n",
       "      <td>Liga Nacional</td>\n",
       "      <td>734</td>\n",
       "      <td>False</td>\n",
       "      <td>2510608.0</td>\n",
       "      <td>456313.0</td>\n",
       "      <td>2019-11-28 01:15:00</td>\n",
       "      <td>...</td>\n",
       "      <td>734.0</td>\n",
       "      <td>734.0</td>\n",
       "      <td>734.0</td>\n",
       "      <td>734.0</td>\n",
       "      <td>734.0</td>\n",
       "      <td>734.0</td>\n",
       "      <td>734.0</td>\n",
       "      <td>734.0</td>\n",
       "      <td>734.0</td>\n",
       "      <td>734.0</td>\n",
       "    </tr>\n",
       "    <tr>\n",
       "      <th>11983471</th>\n",
       "      <td>away</td>\n",
       "      <td>León</td>\n",
       "      <td>Morelia</td>\n",
       "      <td>2019-12-01 01:00:00</td>\n",
       "      <td>Liga MX</td>\n",
       "      <td>743</td>\n",
       "      <td>False</td>\n",
       "      <td>1552508.0</td>\n",
       "      <td>465797.0</td>\n",
       "      <td>2019-11-28 01:00:00</td>\n",
       "      <td>...</td>\n",
       "      <td>743.0</td>\n",
       "      <td>743.0</td>\n",
       "      <td>743.0</td>\n",
       "      <td>743.0</td>\n",
       "      <td>743.0</td>\n",
       "      <td>743.0</td>\n",
       "      <td>743.0</td>\n",
       "      <td>743.0</td>\n",
       "      <td>746.0</td>\n",
       "      <td>743.0</td>\n",
       "    </tr>\n",
       "    <tr>\n",
       "      <th>11883005</th>\n",
       "      <td>home</td>\n",
       "      <td>Cobán Imperial</td>\n",
       "      <td>Iztapa</td>\n",
       "      <td>2019-12-01 01:00:00</td>\n",
       "      <td>Liga Nacional</td>\n",
       "      <td>705</td>\n",
       "      <td>False</td>\n",
       "      <td>429958.0</td>\n",
       "      <td>426870.0</td>\n",
       "      <td>2019-11-27 18:00:00</td>\n",
       "      <td>...</td>\n",
       "      <td>705.0</td>\n",
       "      <td>705.0</td>\n",
       "      <td>705.0</td>\n",
       "      <td>705.0</td>\n",
       "      <td>705.0</td>\n",
       "      <td>705.0</td>\n",
       "      <td>705.0</td>\n",
       "      <td>705.0</td>\n",
       "      <td>705.0</td>\n",
       "      <td>705.0</td>\n",
       "    </tr>\n",
       "  </tbody>\n",
       "</table>\n",
       "<p>5 rows × 189 columns</p>\n",
       "</div>"
      ],
      "text/plain": [
       "         target     home_team_name         away_team_name  \\\n",
       "id                                                          \n",
       "11906497   away  Newell's Old Boys            River Plate   \n",
       "11984383   home        Real Estelí  Deportivo Las Sabanas   \n",
       "11983301   draw              UPNFM               Marathón   \n",
       "11983471   away               León                Morelia   \n",
       "11883005   home     Cobán Imperial                 Iztapa   \n",
       "\n",
       "                   match_date       league_name  league_id is_cup  \\\n",
       "id                                                                  \n",
       "11906497  2019-12-01 00:45:00         Superliga        636  False   \n",
       "11984383  2019-12-01 01:00:00  Primera Division        752  False   \n",
       "11983301  2019-12-01 01:00:00     Liga Nacional        734  False   \n",
       "11983471  2019-12-01 01:00:00           Liga MX        743  False   \n",
       "11883005  2019-12-01 01:00:00     Liga Nacional        705  False   \n",
       "\n",
       "          home_team_coach_id  away_team_coach_id  \\\n",
       "id                                                 \n",
       "11906497            468196.0            468200.0   \n",
       "11984383            516788.0          22169161.0   \n",
       "11983301           2510608.0            456313.0   \n",
       "11983471           1552508.0            465797.0   \n",
       "11883005            429958.0            426870.0   \n",
       "\n",
       "         home_team_history_match_date_1  ... away_team_history_league_id_1  \\\n",
       "id                                       ...                                 \n",
       "11906497            2019-11-26 00:10:00  ...                        1122.0   \n",
       "11984383            2019-11-27 21:00:00  ...                         752.0   \n",
       "11983301            2019-11-28 01:15:00  ...                         734.0   \n",
       "11983471            2019-11-28 01:00:00  ...                         743.0   \n",
       "11883005            2019-11-27 18:00:00  ...                         705.0   \n",
       "\n",
       "         away_team_history_league_id_2 away_team_history_league_id_3  \\\n",
       "id                                                                     \n",
       "11906497                         642.0                         636.0   \n",
       "11984383                         752.0                         752.0   \n",
       "11983301                         734.0                         734.0   \n",
       "11983471                         743.0                         743.0   \n",
       "11883005                         705.0                         705.0   \n",
       "\n",
       "         away_team_history_league_id_4 away_team_history_league_id_5  \\\n",
       "id                                                                     \n",
       "11906497                         636.0                         636.0   \n",
       "11984383                         752.0                         752.0   \n",
       "11983301                         734.0                         734.0   \n",
       "11983471                         743.0                         743.0   \n",
       "11883005                         705.0                         705.0   \n",
       "\n",
       "         away_team_history_league_id_6 away_team_history_league_id_7  \\\n",
       "id                                                                     \n",
       "11906497                        1122.0                         636.0   \n",
       "11984383                         752.0                         752.0   \n",
       "11983301                         734.0                         734.0   \n",
       "11983471                         743.0                         743.0   \n",
       "11883005                         705.0                         705.0   \n",
       "\n",
       "         away_team_history_league_id_8 away_team_history_league_id_9  \\\n",
       "id                                                                     \n",
       "11906497                         642.0                         636.0   \n",
       "11984383                         752.0                         752.0   \n",
       "11983301                         734.0                         734.0   \n",
       "11983471                         743.0                         746.0   \n",
       "11883005                         705.0                         705.0   \n",
       "\n",
       "          away_team_history_league_id_10  \n",
       "id                                        \n",
       "11906497                          1122.0  \n",
       "11984383                           752.0  \n",
       "11983301                           734.0  \n",
       "11983471                           743.0  \n",
       "11883005                           705.0  \n",
       "\n",
       "[5 rows x 189 columns]"
      ]
     },
     "execution_count": 6,
     "metadata": {},
     "output_type": "execute_result"
    }
   ],
   "source": [
    "train_df.set_index(keys='id', inplace=True)\n",
    "test_df.set_index(keys='id', inplace=True) \n",
    "train_df.head() "
   ]
  },
  {
   "cell_type": "markdown",
   "metadata": {
    "id": "JgnzFQeME7sU"
   },
   "source": [
    "For `train_target_score_df`, do the same with the line name as id and label encoding for `'target'`"
   ]
  },
  {
   "cell_type": "code",
   "execution_count": 7,
   "metadata": {
    "colab": {
     "base_uri": "https://localhost:8080/"
    },
    "execution": {
     "iopub.execute_input": "2022-04-18T14:20:56.563281Z",
     "iopub.status.busy": "2022-04-18T14:20:56.562863Z",
     "iopub.status.idle": "2022-04-18T14:20:56.583084Z",
     "shell.execute_reply": "2022-04-18T14:20:56.582135Z",
     "shell.execute_reply.started": "2022-04-18T14:20:56.563242Z"
    },
    "id": "6jlmDeakE7sU",
    "outputId": "caba5260-f988-464e-dc76-68138d45ae5a"
   },
   "outputs": [
    {
     "data": {
      "text/plain": [
       "id\n",
       "11906497    2\n",
       "11984383    0\n",
       "11983301    1\n",
       "11983471    2\n",
       "11883005    0\n",
       "Name: target, dtype: int64"
      ]
     },
     "execution_count": 7,
     "metadata": {},
     "output_type": "execute_result"
    }
   ],
   "source": [
    "train_target_score_df.set_index(keys='id', inplace=True)\n",
    "train_target_score_df = train_target_score_df['target'].map({'home': 0, 'draw': 1, 'away': 2})\n",
    "train_target_score_df.head()"
   ]
  },
  {
   "cell_type": "markdown",
   "metadata": {
    "id": "WcKSeOHhE7sV"
   },
   "source": [
    "Here, visualize the relationship between target and other features using *`seaborn`*  \n",
    "*  Target and league_id do not correlate\n",
    "*  Targets and rating are slightly correlate\n",
    "  .\n",
    "  ."
   ]
  },
  {
   "cell_type": "code",
   "execution_count": 9,
   "metadata": {
    "colab": {
     "base_uri": "https://localhost:8080/",
     "height": 465
    },
    "execution": {
     "iopub.execute_input": "2022-04-18T14:20:59.533307Z",
     "iopub.status.busy": "2022-04-18T14:20:59.532999Z",
     "iopub.status.idle": "2022-04-18T14:21:00.173804Z",
     "shell.execute_reply": "2022-04-18T14:21:00.172829Z",
     "shell.execute_reply.started": "2022-04-18T14:20:59.533277Z"
    },
    "id": "CRPsO4FfE7sV",
    "outputId": "7766bbe4-7a5f-40e8-9792-14710b348e1b"
   },
   "outputs": [
    {
     "name": "stdout",
     "output_type": "stream",
     "text": [
      "['home_team_history_goal_1', 'home_team_history_goal_2', 'home_team_history_goal_3', 'home_team_history_goal_4', 'home_team_history_goal_5', 'home_team_history_goal_6', 'home_team_history_goal_7', 'home_team_history_goal_8', 'home_team_history_goal_9', 'home_team_history_goal_10']\n"
     ]
    },
    {
     "data": {
      "text/plain": [
       "<AxesSubplot:>"
      ]
     },
     "execution_count": 9,
     "metadata": {},
     "output_type": "execute_result"
    },
    {
     "data": {
      "image/png": "[encoded data removed]",
      "text/plain": [
       "<Figure size 432x288 with 2 Axes>"
      ]
     },
     "metadata": {
      "needs_background": "light"
     },
     "output_type": "display_data"
    }
   ],
   "source": [
    "### Please change to the column that interests you. (ex)'home_team_history_rating' \n",
    "target_columns = 'home_team_history_goal'\n",
    "###\n",
    "cols = []\n",
    "for col in train_df.filter(regex=target_columns, axis=1).columns:\n",
    "    cols.append(col)\n",
    "print(cols)\n",
    "corr = pd.concat([train_df[cols],train_target_score_df], axis=1).corr()\n",
    "sns.heatmap(corr)"
   ]
  },
  {
   "cell_type": "markdown",
   "metadata": {
    "id": "LfnT3p5GE7sV"
   },
   "source": [
    "## Features\n",
    "Next, finding and observing the features"
   ]
  },
  {
   "cell_type": "markdown",
   "metadata": {
    "id": "WBb6ViZ2E7sV"
   },
   "source": [
    "First, except for the correct labels in `train_df`, combine with `test_df` for simultaneous processing"
   ]
  },
  {
   "cell_type": "code",
   "execution_count": 9,
   "metadata": {
    "colab": {
     "base_uri": "https://localhost:8080/",
     "height": 418
    },
    "execution": {
     "iopub.execute_input": "2022-04-18T14:21:04.443631Z",
     "iopub.status.busy": "2022-04-18T14:21:04.443333Z",
     "iopub.status.idle": "2022-04-18T14:21:04.551741Z",
     "shell.execute_reply": "2022-04-18T14:21:04.550826Z",
     "shell.execute_reply.started": "2022-04-18T14:21:04.443601Z"
    },
    "id": "3czTpo3DE7sW",
    "outputId": "e7ce4088-0a2b-4c6a-a80f-df6ef5e12696"
   },
   "outputs": [
    {
     "data": {
      "text/html": [
       "<div>\n",
       "<style scoped>\n",
       "    .dataframe tbody tr th:only-of-type {\n",
       "        vertical-align: middle;\n",
       "    }\n",
       "\n",
       "    .dataframe tbody tr th {\n",
       "        vertical-align: top;\n",
       "    }\n",
       "\n",
       "    .dataframe thead th {\n",
       "        text-align: right;\n",
       "    }\n",
       "</style>\n",
       "<table border=\"1\" class=\"dataframe\">\n",
       "  <thead>\n",
       "    <tr style=\"text-align: right;\">\n",
       "      <th></th>\n",
       "      <th>home_team_name</th>\n",
       "      <th>away_team_name</th>\n",
       "      <th>match_date</th>\n",
       "      <th>league_name</th>\n",
       "      <th>league_id</th>\n",
       "      <th>is_cup</th>\n",
       "      <th>home_team_coach_id</th>\n",
       "      <th>away_team_coach_id</th>\n",
       "      <th>home_team_history_match_date_1</th>\n",
       "      <th>home_team_history_match_date_2</th>\n",
       "      <th>...</th>\n",
       "      <th>away_team_history_league_id_1</th>\n",
       "      <th>away_team_history_league_id_2</th>\n",
       "      <th>away_team_history_league_id_3</th>\n",
       "      <th>away_team_history_league_id_4</th>\n",
       "      <th>away_team_history_league_id_5</th>\n",
       "      <th>away_team_history_league_id_6</th>\n",
       "      <th>away_team_history_league_id_7</th>\n",
       "      <th>away_team_history_league_id_8</th>\n",
       "      <th>away_team_history_league_id_9</th>\n",
       "      <th>away_team_history_league_id_10</th>\n",
       "    </tr>\n",
       "    <tr>\n",
       "      <th>id</th>\n",
       "      <th></th>\n",
       "      <th></th>\n",
       "      <th></th>\n",
       "      <th></th>\n",
       "      <th></th>\n",
       "      <th></th>\n",
       "      <th></th>\n",
       "      <th></th>\n",
       "      <th></th>\n",
       "      <th></th>\n",
       "      <th></th>\n",
       "      <th></th>\n",
       "      <th></th>\n",
       "      <th></th>\n",
       "      <th></th>\n",
       "      <th></th>\n",
       "      <th></th>\n",
       "      <th></th>\n",
       "      <th></th>\n",
       "      <th></th>\n",
       "      <th></th>\n",
       "    </tr>\n",
       "  </thead>\n",
       "  <tbody>\n",
       "    <tr>\n",
       "      <th>11906497</th>\n",
       "      <td>Newell's Old Boys</td>\n",
       "      <td>River Plate</td>\n",
       "      <td>2019-12-01 00:45:00</td>\n",
       "      <td>Superliga</td>\n",
       "      <td>636</td>\n",
       "      <td>False</td>\n",
       "      <td>468196.0</td>\n",
       "      <td>468200.0</td>\n",
       "      <td>2019-11-26 00:10:00</td>\n",
       "      <td>2019-11-10 18:30:00</td>\n",
       "      <td>...</td>\n",
       "      <td>1122.0</td>\n",
       "      <td>642.0</td>\n",
       "      <td>636.0</td>\n",
       "      <td>636.0</td>\n",
       "      <td>636.0</td>\n",
       "      <td>1122.0</td>\n",
       "      <td>636.0</td>\n",
       "      <td>642.0</td>\n",
       "      <td>636.0</td>\n",
       "      <td>1122.0</td>\n",
       "    </tr>\n",
       "    <tr>\n",
       "      <th>11984383</th>\n",
       "      <td>Real Estelí</td>\n",
       "      <td>Deportivo Las Sabanas</td>\n",
       "      <td>2019-12-01 01:00:00</td>\n",
       "      <td>Primera Division</td>\n",
       "      <td>752</td>\n",
       "      <td>False</td>\n",
       "      <td>516788.0</td>\n",
       "      <td>22169161.0</td>\n",
       "      <td>2019-11-27 21:00:00</td>\n",
       "      <td>2019-11-24 01:00:00</td>\n",
       "      <td>...</td>\n",
       "      <td>752.0</td>\n",
       "      <td>752.0</td>\n",
       "      <td>752.0</td>\n",
       "      <td>752.0</td>\n",
       "      <td>752.0</td>\n",
       "      <td>752.0</td>\n",
       "      <td>752.0</td>\n",
       "      <td>752.0</td>\n",
       "      <td>752.0</td>\n",
       "      <td>752.0</td>\n",
       "    </tr>\n",
       "    <tr>\n",
       "      <th>11983301</th>\n",
       "      <td>UPNFM</td>\n",
       "      <td>Marathón</td>\n",
       "      <td>2019-12-01 01:00:00</td>\n",
       "      <td>Liga Nacional</td>\n",
       "      <td>734</td>\n",
       "      <td>False</td>\n",
       "      <td>2510608.0</td>\n",
       "      <td>456313.0</td>\n",
       "      <td>2019-11-28 01:15:00</td>\n",
       "      <td>2019-11-21 01:30:00</td>\n",
       "      <td>...</td>\n",
       "      <td>734.0</td>\n",
       "      <td>734.0</td>\n",
       "      <td>734.0</td>\n",
       "      <td>734.0</td>\n",
       "      <td>734.0</td>\n",
       "      <td>734.0</td>\n",
       "      <td>734.0</td>\n",
       "      <td>734.0</td>\n",
       "      <td>734.0</td>\n",
       "      <td>734.0</td>\n",
       "    </tr>\n",
       "    <tr>\n",
       "      <th>11983471</th>\n",
       "      <td>León</td>\n",
       "      <td>Morelia</td>\n",
       "      <td>2019-12-01 01:00:00</td>\n",
       "      <td>Liga MX</td>\n",
       "      <td>743</td>\n",
       "      <td>False</td>\n",
       "      <td>1552508.0</td>\n",
       "      <td>465797.0</td>\n",
       "      <td>2019-11-28 01:00:00</td>\n",
       "      <td>2019-11-23 03:10:00</td>\n",
       "      <td>...</td>\n",
       "      <td>743.0</td>\n",
       "      <td>743.0</td>\n",
       "      <td>743.0</td>\n",
       "      <td>743.0</td>\n",
       "      <td>743.0</td>\n",
       "      <td>743.0</td>\n",
       "      <td>743.0</td>\n",
       "      <td>743.0</td>\n",
       "      <td>746.0</td>\n",
       "      <td>743.0</td>\n",
       "    </tr>\n",
       "    <tr>\n",
       "      <th>11883005</th>\n",
       "      <td>Cobán Imperial</td>\n",
       "      <td>Iztapa</td>\n",
       "      <td>2019-12-01 01:00:00</td>\n",
       "      <td>Liga Nacional</td>\n",
       "      <td>705</td>\n",
       "      <td>False</td>\n",
       "      <td>429958.0</td>\n",
       "      <td>426870.0</td>\n",
       "      <td>2019-11-27 18:00:00</td>\n",
       "      <td>2019-11-24 01:00:00</td>\n",
       "      <td>...</td>\n",
       "      <td>705.0</td>\n",
       "      <td>705.0</td>\n",
       "      <td>705.0</td>\n",
       "      <td>705.0</td>\n",
       "      <td>705.0</td>\n",
       "      <td>705.0</td>\n",
       "      <td>705.0</td>\n",
       "      <td>705.0</td>\n",
       "      <td>705.0</td>\n",
       "      <td>705.0</td>\n",
       "    </tr>\n",
       "  </tbody>\n",
       "</table>\n",
       "<p>5 rows × 188 columns</p>\n",
       "</div>"
      ],
      "text/plain": [
       "             home_team_name         away_team_name           match_date  \\\n",
       "id                                                                        \n",
       "11906497  Newell's Old Boys            River Plate  2019-12-01 00:45:00   \n",
       "11984383        Real Estelí  Deportivo Las Sabanas  2019-12-01 01:00:00   \n",
       "11983301              UPNFM               Marathón  2019-12-01 01:00:00   \n",
       "11983471               León                Morelia  2019-12-01 01:00:00   \n",
       "11883005     Cobán Imperial                 Iztapa  2019-12-01 01:00:00   \n",
       "\n",
       "               league_name  league_id is_cup  home_team_coach_id  \\\n",
       "id                                                                 \n",
       "11906497         Superliga        636  False            468196.0   \n",
       "11984383  Primera Division        752  False            516788.0   \n",
       "11983301     Liga Nacional        734  False           2510608.0   \n",
       "11983471           Liga MX        743  False           1552508.0   \n",
       "11883005     Liga Nacional        705  False            429958.0   \n",
       "\n",
       "          away_team_coach_id home_team_history_match_date_1  \\\n",
       "id                                                            \n",
       "11906497            468200.0            2019-11-26 00:10:00   \n",
       "11984383          22169161.0            2019-11-27 21:00:00   \n",
       "11983301            456313.0            2019-11-28 01:15:00   \n",
       "11983471            465797.0            2019-11-28 01:00:00   \n",
       "11883005            426870.0            2019-11-27 18:00:00   \n",
       "\n",
       "         home_team_history_match_date_2  ... away_team_history_league_id_1  \\\n",
       "id                                       ...                                 \n",
       "11906497            2019-11-10 18:30:00  ...                        1122.0   \n",
       "11984383            2019-11-24 01:00:00  ...                         752.0   \n",
       "11983301            2019-11-21 01:30:00  ...                         734.0   \n",
       "11983471            2019-11-23 03:10:00  ...                         743.0   \n",
       "11883005            2019-11-24 01:00:00  ...                         705.0   \n",
       "\n",
       "         away_team_history_league_id_2 away_team_history_league_id_3  \\\n",
       "id                                                                     \n",
       "11906497                         642.0                         636.0   \n",
       "11984383                         752.0                         752.0   \n",
       "11983301                         734.0                         734.0   \n",
       "11983471                         743.0                         743.0   \n",
       "11883005                         705.0                         705.0   \n",
       "\n",
       "         away_team_history_league_id_4 away_team_history_league_id_5  \\\n",
       "id                                                                     \n",
       "11906497                         636.0                         636.0   \n",
       "11984383                         752.0                         752.0   \n",
       "11983301                         734.0                         734.0   \n",
       "11983471                         743.0                         743.0   \n",
       "11883005                         705.0                         705.0   \n",
       "\n",
       "         away_team_history_league_id_6 away_team_history_league_id_7  \\\n",
       "id                                                                     \n",
       "11906497                        1122.0                         636.0   \n",
       "11984383                         752.0                         752.0   \n",
       "11983301                         734.0                         734.0   \n",
       "11983471                         743.0                         743.0   \n",
       "11883005                         705.0                         705.0   \n",
       "\n",
       "         away_team_history_league_id_8  away_team_history_league_id_9  \\\n",
       "id                                                                      \n",
       "11906497                         642.0                          636.0   \n",
       "11984383                         752.0                          752.0   \n",
       "11983301                         734.0                          734.0   \n",
       "11983471                         743.0                          746.0   \n",
       "11883005                         705.0                          705.0   \n",
       "\n",
       "          away_team_history_league_id_10  \n",
       "id                                        \n",
       "11906497                          1122.0  \n",
       "11984383                           752.0  \n",
       "11983301                           734.0  \n",
       "11983471                           743.0  \n",
       "11883005                           705.0  \n",
       "\n",
       "[5 rows x 188 columns]"
      ]
     },
     "execution_count": 9,
     "metadata": {},
     "output_type": "execute_result"
    }
   ],
   "source": [
    "# Only correct labels should be separated.\n",
    "train_df_y = train_df['target']\n",
    "train_df.drop(['target'], axis=1, inplace=True) \n",
    "train_df.head()"
   ]
  },
  {
   "cell_type": "code",
   "execution_count": 10,
   "metadata": {
    "colab": {
     "base_uri": "https://localhost:8080/",
     "height": 435
    },
    "execution": {
     "iopub.execute_input": "2022-04-18T14:21:06.193841Z",
     "iopub.status.busy": "2022-04-18T14:21:06.193516Z",
     "iopub.status.idle": "2022-04-18T14:21:06.459632Z",
     "shell.execute_reply": "2022-04-18T14:21:06.458595Z",
     "shell.execute_reply.started": "2022-04-18T14:21:06.193807Z"
    },
    "id": "smYWNkFIE7sW",
    "outputId": "36b10459-4105-412f-ab41-ca80b8b1dbe8",
    "scrolled": true
   },
   "outputs": [
    {
     "name": "stdout",
     "output_type": "stream",
     "text": [
      "(183649, 188)\n"
     ]
    },
    {
     "data": {
      "text/html": [
       "<div>\n",
       "<style scoped>\n",
       "    .dataframe tbody tr th:only-of-type {\n",
       "        vertical-align: middle;\n",
       "    }\n",
       "\n",
       "    .dataframe tbody tr th {\n",
       "        vertical-align: top;\n",
       "    }\n",
       "\n",
       "    .dataframe thead th {\n",
       "        text-align: right;\n",
       "    }\n",
       "</style>\n",
       "<table border=\"1\" class=\"dataframe\">\n",
       "  <thead>\n",
       "    <tr style=\"text-align: right;\">\n",
       "      <th></th>\n",
       "      <th>home_team_name</th>\n",
       "      <th>away_team_name</th>\n",
       "      <th>match_date</th>\n",
       "      <th>league_name</th>\n",
       "      <th>league_id</th>\n",
       "      <th>is_cup</th>\n",
       "      <th>home_team_coach_id</th>\n",
       "      <th>away_team_coach_id</th>\n",
       "      <th>home_team_history_match_date_1</th>\n",
       "      <th>home_team_history_match_date_2</th>\n",
       "      <th>...</th>\n",
       "      <th>away_team_history_league_id_1</th>\n",
       "      <th>away_team_history_league_id_2</th>\n",
       "      <th>away_team_history_league_id_3</th>\n",
       "      <th>away_team_history_league_id_4</th>\n",
       "      <th>away_team_history_league_id_5</th>\n",
       "      <th>away_team_history_league_id_6</th>\n",
       "      <th>away_team_history_league_id_7</th>\n",
       "      <th>away_team_history_league_id_8</th>\n",
       "      <th>away_team_history_league_id_9</th>\n",
       "      <th>away_team_history_league_id_10</th>\n",
       "    </tr>\n",
       "    <tr>\n",
       "      <th>id</th>\n",
       "      <th></th>\n",
       "      <th></th>\n",
       "      <th></th>\n",
       "      <th></th>\n",
       "      <th></th>\n",
       "      <th></th>\n",
       "      <th></th>\n",
       "      <th></th>\n",
       "      <th></th>\n",
       "      <th></th>\n",
       "      <th></th>\n",
       "      <th></th>\n",
       "      <th></th>\n",
       "      <th></th>\n",
       "      <th></th>\n",
       "      <th></th>\n",
       "      <th></th>\n",
       "      <th></th>\n",
       "      <th></th>\n",
       "      <th></th>\n",
       "      <th></th>\n",
       "    </tr>\n",
       "  </thead>\n",
       "  <tbody>\n",
       "    <tr>\n",
       "      <th>11906497</th>\n",
       "      <td>Newell's Old Boys</td>\n",
       "      <td>River Plate</td>\n",
       "      <td>2019-12-01 00:45:00</td>\n",
       "      <td>Superliga</td>\n",
       "      <td>636</td>\n",
       "      <td>False</td>\n",
       "      <td>468196.0</td>\n",
       "      <td>468200.0</td>\n",
       "      <td>2019-11-26 00:10:00</td>\n",
       "      <td>2019-11-10 18:30:00</td>\n",
       "      <td>...</td>\n",
       "      <td>1122.0</td>\n",
       "      <td>642.0</td>\n",
       "      <td>636.0</td>\n",
       "      <td>636.0</td>\n",
       "      <td>636.0</td>\n",
       "      <td>1122.0</td>\n",
       "      <td>636.0</td>\n",
       "      <td>642.0</td>\n",
       "      <td>636.0</td>\n",
       "      <td>1122.0</td>\n",
       "    </tr>\n",
       "    <tr>\n",
       "      <th>11984383</th>\n",
       "      <td>Real Estelí</td>\n",
       "      <td>Deportivo Las Sabanas</td>\n",
       "      <td>2019-12-01 01:00:00</td>\n",
       "      <td>Primera Division</td>\n",
       "      <td>752</td>\n",
       "      <td>False</td>\n",
       "      <td>516788.0</td>\n",
       "      <td>22169161.0</td>\n",
       "      <td>2019-11-27 21:00:00</td>\n",
       "      <td>2019-11-24 01:00:00</td>\n",
       "      <td>...</td>\n",
       "      <td>752.0</td>\n",
       "      <td>752.0</td>\n",
       "      <td>752.0</td>\n",
       "      <td>752.0</td>\n",
       "      <td>752.0</td>\n",
       "      <td>752.0</td>\n",
       "      <td>752.0</td>\n",
       "      <td>752.0</td>\n",
       "      <td>752.0</td>\n",
       "      <td>752.0</td>\n",
       "    </tr>\n",
       "    <tr>\n",
       "      <th>11983301</th>\n",
       "      <td>UPNFM</td>\n",
       "      <td>Marathón</td>\n",
       "      <td>2019-12-01 01:00:00</td>\n",
       "      <td>Liga Nacional</td>\n",
       "      <td>734</td>\n",
       "      <td>False</td>\n",
       "      <td>2510608.0</td>\n",
       "      <td>456313.0</td>\n",
       "      <td>2019-11-28 01:15:00</td>\n",
       "      <td>2019-11-21 01:30:00</td>\n",
       "      <td>...</td>\n",
       "      <td>734.0</td>\n",
       "      <td>734.0</td>\n",
       "      <td>734.0</td>\n",
       "      <td>734.0</td>\n",
       "      <td>734.0</td>\n",
       "      <td>734.0</td>\n",
       "      <td>734.0</td>\n",
       "      <td>734.0</td>\n",
       "      <td>734.0</td>\n",
       "      <td>734.0</td>\n",
       "    </tr>\n",
       "    <tr>\n",
       "      <th>11983471</th>\n",
       "      <td>León</td>\n",
       "      <td>Morelia</td>\n",
       "      <td>2019-12-01 01:00:00</td>\n",
       "      <td>Liga MX</td>\n",
       "      <td>743</td>\n",
       "      <td>False</td>\n",
       "      <td>1552508.0</td>\n",
       "      <td>465797.0</td>\n",
       "      <td>2019-11-28 01:00:00</td>\n",
       "      <td>2019-11-23 03:10:00</td>\n",
       "      <td>...</td>\n",
       "      <td>743.0</td>\n",
       "      <td>743.0</td>\n",
       "      <td>743.0</td>\n",
       "      <td>743.0</td>\n",
       "      <td>743.0</td>\n",
       "      <td>743.0</td>\n",
       "      <td>743.0</td>\n",
       "      <td>743.0</td>\n",
       "      <td>746.0</td>\n",
       "      <td>743.0</td>\n",
       "    </tr>\n",
       "    <tr>\n",
       "      <th>11883005</th>\n",
       "      <td>Cobán Imperial</td>\n",
       "      <td>Iztapa</td>\n",
       "      <td>2019-12-01 01:00:00</td>\n",
       "      <td>Liga Nacional</td>\n",
       "      <td>705</td>\n",
       "      <td>False</td>\n",
       "      <td>429958.0</td>\n",
       "      <td>426870.0</td>\n",
       "      <td>2019-11-27 18:00:00</td>\n",
       "      <td>2019-11-24 01:00:00</td>\n",
       "      <td>...</td>\n",
       "      <td>705.0</td>\n",
       "      <td>705.0</td>\n",
       "      <td>705.0</td>\n",
       "      <td>705.0</td>\n",
       "      <td>705.0</td>\n",
       "      <td>705.0</td>\n",
       "      <td>705.0</td>\n",
       "      <td>705.0</td>\n",
       "      <td>705.0</td>\n",
       "      <td>705.0</td>\n",
       "    </tr>\n",
       "  </tbody>\n",
       "</table>\n",
       "<p>5 rows × 188 columns</p>\n",
       "</div>"
      ],
      "text/plain": [
       "             home_team_name         away_team_name           match_date  \\\n",
       "id                                                                        \n",
       "11906497  Newell's Old Boys            River Plate  2019-12-01 00:45:00   \n",
       "11984383        Real Estelí  Deportivo Las Sabanas  2019-12-01 01:00:00   \n",
       "11983301              UPNFM               Marathón  2019-12-01 01:00:00   \n",
       "11983471               León                Morelia  2019-12-01 01:00:00   \n",
       "11883005     Cobán Imperial                 Iztapa  2019-12-01 01:00:00   \n",
       "\n",
       "               league_name  league_id is_cup  home_team_coach_id  \\\n",
       "id                                                                 \n",
       "11906497         Superliga        636  False            468196.0   \n",
       "11984383  Primera Division        752  False            516788.0   \n",
       "11983301     Liga Nacional        734  False           2510608.0   \n",
       "11983471           Liga MX        743  False           1552508.0   \n",
       "11883005     Liga Nacional        705  False            429958.0   \n",
       "\n",
       "          away_team_coach_id home_team_history_match_date_1  \\\n",
       "id                                                            \n",
       "11906497            468200.0            2019-11-26 00:10:00   \n",
       "11984383          22169161.0            2019-11-27 21:00:00   \n",
       "11983301            456313.0            2019-11-28 01:15:00   \n",
       "11983471            465797.0            2019-11-28 01:00:00   \n",
       "11883005            426870.0            2019-11-27 18:00:00   \n",
       "\n",
       "         home_team_history_match_date_2  ... away_team_history_league_id_1  \\\n",
       "id                                       ...                                 \n",
       "11906497            2019-11-10 18:30:00  ...                        1122.0   \n",
       "11984383            2019-11-24 01:00:00  ...                         752.0   \n",
       "11983301            2019-11-21 01:30:00  ...                         734.0   \n",
       "11983471            2019-11-23 03:10:00  ...                         743.0   \n",
       "11883005            2019-11-24 01:00:00  ...                         705.0   \n",
       "\n",
       "         away_team_history_league_id_2 away_team_history_league_id_3  \\\n",
       "id                                                                     \n",
       "11906497                         642.0                         636.0   \n",
       "11984383                         752.0                         752.0   \n",
       "11983301                         734.0                         734.0   \n",
       "11983471                         743.0                         743.0   \n",
       "11883005                         705.0                         705.0   \n",
       "\n",
       "         away_team_history_league_id_4 away_team_history_league_id_5  \\\n",
       "id                                                                     \n",
       "11906497                         636.0                         636.0   \n",
       "11984383                         752.0                         752.0   \n",
       "11983301                         734.0                         734.0   \n",
       "11983471                         743.0                         743.0   \n",
       "11883005                         705.0                         705.0   \n",
       "\n",
       "         away_team_history_league_id_6 away_team_history_league_id_7  \\\n",
       "id                                                                     \n",
       "11906497                        1122.0                         636.0   \n",
       "11984383                         752.0                         752.0   \n",
       "11983301                         734.0                         734.0   \n",
       "11983471                         743.0                         743.0   \n",
       "11883005                         705.0                         705.0   \n",
       "\n",
       "         away_team_history_league_id_8  away_team_history_league_id_9  \\\n",
       "id                                                                      \n",
       "11906497                         642.0                          636.0   \n",
       "11984383                         752.0                          752.0   \n",
       "11983301                         734.0                          734.0   \n",
       "11983471                         743.0                          746.0   \n",
       "11883005                         705.0                          705.0   \n",
       "\n",
       "          away_team_history_league_id_10  \n",
       "id                                        \n",
       "11906497                          1122.0  \n",
       "11984383                           752.0  \n",
       "11983301                           734.0  \n",
       "11983471                           743.0  \n",
       "11883005                           705.0  \n",
       "\n",
       "[5 rows x 188 columns]"
      ]
     },
     "execution_count": 10,
     "metadata": {},
     "output_type": "execute_result"
    }
   ],
   "source": [
    "# Combine train_df and test_df\n",
    "ntrain = train_df.shape[0]\n",
    "all_data = pd.concat((train_df, test_df))\n",
    "print(all_data.shape)\n",
    "all_data.head()"
   ]
  },
  {
   "cell_type": "markdown",
   "metadata": {
    "id": "lQQOZ4I1E7sW"
   },
   "source": [
    "Remove date, team_name and coach as they are not used."
   ]
  },
  {
   "cell_type": "code",
   "execution_count": 11,
   "metadata": {
    "colab": {
     "base_uri": "https://localhost:8080/",
     "height": 331
    },
    "execution": {
     "iopub.execute_input": "2022-04-18T14:21:07.883013Z",
     "iopub.status.busy": "2022-04-18T14:21:07.882723Z",
     "iopub.status.idle": "2022-04-18T14:21:08.625267Z",
     "shell.execute_reply": "2022-04-18T14:21:08.624316Z",
     "shell.execute_reply.started": "2022-04-18T14:21:07.882985Z"
    },
    "id": "lH3RhOJnE7sW",
    "outputId": "5433fa12-b316-4fd5-9411-29b294658fd2"
   },
   "outputs": [
    {
     "data": {
      "text/html": [
       "<div>\n",
       "<style scoped>\n",
       "    .dataframe tbody tr th:only-of-type {\n",
       "        vertical-align: middle;\n",
       "    }\n",
       "\n",
       "    .dataframe tbody tr th {\n",
       "        vertical-align: top;\n",
       "    }\n",
       "\n",
       "    .dataframe thead th {\n",
       "        text-align: right;\n",
       "    }\n",
       "</style>\n",
       "<table border=\"1\" class=\"dataframe\">\n",
       "  <thead>\n",
       "    <tr style=\"text-align: right;\">\n",
       "      <th></th>\n",
       "      <th>league_id</th>\n",
       "      <th>is_cup</th>\n",
       "      <th>home_team_history_is_play_home_1</th>\n",
       "      <th>home_team_history_is_play_home_2</th>\n",
       "      <th>home_team_history_is_play_home_3</th>\n",
       "      <th>home_team_history_is_play_home_4</th>\n",
       "      <th>home_team_history_is_play_home_5</th>\n",
       "      <th>home_team_history_is_play_home_6</th>\n",
       "      <th>home_team_history_is_play_home_7</th>\n",
       "      <th>home_team_history_is_play_home_8</th>\n",
       "      <th>...</th>\n",
       "      <th>away_team_history_league_id_1</th>\n",
       "      <th>away_team_history_league_id_2</th>\n",
       "      <th>away_team_history_league_id_3</th>\n",
       "      <th>away_team_history_league_id_4</th>\n",
       "      <th>away_team_history_league_id_5</th>\n",
       "      <th>away_team_history_league_id_6</th>\n",
       "      <th>away_team_history_league_id_7</th>\n",
       "      <th>away_team_history_league_id_8</th>\n",
       "      <th>away_team_history_league_id_9</th>\n",
       "      <th>away_team_history_league_id_10</th>\n",
       "    </tr>\n",
       "    <tr>\n",
       "      <th>id</th>\n",
       "      <th></th>\n",
       "      <th></th>\n",
       "      <th></th>\n",
       "      <th></th>\n",
       "      <th></th>\n",
       "      <th></th>\n",
       "      <th></th>\n",
       "      <th></th>\n",
       "      <th></th>\n",
       "      <th></th>\n",
       "      <th></th>\n",
       "      <th></th>\n",
       "      <th></th>\n",
       "      <th></th>\n",
       "      <th></th>\n",
       "      <th></th>\n",
       "      <th></th>\n",
       "      <th></th>\n",
       "      <th></th>\n",
       "      <th></th>\n",
       "      <th></th>\n",
       "    </tr>\n",
       "  </thead>\n",
       "  <tbody>\n",
       "    <tr>\n",
       "      <th>11906497</th>\n",
       "      <td>636</td>\n",
       "      <td>False</td>\n",
       "      <td>0.0</td>\n",
       "      <td>1.0</td>\n",
       "      <td>0.0</td>\n",
       "      <td>1.0</td>\n",
       "      <td>0.0</td>\n",
       "      <td>1.0</td>\n",
       "      <td>0.0</td>\n",
       "      <td>1.0</td>\n",
       "      <td>...</td>\n",
       "      <td>1122.0</td>\n",
       "      <td>642.0</td>\n",
       "      <td>636.0</td>\n",
       "      <td>636.0</td>\n",
       "      <td>636.0</td>\n",
       "      <td>1122.0</td>\n",
       "      <td>636.0</td>\n",
       "      <td>642.0</td>\n",
       "      <td>636.0</td>\n",
       "      <td>1122.0</td>\n",
       "    </tr>\n",
       "    <tr>\n",
       "      <th>11984383</th>\n",
       "      <td>752</td>\n",
       "      <td>False</td>\n",
       "      <td>1.0</td>\n",
       "      <td>0.0</td>\n",
       "      <td>1.0</td>\n",
       "      <td>0.0</td>\n",
       "      <td>1.0</td>\n",
       "      <td>1.0</td>\n",
       "      <td>0.0</td>\n",
       "      <td>1.0</td>\n",
       "      <td>...</td>\n",
       "      <td>752.0</td>\n",
       "      <td>752.0</td>\n",
       "      <td>752.0</td>\n",
       "      <td>752.0</td>\n",
       "      <td>752.0</td>\n",
       "      <td>752.0</td>\n",
       "      <td>752.0</td>\n",
       "      <td>752.0</td>\n",
       "      <td>752.0</td>\n",
       "      <td>752.0</td>\n",
       "    </tr>\n",
       "    <tr>\n",
       "      <th>11983301</th>\n",
       "      <td>734</td>\n",
       "      <td>False</td>\n",
       "      <td>0.0</td>\n",
       "      <td>1.0</td>\n",
       "      <td>0.0</td>\n",
       "      <td>1.0</td>\n",
       "      <td>0.0</td>\n",
       "      <td>1.0</td>\n",
       "      <td>0.0</td>\n",
       "      <td>1.0</td>\n",
       "      <td>...</td>\n",
       "      <td>734.0</td>\n",
       "      <td>734.0</td>\n",
       "      <td>734.0</td>\n",
       "      <td>734.0</td>\n",
       "      <td>734.0</td>\n",
       "      <td>734.0</td>\n",
       "      <td>734.0</td>\n",
       "      <td>734.0</td>\n",
       "      <td>734.0</td>\n",
       "      <td>734.0</td>\n",
       "    </tr>\n",
       "    <tr>\n",
       "      <th>11983471</th>\n",
       "      <td>743</td>\n",
       "      <td>False</td>\n",
       "      <td>0.0</td>\n",
       "      <td>0.0</td>\n",
       "      <td>1.0</td>\n",
       "      <td>1.0</td>\n",
       "      <td>0.0</td>\n",
       "      <td>1.0</td>\n",
       "      <td>0.0</td>\n",
       "      <td>1.0</td>\n",
       "      <td>...</td>\n",
       "      <td>743.0</td>\n",
       "      <td>743.0</td>\n",
       "      <td>743.0</td>\n",
       "      <td>743.0</td>\n",
       "      <td>743.0</td>\n",
       "      <td>743.0</td>\n",
       "      <td>743.0</td>\n",
       "      <td>743.0</td>\n",
       "      <td>746.0</td>\n",
       "      <td>743.0</td>\n",
       "    </tr>\n",
       "    <tr>\n",
       "      <th>11883005</th>\n",
       "      <td>705</td>\n",
       "      <td>False</td>\n",
       "      <td>0.0</td>\n",
       "      <td>1.0</td>\n",
       "      <td>0.0</td>\n",
       "      <td>1.0</td>\n",
       "      <td>0.0</td>\n",
       "      <td>1.0</td>\n",
       "      <td>0.0</td>\n",
       "      <td>1.0</td>\n",
       "      <td>...</td>\n",
       "      <td>705.0</td>\n",
       "      <td>705.0</td>\n",
       "      <td>705.0</td>\n",
       "      <td>705.0</td>\n",
       "      <td>705.0</td>\n",
       "      <td>705.0</td>\n",
       "      <td>705.0</td>\n",
       "      <td>705.0</td>\n",
       "      <td>705.0</td>\n",
       "      <td>705.0</td>\n",
       "    </tr>\n",
       "  </tbody>\n",
       "</table>\n",
       "<p>5 rows × 142 columns</p>\n",
       "</div>"
      ],
      "text/plain": [
       "          league_id is_cup  home_team_history_is_play_home_1  \\\n",
       "id                                                             \n",
       "11906497        636  False                               0.0   \n",
       "11984383        752  False                               1.0   \n",
       "11983301        734  False                               0.0   \n",
       "11983471        743  False                               0.0   \n",
       "11883005        705  False                               0.0   \n",
       "\n",
       "          home_team_history_is_play_home_2  home_team_history_is_play_home_3  \\\n",
       "id                                                                             \n",
       "11906497                               1.0                               0.0   \n",
       "11984383                               0.0                               1.0   \n",
       "11983301                               1.0                               0.0   \n",
       "11983471                               0.0                               1.0   \n",
       "11883005                               1.0                               0.0   \n",
       "\n",
       "          home_team_history_is_play_home_4  home_team_history_is_play_home_5  \\\n",
       "id                                                                             \n",
       "11906497                               1.0                               0.0   \n",
       "11984383                               0.0                               1.0   \n",
       "11983301                               1.0                               0.0   \n",
       "11983471                               1.0                               0.0   \n",
       "11883005                               1.0                               0.0   \n",
       "\n",
       "          home_team_history_is_play_home_6  home_team_history_is_play_home_7  \\\n",
       "id                                                                             \n",
       "11906497                               1.0                               0.0   \n",
       "11984383                               1.0                               0.0   \n",
       "11983301                               1.0                               0.0   \n",
       "11983471                               1.0                               0.0   \n",
       "11883005                               1.0                               0.0   \n",
       "\n",
       "          home_team_history_is_play_home_8  ...  \\\n",
       "id                                          ...   \n",
       "11906497                               1.0  ...   \n",
       "11984383                               1.0  ...   \n",
       "11983301                               1.0  ...   \n",
       "11983471                               1.0  ...   \n",
       "11883005                               1.0  ...   \n",
       "\n",
       "          away_team_history_league_id_1  away_team_history_league_id_2  \\\n",
       "id                                                                       \n",
       "11906497                         1122.0                          642.0   \n",
       "11984383                          752.0                          752.0   \n",
       "11983301                          734.0                          734.0   \n",
       "11983471                          743.0                          743.0   \n",
       "11883005                          705.0                          705.0   \n",
       "\n",
       "          away_team_history_league_id_3  away_team_history_league_id_4  \\\n",
       "id                                                                       \n",
       "11906497                          636.0                          636.0   \n",
       "11984383                          752.0                          752.0   \n",
       "11983301                          734.0                          734.0   \n",
       "11983471                          743.0                          743.0   \n",
       "11883005                          705.0                          705.0   \n",
       "\n",
       "          away_team_history_league_id_5  away_team_history_league_id_6  \\\n",
       "id                                                                       \n",
       "11906497                          636.0                         1122.0   \n",
       "11984383                          752.0                          752.0   \n",
       "11983301                          734.0                          734.0   \n",
       "11983471                          743.0                          743.0   \n",
       "11883005                          705.0                          705.0   \n",
       "\n",
       "          away_team_history_league_id_7  away_team_history_league_id_8  \\\n",
       "id                                                                       \n",
       "11906497                          636.0                          642.0   \n",
       "11984383                          752.0                          752.0   \n",
       "11983301                          734.0                          734.0   \n",
       "11983471                          743.0                          743.0   \n",
       "11883005                          705.0                          705.0   \n",
       "\n",
       "          away_team_history_league_id_9  away_team_history_league_id_10  \n",
       "id                                                                       \n",
       "11906497                          636.0                          1122.0  \n",
       "11984383                          752.0                           752.0  \n",
       "11983301                          734.0                           734.0  \n",
       "11983471                          746.0                           743.0  \n",
       "11883005                          705.0                           705.0  \n",
       "\n",
       "[5 rows x 142 columns]"
      ]
     },
     "execution_count": 11,
     "metadata": {},
     "output_type": "execute_result"
    }
   ],
   "source": [
    "all_data.drop(['home_team_name', 'away_team_name', 'league_name'], axis=1, inplace=True)\n",
    "all_data.drop(all_data.filter(regex='date').columns, axis=1, inplace = True)\n",
    "all_data.drop(all_data.filter(regex='coach').columns, axis=1, inplace = True)\n",
    "all_data.head()"
   ]
  },
  {
   "cell_type": "markdown",
   "metadata": {
    "id": "EpR8180YE7sX"
   },
   "source": [
    "Convert is_cup to numeric information since is_cup is character information."
   ]
  },
  {
   "cell_type": "code",
   "execution_count": 12,
   "metadata": {
    "colab": {
     "base_uri": "https://localhost:8080/",
     "height": 331
    },
    "execution": {
     "iopub.execute_input": "2022-04-18T14:21:10.643139Z",
     "iopub.status.busy": "2022-04-18T14:21:10.642806Z",
     "iopub.status.idle": "2022-04-18T14:21:10.689376Z",
     "shell.execute_reply": "2022-04-18T14:21:10.688753Z",
     "shell.execute_reply.started": "2022-04-18T14:21:10.643101Z"
    },
    "id": "u3jrohuxE7sX",
    "outputId": "32f091c7-69b7-40e2-c600-f11619891df9"
   },
   "outputs": [
    {
     "data": {
      "text/html": [
       "<div>\n",
       "<style scoped>\n",
       "    .dataframe tbody tr th:only-of-type {\n",
       "        vertical-align: middle;\n",
       "    }\n",
       "\n",
       "    .dataframe tbody tr th {\n",
       "        vertical-align: top;\n",
       "    }\n",
       "\n",
       "    .dataframe thead th {\n",
       "        text-align: right;\n",
       "    }\n",
       "</style>\n",
       "<table border=\"1\" class=\"dataframe\">\n",
       "  <thead>\n",
       "    <tr style=\"text-align: right;\">\n",
       "      <th></th>\n",
       "      <th>league_id</th>\n",
       "      <th>is_cup</th>\n",
       "      <th>home_team_history_is_play_home_1</th>\n",
       "      <th>home_team_history_is_play_home_2</th>\n",
       "      <th>home_team_history_is_play_home_3</th>\n",
       "      <th>home_team_history_is_play_home_4</th>\n",
       "      <th>home_team_history_is_play_home_5</th>\n",
       "      <th>home_team_history_is_play_home_6</th>\n",
       "      <th>home_team_history_is_play_home_7</th>\n",
       "      <th>home_team_history_is_play_home_8</th>\n",
       "      <th>...</th>\n",
       "      <th>away_team_history_league_id_1</th>\n",
       "      <th>away_team_history_league_id_2</th>\n",
       "      <th>away_team_history_league_id_3</th>\n",
       "      <th>away_team_history_league_id_4</th>\n",
       "      <th>away_team_history_league_id_5</th>\n",
       "      <th>away_team_history_league_id_6</th>\n",
       "      <th>away_team_history_league_id_7</th>\n",
       "      <th>away_team_history_league_id_8</th>\n",
       "      <th>away_team_history_league_id_9</th>\n",
       "      <th>away_team_history_league_id_10</th>\n",
       "    </tr>\n",
       "    <tr>\n",
       "      <th>id</th>\n",
       "      <th></th>\n",
       "      <th></th>\n",
       "      <th></th>\n",
       "      <th></th>\n",
       "      <th></th>\n",
       "      <th></th>\n",
       "      <th></th>\n",
       "      <th></th>\n",
       "      <th></th>\n",
       "      <th></th>\n",
       "      <th></th>\n",
       "      <th></th>\n",
       "      <th></th>\n",
       "      <th></th>\n",
       "      <th></th>\n",
       "      <th></th>\n",
       "      <th></th>\n",
       "      <th></th>\n",
       "      <th></th>\n",
       "      <th></th>\n",
       "      <th></th>\n",
       "    </tr>\n",
       "  </thead>\n",
       "  <tbody>\n",
       "    <tr>\n",
       "      <th>11906497</th>\n",
       "      <td>636</td>\n",
       "      <td>0.0</td>\n",
       "      <td>0.0</td>\n",
       "      <td>1.0</td>\n",
       "      <td>0.0</td>\n",
       "      <td>1.0</td>\n",
       "      <td>0.0</td>\n",
       "      <td>1.0</td>\n",
       "      <td>0.0</td>\n",
       "      <td>1.0</td>\n",
       "      <td>...</td>\n",
       "      <td>1122.0</td>\n",
       "      <td>642.0</td>\n",
       "      <td>636.0</td>\n",
       "      <td>636.0</td>\n",
       "      <td>636.0</td>\n",
       "      <td>1122.0</td>\n",
       "      <td>636.0</td>\n",
       "      <td>642.0</td>\n",
       "      <td>636.0</td>\n",
       "      <td>1122.0</td>\n",
       "    </tr>\n",
       "    <tr>\n",
       "      <th>11984383</th>\n",
       "      <td>752</td>\n",
       "      <td>0.0</td>\n",
       "      <td>1.0</td>\n",
       "      <td>0.0</td>\n",
       "      <td>1.0</td>\n",
       "      <td>0.0</td>\n",
       "      <td>1.0</td>\n",
       "      <td>1.0</td>\n",
       "      <td>0.0</td>\n",
       "      <td>1.0</td>\n",
       "      <td>...</td>\n",
       "      <td>752.0</td>\n",
       "      <td>752.0</td>\n",
       "      <td>752.0</td>\n",
       "      <td>752.0</td>\n",
       "      <td>752.0</td>\n",
       "      <td>752.0</td>\n",
       "      <td>752.0</td>\n",
       "      <td>752.0</td>\n",
       "      <td>752.0</td>\n",
       "      <td>752.0</td>\n",
       "    </tr>\n",
       "    <tr>\n",
       "      <th>11983301</th>\n",
       "      <td>734</td>\n",
       "      <td>0.0</td>\n",
       "      <td>0.0</td>\n",
       "      <td>1.0</td>\n",
       "      <td>0.0</td>\n",
       "      <td>1.0</td>\n",
       "      <td>0.0</td>\n",
       "      <td>1.0</td>\n",
       "      <td>0.0</td>\n",
       "      <td>1.0</td>\n",
       "      <td>...</td>\n",
       "      <td>734.0</td>\n",
       "      <td>734.0</td>\n",
       "      <td>734.0</td>\n",
       "      <td>734.0</td>\n",
       "      <td>734.0</td>\n",
       "      <td>734.0</td>\n",
       "      <td>734.0</td>\n",
       "      <td>734.0</td>\n",
       "      <td>734.0</td>\n",
       "      <td>734.0</td>\n",
       "    </tr>\n",
       "    <tr>\n",
       "      <th>11983471</th>\n",
       "      <td>743</td>\n",
       "      <td>0.0</td>\n",
       "      <td>0.0</td>\n",
       "      <td>0.0</td>\n",
       "      <td>1.0</td>\n",
       "      <td>1.0</td>\n",
       "      <td>0.0</td>\n",
       "      <td>1.0</td>\n",
       "      <td>0.0</td>\n",
       "      <td>1.0</td>\n",
       "      <td>...</td>\n",
       "      <td>743.0</td>\n",
       "      <td>743.0</td>\n",
       "      <td>743.0</td>\n",
       "      <td>743.0</td>\n",
       "      <td>743.0</td>\n",
       "      <td>743.0</td>\n",
       "      <td>743.0</td>\n",
       "      <td>743.0</td>\n",
       "      <td>746.0</td>\n",
       "      <td>743.0</td>\n",
       "    </tr>\n",
       "    <tr>\n",
       "      <th>11883005</th>\n",
       "      <td>705</td>\n",
       "      <td>0.0</td>\n",
       "      <td>0.0</td>\n",
       "      <td>1.0</td>\n",
       "      <td>0.0</td>\n",
       "      <td>1.0</td>\n",
       "      <td>0.0</td>\n",
       "      <td>1.0</td>\n",
       "      <td>0.0</td>\n",
       "      <td>1.0</td>\n",
       "      <td>...</td>\n",
       "      <td>705.0</td>\n",
       "      <td>705.0</td>\n",
       "      <td>705.0</td>\n",
       "      <td>705.0</td>\n",
       "      <td>705.0</td>\n",
       "      <td>705.0</td>\n",
       "      <td>705.0</td>\n",
       "      <td>705.0</td>\n",
       "      <td>705.0</td>\n",
       "      <td>705.0</td>\n",
       "    </tr>\n",
       "  </tbody>\n",
       "</table>\n",
       "<p>5 rows × 142 columns</p>\n",
       "</div>"
      ],
      "text/plain": [
       "          league_id  is_cup  home_team_history_is_play_home_1  \\\n",
       "id                                                              \n",
       "11906497        636     0.0                               0.0   \n",
       "11984383        752     0.0                               1.0   \n",
       "11983301        734     0.0                               0.0   \n",
       "11983471        743     0.0                               0.0   \n",
       "11883005        705     0.0                               0.0   \n",
       "\n",
       "          home_team_history_is_play_home_2  home_team_history_is_play_home_3  \\\n",
       "id                                                                             \n",
       "11906497                               1.0                               0.0   \n",
       "11984383                               0.0                               1.0   \n",
       "11983301                               1.0                               0.0   \n",
       "11983471                               0.0                               1.0   \n",
       "11883005                               1.0                               0.0   \n",
       "\n",
       "          home_team_history_is_play_home_4  home_team_history_is_play_home_5  \\\n",
       "id                                                                             \n",
       "11906497                               1.0                               0.0   \n",
       "11984383                               0.0                               1.0   \n",
       "11983301                               1.0                               0.0   \n",
       "11983471                               1.0                               0.0   \n",
       "11883005                               1.0                               0.0   \n",
       "\n",
       "          home_team_history_is_play_home_6  home_team_history_is_play_home_7  \\\n",
       "id                                                                             \n",
       "11906497                               1.0                               0.0   \n",
       "11984383                               1.0                               0.0   \n",
       "11983301                               1.0                               0.0   \n",
       "11983471                               1.0                               0.0   \n",
       "11883005                               1.0                               0.0   \n",
       "\n",
       "          home_team_history_is_play_home_8  ...  \\\n",
       "id                                          ...   \n",
       "11906497                               1.0  ...   \n",
       "11984383                               1.0  ...   \n",
       "11983301                               1.0  ...   \n",
       "11983471                               1.0  ...   \n",
       "11883005                               1.0  ...   \n",
       "\n",
       "          away_team_history_league_id_1  away_team_history_league_id_2  \\\n",
       "id                                                                       \n",
       "11906497                         1122.0                          642.0   \n",
       "11984383                          752.0                          752.0   \n",
       "11983301                          734.0                          734.0   \n",
       "11983471                          743.0                          743.0   \n",
       "11883005                          705.0                          705.0   \n",
       "\n",
       "          away_team_history_league_id_3  away_team_history_league_id_4  \\\n",
       "id                                                                       \n",
       "11906497                          636.0                          636.0   \n",
       "11984383                          752.0                          752.0   \n",
       "11983301                          734.0                          734.0   \n",
       "11983471                          743.0                          743.0   \n",
       "11883005                          705.0                          705.0   \n",
       "\n",
       "          away_team_history_league_id_5  away_team_history_league_id_6  \\\n",
       "id                                                                       \n",
       "11906497                          636.0                         1122.0   \n",
       "11984383                          752.0                          752.0   \n",
       "11983301                          734.0                          734.0   \n",
       "11983471                          743.0                          743.0   \n",
       "11883005                          705.0                          705.0   \n",
       "\n",
       "          away_team_history_league_id_7  away_team_history_league_id_8  \\\n",
       "id                                                                       \n",
       "11906497                          636.0                          642.0   \n",
       "11984383                          752.0                          752.0   \n",
       "11983301                          734.0                          734.0   \n",
       "11983471                          743.0                          743.0   \n",
       "11883005                          705.0                          705.0   \n",
       "\n",
       "          away_team_history_league_id_9  away_team_history_league_id_10  \n",
       "id                                                                       \n",
       "11906497                          636.0                          1122.0  \n",
       "11984383                          752.0                           752.0  \n",
       "11983301                          734.0                           734.0  \n",
       "11983471                          746.0                           743.0  \n",
       "11883005                          705.0                           705.0  \n",
       "\n",
       "[5 rows x 142 columns]"
      ]
     },
     "execution_count": 12,
     "metadata": {},
     "output_type": "execute_result"
    }
   ],
   "source": [
    "all_data['is_cup'] = all_data['is_cup'].map({False: 0, True: 1})\n",
    "all_data.head()"
   ]
  },
  {
   "cell_type": "markdown",
   "metadata": {
    "id": "65fR55OuE7sX"
   },
   "source": [
    "Check missing information"
   ]
  },
  {
   "cell_type": "code",
   "execution_count": 13,
   "metadata": {
    "colab": {
     "base_uri": "https://localhost:8080/",
     "height": 1000
    },
    "execution": {
     "iopub.execute_input": "2022-04-18T14:21:12.794889Z",
     "iopub.status.busy": "2022-04-18T14:21:12.79333Z",
     "iopub.status.idle": "2022-04-18T14:21:12.874987Z",
     "shell.execute_reply": "2022-04-18T14:21:12.87428Z",
     "shell.execute_reply.started": "2022-04-18T14:21:12.794819Z"
    },
    "id": "i7mxbEicE7sX",
    "outputId": "f9be2c31-1e79-4d83-82ed-cf8398664a6f"
   },
   "outputs": [
    {
     "name": "stdout",
     "output_type": "stream",
     "text": [
      "30\n"
     ]
    },
    {
     "data": {
      "text/html": [
       "<div>\n",
       "<style scoped>\n",
       "    .dataframe tbody tr th:only-of-type {\n",
       "        vertical-align: middle;\n",
       "    }\n",
       "\n",
       "    .dataframe tbody tr th {\n",
       "        vertical-align: top;\n",
       "    }\n",
       "\n",
       "    .dataframe thead th {\n",
       "        text-align: right;\n",
       "    }\n",
       "</style>\n",
       "<table border=\"1\" class=\"dataframe\">\n",
       "  <thead>\n",
       "    <tr style=\"text-align: right;\">\n",
       "      <th></th>\n",
       "      <th>Missing Ratio</th>\n",
       "    </tr>\n",
       "  </thead>\n",
       "  <tbody>\n",
       "    <tr>\n",
       "      <th>away_team_history_is_cup_10</th>\n",
       "      <td>11.564452</td>\n",
       "    </tr>\n",
       "    <tr>\n",
       "      <th>away_team_history_opponent_rating_10</th>\n",
       "      <td>11.184923</td>\n",
       "    </tr>\n",
       "    <tr>\n",
       "      <th>away_team_history_rating_10</th>\n",
       "      <td>11.184923</td>\n",
       "    </tr>\n",
       "    <tr>\n",
       "      <th>away_team_history_league_id_10</th>\n",
       "      <td>11.175667</td>\n",
       "    </tr>\n",
       "    <tr>\n",
       "      <th>away_team_history_opponent_goal_10</th>\n",
       "      <td>11.175667</td>\n",
       "    </tr>\n",
       "    <tr>\n",
       "      <th>away_team_history_goal_10</th>\n",
       "      <td>11.175667</td>\n",
       "    </tr>\n",
       "    <tr>\n",
       "      <th>away_team_history_is_play_home_10</th>\n",
       "      <td>11.175667</td>\n",
       "    </tr>\n",
       "    <tr>\n",
       "      <th>home_team_history_is_cup_10</th>\n",
       "      <td>11.082010</td>\n",
       "    </tr>\n",
       "    <tr>\n",
       "      <th>home_team_history_opponent_rating_10</th>\n",
       "      <td>10.697581</td>\n",
       "    </tr>\n",
       "    <tr>\n",
       "      <th>home_team_history_rating_10</th>\n",
       "      <td>10.697581</td>\n",
       "    </tr>\n",
       "    <tr>\n",
       "      <th>home_team_history_opponent_goal_10</th>\n",
       "      <td>10.685057</td>\n",
       "    </tr>\n",
       "    <tr>\n",
       "      <th>home_team_history_goal_10</th>\n",
       "      <td>10.685057</td>\n",
       "    </tr>\n",
       "    <tr>\n",
       "      <th>home_team_history_league_id_10</th>\n",
       "      <td>10.685057</td>\n",
       "    </tr>\n",
       "    <tr>\n",
       "      <th>home_team_history_is_play_home_10</th>\n",
       "      <td>10.685057</td>\n",
       "    </tr>\n",
       "    <tr>\n",
       "      <th>away_team_history_is_cup_9</th>\n",
       "      <td>10.373593</td>\n",
       "    </tr>\n",
       "    <tr>\n",
       "      <th>away_team_history_rating_9</th>\n",
       "      <td>10.035448</td>\n",
       "    </tr>\n",
       "    <tr>\n",
       "      <th>away_team_history_opponent_rating_9</th>\n",
       "      <td>10.035448</td>\n",
       "    </tr>\n",
       "    <tr>\n",
       "      <th>away_team_history_is_play_home_9</th>\n",
       "      <td>10.023469</td>\n",
       "    </tr>\n",
       "    <tr>\n",
       "      <th>away_team_history_opponent_goal_9</th>\n",
       "      <td>10.023469</td>\n",
       "    </tr>\n",
       "    <tr>\n",
       "      <th>away_team_history_goal_9</th>\n",
       "      <td>10.023469</td>\n",
       "    </tr>\n",
       "    <tr>\n",
       "      <th>away_team_history_league_id_9</th>\n",
       "      <td>10.023469</td>\n",
       "    </tr>\n",
       "    <tr>\n",
       "      <th>home_team_history_is_cup_9</th>\n",
       "      <td>9.916199</td>\n",
       "    </tr>\n",
       "    <tr>\n",
       "      <th>home_team_history_opponent_rating_9</th>\n",
       "      <td>9.559540</td>\n",
       "    </tr>\n",
       "    <tr>\n",
       "      <th>home_team_history_rating_9</th>\n",
       "      <td>9.559540</td>\n",
       "    </tr>\n",
       "    <tr>\n",
       "      <th>home_team_history_league_id_9</th>\n",
       "      <td>9.549739</td>\n",
       "    </tr>\n",
       "    <tr>\n",
       "      <th>home_team_history_is_play_home_9</th>\n",
       "      <td>9.549739</td>\n",
       "    </tr>\n",
       "    <tr>\n",
       "      <th>home_team_history_opponent_goal_9</th>\n",
       "      <td>9.549739</td>\n",
       "    </tr>\n",
       "    <tr>\n",
       "      <th>home_team_history_goal_9</th>\n",
       "      <td>9.549739</td>\n",
       "    </tr>\n",
       "    <tr>\n",
       "      <th>away_team_history_is_cup_8</th>\n",
       "      <td>9.156053</td>\n",
       "    </tr>\n",
       "    <tr>\n",
       "      <th>away_team_history_opponent_rating_8</th>\n",
       "      <td>8.864737</td>\n",
       "    </tr>\n",
       "  </tbody>\n",
       "</table>\n",
       "</div>"
      ],
      "text/plain": [
       "                                      Missing Ratio\n",
       "away_team_history_is_cup_10               11.564452\n",
       "away_team_history_opponent_rating_10      11.184923\n",
       "away_team_history_rating_10               11.184923\n",
       "away_team_history_league_id_10            11.175667\n",
       "away_team_history_opponent_goal_10        11.175667\n",
       "away_team_history_goal_10                 11.175667\n",
       "away_team_history_is_play_home_10         11.175667\n",
       "home_team_history_is_cup_10               11.082010\n",
       "home_team_history_opponent_rating_10      10.697581\n",
       "home_team_history_rating_10               10.697581\n",
       "home_team_history_opponent_goal_10        10.685057\n",
       "home_team_history_goal_10                 10.685057\n",
       "home_team_history_league_id_10            10.685057\n",
       "home_team_history_is_play_home_10         10.685057\n",
       "away_team_history_is_cup_9                10.373593\n",
       "away_team_history_rating_9                10.035448\n",
       "away_team_history_opponent_rating_9       10.035448\n",
       "away_team_history_is_play_home_9          10.023469\n",
       "away_team_history_opponent_goal_9         10.023469\n",
       "away_team_history_goal_9                  10.023469\n",
       "away_team_history_league_id_9             10.023469\n",
       "home_team_history_is_cup_9                 9.916199\n",
       "home_team_history_opponent_rating_9        9.559540\n",
       "home_team_history_rating_9                 9.559540\n",
       "home_team_history_league_id_9              9.549739\n",
       "home_team_history_is_play_home_9           9.549739\n",
       "home_team_history_opponent_goal_9          9.549739\n",
       "home_team_history_goal_9                   9.549739\n",
       "away_team_history_is_cup_8                 9.156053\n",
       "away_team_history_opponent_rating_8        8.864737"
      ]
     },
     "execution_count": 13,
     "metadata": {},
     "output_type": "execute_result"
    }
   ],
   "source": [
    "all_data_na = (all_data.isnull().sum() / len(all_data)) * 100\n",
    "all_data_na = all_data_na.drop(all_data_na[all_data_na == 0].index).sort_values(ascending=False)[:30]\n",
    "missing_data = pd.DataFrame({'Missing Ratio' :all_data_na})\n",
    "print(len(all_data_na))\n",
    "missing_data.head(30)"
   ]
  },
  {
   "cell_type": "markdown",
   "metadata": {
    "id": "pZnBu2l2E7sX"
   },
   "source": [
    "The missing information is as follows.\n",
    "*  ~ is_cup ~ ... fill with zero.\n",
    "*  ~ rating ~ ... fill with mean value.\n",
    "*  ~ is_play_home ~ ... fill with 0.5.\n",
    "*  ~ goal ~ ... fill with mean value."
   ]
  },
  {
   "cell_type": "code",
   "execution_count": 14,
   "metadata": {
    "execution": {
     "iopub.execute_input": "2022-04-18T14:21:15.584766Z",
     "iopub.status.busy": "2022-04-18T14:21:15.583744Z",
     "iopub.status.idle": "2022-04-18T14:21:16.098868Z",
     "shell.execute_reply": "2022-04-18T14:21:16.09789Z",
     "shell.execute_reply.started": "2022-04-18T14:21:15.584699Z"
    },
    "id": "uO6_VJuYE7sY"
   },
   "outputs": [],
   "source": [
    "# is_cup\n",
    "for col in all_data.filter(regex='is_cup', axis=1).columns:\n",
    "    all_data[col] = all_data[col].fillna(0)\n",
    "# rating\n",
    "for col in all_data.filter(regex='rating', axis=1).columns:\n",
    "    all_data[col] = all_data[col].fillna(all_data[col].mean())\n",
    "# is play home\n",
    "for col in all_data.filter(regex='is_play_home', axis=1).columns: \n",
    "    all_data[col] = all_data[col].fillna(0.5)\n",
    "# league\n",
    "for col in all_data.filter(regex='league', axis=1).columns:  \n",
    "    all_data[col] = all_data[col].fillna(0)\n",
    "# goal\n",
    "for col in all_data.filter(regex='goal', axis=1).columns:\n",
    "    all_data[col] = all_data[col].fillna(all_data[col].mean())"
   ]
  },
  {
   "cell_type": "markdown",
   "metadata": {
    "id": "PI1kD8y7E7sY"
   },
   "source": [
    "Reconfirm missing values"
   ]
  },
  {
   "cell_type": "code",
   "execution_count": 15,
   "metadata": {
    "colab": {
     "base_uri": "https://localhost:8080/",
     "height": 67
    },
    "execution": {
     "iopub.execute_input": "2022-04-18T14:21:17.9833Z",
     "iopub.status.busy": "2022-04-18T14:21:17.982372Z",
     "iopub.status.idle": "2022-04-18T14:21:18.059656Z",
     "shell.execute_reply": "2022-04-18T14:21:18.058147Z",
     "shell.execute_reply.started": "2022-04-18T14:21:17.983256Z"
    },
    "id": "6kp1NTrdE7sY",
    "outputId": "baa413a9-3401-4476-c445-a9c110029574"
   },
   "outputs": [
    {
     "name": "stdout",
     "output_type": "stream",
     "text": [
      "0\n"
     ]
    },
    {
     "data": {
      "text/html": [
       "<div>\n",
       "<style scoped>\n",
       "    .dataframe tbody tr th:only-of-type {\n",
       "        vertical-align: middle;\n",
       "    }\n",
       "\n",
       "    .dataframe tbody tr th {\n",
       "        vertical-align: top;\n",
       "    }\n",
       "\n",
       "    .dataframe thead th {\n",
       "        text-align: right;\n",
       "    }\n",
       "</style>\n",
       "<table border=\"1\" class=\"dataframe\">\n",
       "  <thead>\n",
       "    <tr style=\"text-align: right;\">\n",
       "      <th></th>\n",
       "      <th>Missing Ratio</th>\n",
       "    </tr>\n",
       "  </thead>\n",
       "  <tbody>\n",
       "  </tbody>\n",
       "</table>\n",
       "</div>"
      ],
      "text/plain": [
       "Empty DataFrame\n",
       "Columns: [Missing Ratio]\n",
       "Index: []"
      ]
     },
     "execution_count": 15,
     "metadata": {},
     "output_type": "execute_result"
    }
   ],
   "source": [
    "all_data_na = (all_data.isnull().sum() / len(all_data)) * 100\n",
    "all_data_na = all_data_na.drop(all_data_na[all_data_na == 0].index).sort_values(ascending=False)[:30]\n",
    "missing_data = pd.DataFrame({'Missing Ratio' :all_data_na})\n",
    "print(len(all_data_na))\n",
    "missing_data.head()"
   ]
  },
  {
   "cell_type": "markdown",
   "metadata": {
    "id": "XmKDT0s9E7sY"
   },
   "source": [
    "Undo `test_df` and `train_df`"
   ]
  },
  {
   "cell_type": "code",
   "execution_count": 16,
   "metadata": {
    "colab": {
     "base_uri": "https://localhost:8080/",
     "height": 348
    },
    "execution": {
     "iopub.execute_input": "2022-04-18T14:21:19.93018Z",
     "iopub.status.busy": "2022-04-18T14:21:19.929775Z",
     "iopub.status.idle": "2022-04-18T14:21:19.974593Z",
     "shell.execute_reply": "2022-04-18T14:21:19.973496Z",
     "shell.execute_reply.started": "2022-04-18T14:21:19.930135Z"
    },
    "id": "c2VULULhE7sY",
    "outputId": "ec0acac0-f468-4159-b487-d52e7903808c"
   },
   "outputs": [
    {
     "name": "stdout",
     "output_type": "stream",
     "text": [
      "(110938, 142) (72711, 142)\n"
     ]
    },
    {
     "data": {
      "text/html": [
       "<div>\n",
       "<style scoped>\n",
       "    .dataframe tbody tr th:only-of-type {\n",
       "        vertical-align: middle;\n",
       "    }\n",
       "\n",
       "    .dataframe tbody tr th {\n",
       "        vertical-align: top;\n",
       "    }\n",
       "\n",
       "    .dataframe thead th {\n",
       "        text-align: right;\n",
       "    }\n",
       "</style>\n",
       "<table border=\"1\" class=\"dataframe\">\n",
       "  <thead>\n",
       "    <tr style=\"text-align: right;\">\n",
       "      <th></th>\n",
       "      <th>league_id</th>\n",
       "      <th>is_cup</th>\n",
       "      <th>home_team_history_is_play_home_1</th>\n",
       "      <th>home_team_history_is_play_home_2</th>\n",
       "      <th>home_team_history_is_play_home_3</th>\n",
       "      <th>home_team_history_is_play_home_4</th>\n",
       "      <th>home_team_history_is_play_home_5</th>\n",
       "      <th>home_team_history_is_play_home_6</th>\n",
       "      <th>home_team_history_is_play_home_7</th>\n",
       "      <th>home_team_history_is_play_home_8</th>\n",
       "      <th>...</th>\n",
       "      <th>away_team_history_league_id_1</th>\n",
       "      <th>away_team_history_league_id_2</th>\n",
       "      <th>away_team_history_league_id_3</th>\n",
       "      <th>away_team_history_league_id_4</th>\n",
       "      <th>away_team_history_league_id_5</th>\n",
       "      <th>away_team_history_league_id_6</th>\n",
       "      <th>away_team_history_league_id_7</th>\n",
       "      <th>away_team_history_league_id_8</th>\n",
       "      <th>away_team_history_league_id_9</th>\n",
       "      <th>away_team_history_league_id_10</th>\n",
       "    </tr>\n",
       "    <tr>\n",
       "      <th>id</th>\n",
       "      <th></th>\n",
       "      <th></th>\n",
       "      <th></th>\n",
       "      <th></th>\n",
       "      <th></th>\n",
       "      <th></th>\n",
       "      <th></th>\n",
       "      <th></th>\n",
       "      <th></th>\n",
       "      <th></th>\n",
       "      <th></th>\n",
       "      <th></th>\n",
       "      <th></th>\n",
       "      <th></th>\n",
       "      <th></th>\n",
       "      <th></th>\n",
       "      <th></th>\n",
       "      <th></th>\n",
       "      <th></th>\n",
       "      <th></th>\n",
       "      <th></th>\n",
       "    </tr>\n",
       "  </thead>\n",
       "  <tbody>\n",
       "    <tr>\n",
       "      <th>11906497</th>\n",
       "      <td>636</td>\n",
       "      <td>0.0</td>\n",
       "      <td>0.0</td>\n",
       "      <td>1.0</td>\n",
       "      <td>0.0</td>\n",
       "      <td>1.0</td>\n",
       "      <td>0.0</td>\n",
       "      <td>1.0</td>\n",
       "      <td>0.0</td>\n",
       "      <td>1.0</td>\n",
       "      <td>...</td>\n",
       "      <td>1122.0</td>\n",
       "      <td>642.0</td>\n",
       "      <td>636.0</td>\n",
       "      <td>636.0</td>\n",
       "      <td>636.0</td>\n",
       "      <td>1122.0</td>\n",
       "      <td>636.0</td>\n",
       "      <td>642.0</td>\n",
       "      <td>636.0</td>\n",
       "      <td>1122.0</td>\n",
       "    </tr>\n",
       "    <tr>\n",
       "      <th>11984383</th>\n",
       "      <td>752</td>\n",
       "      <td>0.0</td>\n",
       "      <td>1.0</td>\n",
       "      <td>0.0</td>\n",
       "      <td>1.0</td>\n",
       "      <td>0.0</td>\n",
       "      <td>1.0</td>\n",
       "      <td>1.0</td>\n",
       "      <td>0.0</td>\n",
       "      <td>1.0</td>\n",
       "      <td>...</td>\n",
       "      <td>752.0</td>\n",
       "      <td>752.0</td>\n",
       "      <td>752.0</td>\n",
       "      <td>752.0</td>\n",
       "      <td>752.0</td>\n",
       "      <td>752.0</td>\n",
       "      <td>752.0</td>\n",
       "      <td>752.0</td>\n",
       "      <td>752.0</td>\n",
       "      <td>752.0</td>\n",
       "    </tr>\n",
       "    <tr>\n",
       "      <th>11983301</th>\n",
       "      <td>734</td>\n",
       "      <td>0.0</td>\n",
       "      <td>0.0</td>\n",
       "      <td>1.0</td>\n",
       "      <td>0.0</td>\n",
       "      <td>1.0</td>\n",
       "      <td>0.0</td>\n",
       "      <td>1.0</td>\n",
       "      <td>0.0</td>\n",
       "      <td>1.0</td>\n",
       "      <td>...</td>\n",
       "      <td>734.0</td>\n",
       "      <td>734.0</td>\n",
       "      <td>734.0</td>\n",
       "      <td>734.0</td>\n",
       "      <td>734.0</td>\n",
       "      <td>734.0</td>\n",
       "      <td>734.0</td>\n",
       "      <td>734.0</td>\n",
       "      <td>734.0</td>\n",
       "      <td>734.0</td>\n",
       "    </tr>\n",
       "    <tr>\n",
       "      <th>11983471</th>\n",
       "      <td>743</td>\n",
       "      <td>0.0</td>\n",
       "      <td>0.0</td>\n",
       "      <td>0.0</td>\n",
       "      <td>1.0</td>\n",
       "      <td>1.0</td>\n",
       "      <td>0.0</td>\n",
       "      <td>1.0</td>\n",
       "      <td>0.0</td>\n",
       "      <td>1.0</td>\n",
       "      <td>...</td>\n",
       "      <td>743.0</td>\n",
       "      <td>743.0</td>\n",
       "      <td>743.0</td>\n",
       "      <td>743.0</td>\n",
       "      <td>743.0</td>\n",
       "      <td>743.0</td>\n",
       "      <td>743.0</td>\n",
       "      <td>743.0</td>\n",
       "      <td>746.0</td>\n",
       "      <td>743.0</td>\n",
       "    </tr>\n",
       "    <tr>\n",
       "      <th>11883005</th>\n",
       "      <td>705</td>\n",
       "      <td>0.0</td>\n",
       "      <td>0.0</td>\n",
       "      <td>1.0</td>\n",
       "      <td>0.0</td>\n",
       "      <td>1.0</td>\n",
       "      <td>0.0</td>\n",
       "      <td>1.0</td>\n",
       "      <td>0.0</td>\n",
       "      <td>1.0</td>\n",
       "      <td>...</td>\n",
       "      <td>705.0</td>\n",
       "      <td>705.0</td>\n",
       "      <td>705.0</td>\n",
       "      <td>705.0</td>\n",
       "      <td>705.0</td>\n",
       "      <td>705.0</td>\n",
       "      <td>705.0</td>\n",
       "      <td>705.0</td>\n",
       "      <td>705.0</td>\n",
       "      <td>705.0</td>\n",
       "    </tr>\n",
       "  </tbody>\n",
       "</table>\n",
       "<p>5 rows × 142 columns</p>\n",
       "</div>"
      ],
      "text/plain": [
       "          league_id  is_cup  home_team_history_is_play_home_1  \\\n",
       "id                                                              \n",
       "11906497        636     0.0                               0.0   \n",
       "11984383        752     0.0                               1.0   \n",
       "11983301        734     0.0                               0.0   \n",
       "11983471        743     0.0                               0.0   \n",
       "11883005        705     0.0                               0.0   \n",
       "\n",
       "          home_team_history_is_play_home_2  home_team_history_is_play_home_3  \\\n",
       "id                                                                             \n",
       "11906497                               1.0                               0.0   \n",
       "11984383                               0.0                               1.0   \n",
       "11983301                               1.0                               0.0   \n",
       "11983471                               0.0                               1.0   \n",
       "11883005                               1.0                               0.0   \n",
       "\n",
       "          home_team_history_is_play_home_4  home_team_history_is_play_home_5  \\\n",
       "id                                                                             \n",
       "11906497                               1.0                               0.0   \n",
       "11984383                               0.0                               1.0   \n",
       "11983301                               1.0                               0.0   \n",
       "11983471                               1.0                               0.0   \n",
       "11883005                               1.0                               0.0   \n",
       "\n",
       "          home_team_history_is_play_home_6  home_team_history_is_play_home_7  \\\n",
       "id                                                                             \n",
       "11906497                               1.0                               0.0   \n",
       "11984383                               1.0                               0.0   \n",
       "11983301                               1.0                               0.0   \n",
       "11983471                               1.0                               0.0   \n",
       "11883005                               1.0                               0.0   \n",
       "\n",
       "          home_team_history_is_play_home_8  ...  \\\n",
       "id                                          ...   \n",
       "11906497                               1.0  ...   \n",
       "11984383                               1.0  ...   \n",
       "11983301                               1.0  ...   \n",
       "11983471                               1.0  ...   \n",
       "11883005                               1.0  ...   \n",
       "\n",
       "          away_team_history_league_id_1  away_team_history_league_id_2  \\\n",
       "id                                                                       \n",
       "11906497                         1122.0                          642.0   \n",
       "11984383                          752.0                          752.0   \n",
       "11983301                          734.0                          734.0   \n",
       "11983471                          743.0                          743.0   \n",
       "11883005                          705.0                          705.0   \n",
       "\n",
       "          away_team_history_league_id_3  away_team_history_league_id_4  \\\n",
       "id                                                                       \n",
       "11906497                          636.0                          636.0   \n",
       "11984383                          752.0                          752.0   \n",
       "11983301                          734.0                          734.0   \n",
       "11983471                          743.0                          743.0   \n",
       "11883005                          705.0                          705.0   \n",
       "\n",
       "          away_team_history_league_id_5  away_team_history_league_id_6  \\\n",
       "id                                                                       \n",
       "11906497                          636.0                         1122.0   \n",
       "11984383                          752.0                          752.0   \n",
       "11983301                          734.0                          734.0   \n",
       "11983471                          743.0                          743.0   \n",
       "11883005                          705.0                          705.0   \n",
       "\n",
       "          away_team_history_league_id_7  away_team_history_league_id_8  \\\n",
       "id                                                                       \n",
       "11906497                          636.0                          642.0   \n",
       "11984383                          752.0                          752.0   \n",
       "11983301                          734.0                          734.0   \n",
       "11983471                          743.0                          743.0   \n",
       "11883005                          705.0                          705.0   \n",
       "\n",
       "          away_team_history_league_id_9  away_team_history_league_id_10  \n",
       "id                                                                       \n",
       "11906497                          636.0                          1122.0  \n",
       "11984383                          752.0                           752.0  \n",
       "11983301                          734.0                           734.0  \n",
       "11983471                          746.0                           743.0  \n",
       "11883005                          705.0                           705.0  \n",
       "\n",
       "[5 rows x 142 columns]"
      ]
     },
     "execution_count": 16,
     "metadata": {},
     "output_type": "execute_result"
    }
   ],
   "source": [
    "train_df = all_data[:ntrain]\n",
    "test_df = all_data[ntrain:]\n",
    "print(train_df.shape, test_df.shape)\n",
    "train_df.head()"
   ]
  },
  {
   "cell_type": "markdown",
   "metadata": {
    "id": "zH0M_iXhE7sY"
   },
   "source": [
    "# Trainig\n",
    "Now that feature engineering is done, create and train the model"
   ]
  },
  {
   "cell_type": "markdown",
   "metadata": {
    "id": "Ohj02XnuE7sY"
   },
   "source": [
    "## Model Partitioning\n",
    "Split `train_df` into **training data** (used to train the model) and **test data** (used to verify generalization performance of the model)"
   ]
  },
  {
   "cell_type": "code",
   "execution_count": 17,
   "metadata": {
    "colab": {
     "base_uri": "https://localhost:8080/",
     "height": 397
    },
    "execution": {
     "iopub.execute_input": "2022-04-18T14:21:22.843689Z",
     "iopub.status.busy": "2022-04-18T14:21:22.843407Z",
     "iopub.status.idle": "2022-04-18T14:21:23.133325Z",
     "shell.execute_reply": "2022-04-18T14:21:23.132332Z",
     "shell.execute_reply.started": "2022-04-18T14:21:22.84366Z"
    },
    "id": "1g-Jd7MHE7sZ",
    "outputId": "5e73810b-cdc4-470a-c36f-8b082a4e7451"
   },
   "outputs": [
    {
     "name": "stdout",
     "output_type": "stream",
     "text": [
      "(110938, 142) (110938,)\n",
      "(88750, 142) (22188, 142)\n",
      "(88750,) (22188,)\n"
     ]
    }
   ],
   "source": [
    "# pandas -> numpy\n",
    "X = train_df.values\n",
    "y = train_target_score_df.values\n",
    "print(X.shape, y.shape)\n",
    "# split training data and test data(20%)\n",
    "X_train, X_test, y_train, y_test = train_test_split(X, y, test_size=0.20, random_state=1, stratify=y)\n",
    "print(X_train.shape, X_test.shape)\n",
    "print(y_train.shape, y_test.shape)"
   ]
  },
  {
   "cell_type": "markdown",
   "metadata": {
    "id": "CRZRzx-sE7sZ"
   },
   "source": [
    "## Hyperparameter tuning\n",
    "Furthermore, the training data is split into training data and validation data, and hyperparameter tuning is performed using the validation data.  \n",
    "This process is time consuming, so skip this cell when implementing without tuning."
   ]
  },
  {
   "cell_type": "code",
   "execution_count": 23,
   "metadata": {
    "execution": {
     "iopub.execute_input": "2022-04-18T14:21:27.296921Z",
     "iopub.status.busy": "2022-04-18T14:21:27.296384Z",
     "iopub.status.idle": "2022-04-18T14:56:41.897454Z",
     "shell.execute_reply": "2022-04-18T14:56:41.896362Z",
     "shell.execute_reply.started": "2022-04-18T14:21:27.296782Z"
    },
    "id": "LsW_IgK5E7sZ",
    "jupyter": {
     "outputs_hidden": true
    }
   },
   "outputs": [
    {
     "name": "stderr",
     "output_type": "stream",
     "text": [
      "\u001b[32m[I 2022-06-02 15:44:51,124]\u001b[0m A new study created in memory with name: no-name-8939ccf9-1b33-4727-9595-6396bf89ccea\u001b[0m\n",
      "feature_fraction, val_score: inf:   0%|                                                          | 0/7 [00:00<?, ?it/s]"
     ]
    },
    {
     "name": "stdout",
     "output_type": "stream",
     "text": [
      "Training until validation scores don't improve for 100 rounds\n",
      "[50]\tvalid_0's multi_logloss: 1.01834\n",
      "[100]\tvalid_0's multi_logloss: 1.01352\n",
      "[150]\tvalid_0's multi_logloss: 1.01315\n",
      "[200]\tvalid_0's multi_logloss: 1.01333\n"
     ]
    },
    {
     "name": "stderr",
     "output_type": "stream",
     "text": [
      "feature_fraction, val_score: 1.012966:  14%|######4                                      | 1/7 [00:16<01:40, 16.72s/it]\u001b[32m[I 2022-06-02 15:45:07,859]\u001b[0m Trial 0 finished with value: 1.0129657922672366 and parameters: {'feature_fraction': 0.8}. Best is trial 0 with value: 1.0129657922672366.\u001b[0m\n",
      "feature_fraction, val_score: 1.012966:  14%|######4                                      | 1/7 [00:16<01:40, 16.72s/it]"
     ]
    },
    {
     "name": "stdout",
     "output_type": "stream",
     "text": [
      "Early stopping, best iteration is:\n",
      "[132]\tvalid_0's multi_logloss: 1.01297\n",
      "Training until validation scores don't improve for 100 rounds\n",
      "[50]\tvalid_0's multi_logloss: 1.01831\n",
      "[100]\tvalid_0's multi_logloss: 1.01366\n",
      "[150]\tvalid_0's multi_logloss: 1.01332\n",
      "[200]\tvalid_0's multi_logloss: 1.01434\n"
     ]
    },
    {
     "name": "stderr",
     "output_type": "stream",
     "text": [
      "feature_fraction, val_score: 1.012839:  29%|############8                                | 2/7 [00:35<01:29, 17.90s/it]\u001b[32m[I 2022-06-02 15:45:26,580]\u001b[0m Trial 1 finished with value: 1.0128392166638336 and parameters: {'feature_fraction': 1.0}. Best is trial 1 with value: 1.0128392166638336.\u001b[0m\n",
      "feature_fraction, val_score: 1.012839:  29%|############8                                | 2/7 [00:35<01:29, 17.90s/it]"
     ]
    },
    {
     "name": "stdout",
     "output_type": "stream",
     "text": [
      "Early stopping, best iteration is:\n",
      "[124]\tvalid_0's multi_logloss: 1.01284\n",
      "Training until validation scores don't improve for 100 rounds\n",
      "[50]\tvalid_0's multi_logloss: 1.01872\n",
      "[100]\tvalid_0's multi_logloss: 1.01413\n",
      "[150]\tvalid_0's multi_logloss: 1.01373\n",
      "[200]\tvalid_0's multi_logloss: 1.01476\n"
     ]
    },
    {
     "name": "stderr",
     "output_type": "stream",
     "text": [
      "feature_fraction, val_score: 1.012839:  43%|###################2                         | 3/7 [00:56<01:17, 19.27s/it]\u001b[32m[I 2022-06-02 15:45:47,483]\u001b[0m Trial 2 finished with value: 1.0136786797571389 and parameters: {'feature_fraction': 0.8999999999999999}. Best is trial 1 with value: 1.0128392166638336.\u001b[0m\n",
      "feature_fraction, val_score: 1.012839:  43%|###################2                         | 3/7 [00:56<01:17, 19.27s/it]"
     ]
    },
    {
     "name": "stdout",
     "output_type": "stream",
     "text": [
      "Early stopping, best iteration is:\n",
      "[140]\tvalid_0's multi_logloss: 1.01368\n",
      "Training until validation scores don't improve for 100 rounds\n",
      "[50]\tvalid_0's multi_logloss: 1.0189\n",
      "[100]\tvalid_0's multi_logloss: 1.01381\n",
      "[150]\tvalid_0's multi_logloss: 1.01303\n",
      "[200]\tvalid_0's multi_logloss: 1.01347\n"
     ]
    },
    {
     "name": "stderr",
     "output_type": "stream",
     "text": [
      "feature_fraction, val_score: 1.012839:  57%|#########################7                   | 4/7 [01:26<01:10, 23.43s/it]\u001b[32m[I 2022-06-02 15:46:17,302]\u001b[0m Trial 3 finished with value: 1.013010367878523 and parameters: {'feature_fraction': 0.5}. Best is trial 1 with value: 1.0128392166638336.\u001b[0m\n",
      "feature_fraction, val_score: 1.012839:  57%|#########################7                   | 4/7 [01:26<01:10, 23.43s/it]"
     ]
    },
    {
     "name": "stdout",
     "output_type": "stream",
     "text": [
      "Early stopping, best iteration is:\n",
      "[149]\tvalid_0's multi_logloss: 1.01301\n",
      "Training until validation scores don't improve for 100 rounds\n",
      "[50]\tvalid_0's multi_logloss: 1.01919\n",
      "[100]\tvalid_0's multi_logloss: 1.01375\n",
      "[150]\tvalid_0's multi_logloss: 1.01266\n",
      "[200]\tvalid_0's multi_logloss: 1.0125\n",
      "[250]\tvalid_0's multi_logloss: 1.0129\n",
      "Early stopping, best iteration is:\n",
      "[189]\tvalid_0's multi_logloss: 1.01225\n"
     ]
    },
    {
     "name": "stderr",
     "output_type": "stream",
     "text": [
      "feature_fraction, val_score: 1.012247:  71%|################################1            | 5/7 [01:57<00:52, 26.17s/it]\u001b[32m[I 2022-06-02 15:46:48,317]\u001b[0m Trial 4 finished with value: 1.0122467367031953 and parameters: {'feature_fraction': 0.4}. Best is trial 4 with value: 1.0122467367031953.\u001b[0m\n",
      "feature_fraction, val_score: 1.012247:  71%|################################1            | 5/7 [01:57<00:52, 26.17s/it]"
     ]
    },
    {
     "name": "stdout",
     "output_type": "stream",
     "text": [
      "Training until validation scores don't improve for 100 rounds\n",
      "[50]\tvalid_0's multi_logloss: 1.01877\n",
      "[100]\tvalid_0's multi_logloss: 1.01388\n",
      "[150]\tvalid_0's multi_logloss: 1.01322\n",
      "[200]\tvalid_0's multi_logloss: 1.01373\n"
     ]
    },
    {
     "name": "stderr",
     "output_type": "stream",
     "text": [
      "feature_fraction, val_score: 1.012247:  86%|######################################5      | 6/7 [02:16<00:23, 23.75s/it]\u001b[32m[I 2022-06-02 15:47:07,390]\u001b[0m Trial 5 finished with value: 1.0131506485592698 and parameters: {'feature_fraction': 0.7}. Best is trial 4 with value: 1.0122467367031953.\u001b[0m\n",
      "feature_fraction, val_score: 1.012247:  86%|######################################5      | 6/7 [02:16<00:23, 23.75s/it]"
     ]
    },
    {
     "name": "stdout",
     "output_type": "stream",
     "text": [
      "Early stopping, best iteration is:\n",
      "[133]\tvalid_0's multi_logloss: 1.01315\n",
      "Training until validation scores don't improve for 100 rounds\n",
      "[50]\tvalid_0's multi_logloss: 1.01888\n",
      "[100]\tvalid_0's multi_logloss: 1.0134\n",
      "[150]\tvalid_0's multi_logloss: 1.01289\n",
      "[200]\tvalid_0's multi_logloss: 1.01324\n",
      "[250]\tvalid_0's multi_logloss: 1.01281\n"
     ]
    },
    {
     "name": "stderr",
     "output_type": "stream",
     "text": [
      "feature_fraction, val_score: 1.012247: 100%|#############################################| 7/7 [02:40<00:00, 23.96s/it]\u001b[32m[I 2022-06-02 15:47:31,773]\u001b[0m Trial 6 finished with value: 1.012770262607788 and parameters: {'feature_fraction': 0.6}. Best is trial 4 with value: 1.0122467367031953.\u001b[0m\n",
      "feature_fraction, val_score: 1.012247: 100%|#############################################| 7/7 [02:40<00:00, 22.95s/it]\n"
     ]
    },
    {
     "name": "stdout",
     "output_type": "stream",
     "text": [
      "Early stopping, best iteration is:\n",
      "[162]\tvalid_0's multi_logloss: 1.01277\n"
     ]
    },
    {
     "name": "stderr",
     "output_type": "stream",
     "text": [
      "num_leaves, val_score: 1.012247:   0%|                                                          | 0/20 [00:00<?, ?it/s]"
     ]
    },
    {
     "name": "stdout",
     "output_type": "stream",
     "text": [
      "Training until validation scores don't improve for 100 rounds\n",
      "[50]\tvalid_0's multi_logloss: 1.0174\n",
      "[100]\tvalid_0's multi_logloss: 1.01498\n",
      "[150]\tvalid_0's multi_logloss: 1.01651\n",
      "Early stopping, best iteration is:\n",
      "[93]\tvalid_0's multi_logloss: 1.01477\n"
     ]
    },
    {
     "name": "stderr",
     "output_type": "stream",
     "text": [
      "num_leaves, val_score: 1.012247:   5%|##5                                               | 1/20 [00:27<08:37, 27.24s/it]\u001b[32m[I 2022-06-02 15:47:59,029]\u001b[0m Trial 7 finished with value: 1.0147692772750927 and parameters: {'num_leaves': 147}. Best is trial 7 with value: 1.0147692772750927.\u001b[0m\n",
      "num_leaves, val_score: 1.012247:   5%|##5                                               | 1/20 [00:27<08:37, 27.24s/it]"
     ]
    },
    {
     "name": "stdout",
     "output_type": "stream",
     "text": [
      "Training until validation scores don't improve for 100 rounds\n",
      "[50]\tvalid_0's multi_logloss: 1.01755\n",
      "[100]\tvalid_0's multi_logloss: 1.01446\n",
      "[150]\tvalid_0's multi_logloss: 1.01465\n"
     ]
    },
    {
     "name": "stderr",
     "output_type": "stream",
     "text": [
      "num_leaves, val_score: 1.012247:  10%|#####                                             | 2/20 [00:54<08:12, 27.37s/it]\u001b[32m[I 2022-06-02 15:48:26,487]\u001b[0m Trial 8 finished with value: 1.0142759116513727 and parameters: {'num_leaves': 105}. Best is trial 8 with value: 1.0142759116513727.\u001b[0m\n",
      "num_leaves, val_score: 1.012247:  10%|#####                                             | 2/20 [00:54<08:12, 27.37s/it]"
     ]
    },
    {
     "name": "stdout",
     "output_type": "stream",
     "text": [
      "Early stopping, best iteration is:\n",
      "[90]\tvalid_0's multi_logloss: 1.01428\n",
      "Training until validation scores don't improve for 100 rounds\n",
      "[50]\tvalid_0's multi_logloss: 1.01781\n",
      "[100]\tvalid_0's multi_logloss: 1.0138\n",
      "[150]\tvalid_0's multi_logloss: 1.01456\n",
      "[200]\tvalid_0's multi_logloss: 1.01509\n"
     ]
    },
    {
     "name": "stderr",
     "output_type": "stream",
     "text": [
      "num_leaves, val_score: 1.012247:  15%|#######5                                          | 3/20 [01:19<07:22, 26.01s/it]\u001b[32m[I 2022-06-02 15:48:50,885]\u001b[0m Trial 9 finished with value: 1.0136147062163747 and parameters: {'num_leaves': 84}. Best is trial 9 with value: 1.0136147062163747.\u001b[0m\n",
      "num_leaves, val_score: 1.012247:  15%|#######5                                          | 3/20 [01:19<07:22, 26.01s/it]"
     ]
    },
    {
     "name": "stdout",
     "output_type": "stream",
     "text": [
      "Early stopping, best iteration is:\n",
      "[111]\tvalid_0's multi_logloss: 1.01361\n",
      "Training until validation scores don't improve for 100 rounds\n",
      "[50]\tvalid_0's multi_logloss: 1.01783\n",
      "[100]\tvalid_0's multi_logloss: 1.01646\n",
      "[150]\tvalid_0's multi_logloss: 1.01892\n",
      "Early stopping, best iteration is:\n",
      "[76]\tvalid_0's multi_logloss: 1.01585\n"
     ]
    },
    {
     "name": "stderr",
     "output_type": "stream",
     "text": [
      "num_leaves, val_score: 1.012247:  20%|##########                                        | 4/20 [01:48<07:17, 27.32s/it]\u001b[32m[I 2022-06-02 15:49:20,209]\u001b[0m Trial 10 finished with value: 1.0158481015295884 and parameters: {'num_leaves': 188}. Best is trial 9 with value: 1.0136147062163747.\u001b[0m\n",
      "num_leaves, val_score: 1.012247:  20%|##########                                        | 4/20 [01:48<07:17, 27.32s/it]"
     ]
    },
    {
     "name": "stdout",
     "output_type": "stream",
     "text": [
      "Training until validation scores don't improve for 100 rounds\n",
      "[50]\tvalid_0's multi_logloss: 1.01715\n",
      "[100]\tvalid_0's multi_logloss: 1.01412\n",
      "[150]\tvalid_0's multi_logloss: 1.01519\n"
     ]
    },
    {
     "name": "stderr",
     "output_type": "stream",
     "text": [
      "\r",
      "num_leaves, val_score: 1.012247:  20%|##########                                        | 4/20 [02:21<07:17, 27.32s/it]"
     ]
    },
    {
     "name": "stdout",
     "output_type": "stream",
     "text": [
      "Early stopping, best iteration is:\n",
      "[98]\tvalid_0's multi_logloss: 1.014\n"
     ]
    },
    {
     "name": "stderr",
     "output_type": "stream",
     "text": [
      "num_leaves, val_score: 1.012247:  25%|############5                                     | 5/20 [02:21<07:18, 29.22s/it]\u001b[32m[I 2022-06-02 15:49:52,809]\u001b[0m Trial 11 finished with value: 1.0140009929598937 and parameters: {'num_leaves': 118}. Best is trial 9 with value: 1.0136147062163747.\u001b[0m\n",
      "num_leaves, val_score: 1.012247:  25%|############5                                     | 5/20 [02:21<07:18, 29.22s/it]"
     ]
    },
    {
     "name": "stdout",
     "output_type": "stream",
     "text": [
      "Training until validation scores don't improve for 100 rounds\n",
      "[50]\tvalid_0's multi_logloss: 1.01784\n",
      "[100]\tvalid_0's multi_logloss: 1.01716\n",
      "[150]\tvalid_0's multi_logloss: 1.01907\n",
      "Early stopping, best iteration is:\n",
      "[83]\tvalid_0's multi_logloss: 1.0167\n"
     ]
    },
    {
     "name": "stderr",
     "output_type": "stream",
     "text": [
      "num_leaves, val_score: 1.012247:  30%|###############                                   | 6/20 [02:58<07:29, 32.11s/it]\u001b[32m[I 2022-06-02 15:50:30,509]\u001b[0m Trial 12 finished with value: 1.0166950986586833 and parameters: {'num_leaves': 226}. Best is trial 9 with value: 1.0136147062163747.\u001b[0m\n",
      "num_leaves, val_score: 1.012247:  30%|###############                                   | 6/20 [02:58<07:29, 32.11s/it]"
     ]
    },
    {
     "name": "stdout",
     "output_type": "stream",
     "text": [
      "Training until validation scores don't improve for 100 rounds\n",
      "[50]\tvalid_0's multi_logloss: 1.04059\n",
      "[100]\tvalid_0's multi_logloss: 1.02913\n",
      "[150]\tvalid_0's multi_logloss: 1.02351\n",
      "[200]\tvalid_0's multi_logloss: 1.02021\n",
      "[250]\tvalid_0's multi_logloss: 1.0179\n",
      "[300]\tvalid_0's multi_logloss: 1.01649\n",
      "[350]\tvalid_0's multi_logloss: 1.01554\n",
      "[400]\tvalid_0's multi_logloss: 1.01477\n",
      "[450]\tvalid_0's multi_logloss: 1.01413\n",
      "[500]\tvalid_0's multi_logloss: 1.0138\n",
      "[550]\tvalid_0's multi_logloss: 1.0135\n",
      "[600]\tvalid_0's multi_logloss: 1.01325\n",
      "[650]\tvalid_0's multi_logloss: 1.01314\n",
      "[700]\tvalid_0's multi_logloss: 1.01302\n",
      "[750]\tvalid_0's multi_logloss: 1.01289\n",
      "[800]\tvalid_0's multi_logloss: 1.0128\n",
      "[850]\tvalid_0's multi_logloss: 1.01286\n",
      "[900]\tvalid_0's multi_logloss: 1.01274\n",
      "[950]\tvalid_0's multi_logloss: 1.01268\n",
      "[1000]\tvalid_0's multi_logloss: 1.01264\n",
      "[1050]\tvalid_0's multi_logloss: 1.01258\n",
      "[1100]\tvalid_0's multi_logloss: 1.01256\n",
      "[1150]\tvalid_0's multi_logloss: 1.01265\n",
      "Early stopping, best iteration is:\n",
      "[1058]\tvalid_0's multi_logloss: 1.01254\n"
     ]
    },
    {
     "name": "stderr",
     "output_type": "stream",
     "text": [
      "num_leaves, val_score: 1.012247:  35%|#################5                                | 7/20 [04:20<10:29, 48.40s/it]\u001b[32m[I 2022-06-02 15:51:52,456]\u001b[0m Trial 13 finished with value: 1.0125375304988544 and parameters: {'num_leaves': 3}. Best is trial 13 with value: 1.0125375304988544.\u001b[0m\n",
      "num_leaves, val_score: 1.012247:  35%|#################5                                | 7/20 [04:20<10:29, 48.40s/it]"
     ]
    },
    {
     "name": "stdout",
     "output_type": "stream",
     "text": [
      "Training until validation scores don't improve for 100 rounds\n",
      "[50]\tvalid_0's multi_logloss: 1.02159\n",
      "[100]\tvalid_0's multi_logloss: 1.01435\n",
      "[150]\tvalid_0's multi_logloss: 1.0125\n",
      "[200]\tvalid_0's multi_logloss: 1.0121\n",
      "[250]\tvalid_0's multi_logloss: 1.01232\n"
     ]
    },
    {
     "name": "stderr",
     "output_type": "stream",
     "text": [
      "num_leaves, val_score: 1.012051:  40%|####################                              | 8/20 [04:45<08:11, 40.96s/it]\u001b[32m[I 2022-06-02 15:52:17,467]\u001b[0m Trial 14 finished with value: 1.0120508068388836 and parameters: {'num_leaves': 25}. Best is trial 14 with value: 1.0120508068388836.\u001b[0m\n",
      "num_leaves, val_score: 1.012051:  40%|####################                              | 8/20 [04:45<08:11, 40.96s/it]"
     ]
    },
    {
     "name": "stdout",
     "output_type": "stream",
     "text": [
      "Early stopping, best iteration is:\n",
      "[197]\tvalid_0's multi_logloss: 1.01205\n",
      "Training until validation scores don't improve for 100 rounds\n",
      "[50]\tvalid_0's multi_logloss: 1.01742\n",
      "[100]\tvalid_0's multi_logloss: 1.01344\n",
      "[150]\tvalid_0's multi_logloss: 1.01371\n",
      "[200]\tvalid_0's multi_logloss: 1.01504\n",
      "Early stopping, best iteration is:\n",
      "[102]\tvalid_0's multi_logloss: 1.01334\n"
     ]
    },
    {
     "name": "stderr",
     "output_type": "stream",
     "text": [
      "num_leaves, val_score: 1.012051:  45%|######################5                           | 9/20 [05:08<06:27, 35.23s/it]\u001b[32m[I 2022-06-02 15:52:40,104]\u001b[0m Trial 15 finished with value: 1.0133424833201665 and parameters: {'num_leaves': 79}. Best is trial 14 with value: 1.0120508068388836.\u001b[0m\n",
      "num_leaves, val_score: 1.012051:  45%|######################5                           | 9/20 [05:08<06:27, 35.23s/it]"
     ]
    },
    {
     "name": "stdout",
     "output_type": "stream",
     "text": [
      "Training until validation scores don't improve for 100 rounds\n",
      "[50]\tvalid_0's multi_logloss: 1.03323\n",
      "[100]\tvalid_0's multi_logloss: 1.02259\n",
      "[150]\tvalid_0's multi_logloss: 1.01808\n",
      "[200]\tvalid_0's multi_logloss: 1.01559\n",
      "[250]\tvalid_0's multi_logloss: 1.01418\n",
      "[300]\tvalid_0's multi_logloss: 1.01341\n",
      "[350]\tvalid_0's multi_logloss: 1.01294\n",
      "[400]\tvalid_0's multi_logloss: 1.01247\n",
      "[450]\tvalid_0's multi_logloss: 1.01209\n",
      "[500]\tvalid_0's multi_logloss: 1.01216\n",
      "[550]\tvalid_0's multi_logloss: 1.01195\n",
      "[600]\tvalid_0's multi_logloss: 1.01189\n",
      "[650]\tvalid_0's multi_logloss: 1.01191\n"
     ]
    },
    {
     "name": "stderr",
     "output_type": "stream",
     "text": [
      "num_leaves, val_score: 1.011849:  50%|########################5                        | 10/20 [05:27<05:02, 30.20s/it]\u001b[32m[I 2022-06-02 15:52:59,049]\u001b[0m Trial 16 finished with value: 1.011848720287255 and parameters: {'num_leaves': 5}. Best is trial 16 with value: 1.011848720287255.\u001b[0m\n",
      "num_leaves, val_score: 1.011849:  50%|########################5                        | 10/20 [05:27<05:02, 30.20s/it]"
     ]
    },
    {
     "name": "stdout",
     "output_type": "stream",
     "text": [
      "Early stopping, best iteration is:\n",
      "[592]\tvalid_0's multi_logloss: 1.01185\n",
      "Training until validation scores don't improve for 100 rounds\n",
      "[50]\tvalid_0's multi_logloss: 1.01963\n",
      "[100]\tvalid_0's multi_logloss: 1.01373\n",
      "[150]\tvalid_0's multi_logloss: 1.01247\n",
      "[200]\tvalid_0's multi_logloss: 1.01255\n"
     ]
    },
    {
     "name": "stderr",
     "output_type": "stream",
     "text": [
      "num_leaves, val_score: 1.011849:  55%|##########################9                      | 11/20 [05:51<04:16, 28.47s/it]\u001b[32m[I 2022-06-02 15:53:23,598]\u001b[0m Trial 17 finished with value: 1.0124017084098764 and parameters: {'num_leaves': 40}. Best is trial 16 with value: 1.011848720287255.\u001b[0m\n",
      "num_leaves, val_score: 1.011849:  55%|##########################9                      | 11/20 [05:51<04:16, 28.47s/it]"
     ]
    },
    {
     "name": "stdout",
     "output_type": "stream",
     "text": [
      "Early stopping, best iteration is:\n",
      "[149]\tvalid_0's multi_logloss: 1.0124\n",
      "Training until validation scores don't improve for 100 rounds\n",
      "[50]\tvalid_0's multi_logloss: 1.03605\n",
      "[100]\tvalid_0's multi_logloss: 1.02493\n",
      "[150]\tvalid_0's multi_logloss: 1.02001\n",
      "[200]\tvalid_0's multi_logloss: 1.01711\n",
      "[250]\tvalid_0's multi_logloss: 1.01536\n",
      "[300]\tvalid_0's multi_logloss: 1.01432\n",
      "[350]\tvalid_0's multi_logloss: 1.01371\n",
      "[400]\tvalid_0's multi_logloss: 1.01303\n",
      "[450]\tvalid_0's multi_logloss: 1.01254\n",
      "[500]\tvalid_0's multi_logloss: 1.01242\n",
      "[550]\tvalid_0's multi_logloss: 1.01223\n",
      "[600]\tvalid_0's multi_logloss: 1.01219\n",
      "[650]\tvalid_0's multi_logloss: 1.01224\n"
     ]
    },
    {
     "name": "stderr",
     "output_type": "stream",
     "text": [
      "num_leaves, val_score: 1.011849:  60%|#############################4                   | 12/20 [06:39<04:34, 34.28s/it]\u001b[32m[I 2022-06-02 15:54:11,158]\u001b[0m Trial 18 finished with value: 1.012146890921712 and parameters: {'num_leaves': 4}. Best is trial 16 with value: 1.011848720287255.\u001b[0m\n",
      "num_leaves, val_score: 1.011849:  60%|#############################4                   | 12/20 [06:39<04:34, 34.28s/it]"
     ]
    },
    {
     "name": "stdout",
     "output_type": "stream",
     "text": [
      "Early stopping, best iteration is:\n",
      "[589]\tvalid_0's multi_logloss: 1.01215\n",
      "Training until validation scores don't improve for 100 rounds\n",
      "[50]\tvalid_0's multi_logloss: 1.01902\n",
      "[100]\tvalid_0's multi_logloss: 1.01334\n",
      "[150]\tvalid_0's multi_logloss: 1.01237\n",
      "[200]\tvalid_0's multi_logloss: 1.01259\n",
      "[250]\tvalid_0's multi_logloss: 1.01278\n"
     ]
    },
    {
     "name": "stderr",
     "output_type": "stream",
     "text": [
      "\r",
      "num_leaves, val_score: 1.011849:  60%|#############################4                   | 12/20 [07:08<04:34, 34.28s/it]"
     ]
    },
    {
     "name": "stdout",
     "output_type": "stream",
     "text": [
      "Early stopping, best iteration is:\n",
      "[162]\tvalid_0's multi_logloss: 1.01226\n"
     ]
    },
    {
     "name": "stderr",
     "output_type": "stream",
     "text": [
      "num_leaves, val_score: 1.011849:  65%|###############################8                 | 13/20 [07:08<03:50, 32.86s/it]\u001b[32m[I 2022-06-02 15:54:40,773]\u001b[0m Trial 19 finished with value: 1.0122648587373255 and parameters: {'num_leaves': 48}. Best is trial 16 with value: 1.011848720287255.\u001b[0m\n",
      "num_leaves, val_score: 1.011849:  65%|###############################8                 | 13/20 [07:08<03:50, 32.86s/it]"
     ]
    },
    {
     "name": "stdout",
     "output_type": "stream",
     "text": [
      "Training until validation scores don't improve for 100 rounds\n",
      "[50]\tvalid_0's multi_logloss: 1.01943\n",
      "[100]\tvalid_0's multi_logloss: 1.01356\n",
      "[150]\tvalid_0's multi_logloss: 1.01255\n",
      "[200]\tvalid_0's multi_logloss: 1.01273\n",
      "[250]\tvalid_0's multi_logloss: 1.01302\n"
     ]
    },
    {
     "name": "stderr",
     "output_type": "stream",
     "text": [
      "num_leaves, val_score: 1.011849:  70%|##################################3              | 14/20 [07:35<03:05, 30.83s/it]\u001b[32m[I 2022-06-02 15:55:06,907]\u001b[0m Trial 20 finished with value: 1.0124299642409702 and parameters: {'num_leaves': 41}. Best is trial 16 with value: 1.011848720287255.\u001b[0m\n",
      "num_leaves, val_score: 1.011849:  70%|##################################3              | 14/20 [07:35<03:05, 30.83s/it]"
     ]
    },
    {
     "name": "stdout",
     "output_type": "stream",
     "text": [
      "Early stopping, best iteration is:\n",
      "[158]\tvalid_0's multi_logloss: 1.01243\n",
      "Training until validation scores don't improve for 100 rounds\n",
      "[50]\tvalid_0's multi_logloss: 1.01753\n",
      "[100]\tvalid_0's multi_logloss: 1.0153\n",
      "[150]\tvalid_0's multi_logloss: 1.01702\n",
      "Early stopping, best iteration is:\n",
      "[88]\tvalid_0's multi_logloss: 1.01499\n"
     ]
    },
    {
     "name": "stderr",
     "output_type": "stream",
     "text": [
      "num_leaves, val_score: 1.011849:  75%|####################################7            | 15/20 [08:06<02:34, 30.91s/it]\u001b[32m[I 2022-06-02 15:55:37,978]\u001b[0m Trial 21 finished with value: 1.0149861535376805 and parameters: {'num_leaves': 157}. Best is trial 16 with value: 1.011848720287255.\u001b[0m\n",
      "num_leaves, val_score: 1.011849:  75%|####################################7            | 15/20 [08:06<02:34, 30.91s/it]"
     ]
    },
    {
     "name": "stdout",
     "output_type": "stream",
     "text": [
      "Training until validation scores don't improve for 100 rounds\n",
      "[50]\tvalid_0's multi_logloss: 1.02053\n",
      "[100]\tvalid_0's multi_logloss: 1.01413\n",
      "[150]\tvalid_0's multi_logloss: 1.01264\n",
      "[200]\tvalid_0's multi_logloss: 1.01248\n",
      "[250]\tvalid_0's multi_logloss: 1.01266\n"
     ]
    },
    {
     "name": "stderr",
     "output_type": "stream",
     "text": [
      "num_leaves, val_score: 1.011849:  80%|#######################################2         | 16/20 [08:30<01:55, 28.84s/it]\u001b[32m[I 2022-06-02 15:56:02,014]\u001b[0m Trial 22 finished with value: 1.0123111950376504 and parameters: {'num_leaves': 32}. Best is trial 16 with value: 1.011848720287255.\u001b[0m\n",
      "num_leaves, val_score: 1.011849:  80%|#######################################2         | 16/20 [08:30<01:55, 28.84s/it]"
     ]
    },
    {
     "name": "stdout",
     "output_type": "stream",
     "text": [
      "Early stopping, best iteration is:\n",
      "[176]\tvalid_0's multi_logloss: 1.01231\n",
      "Training until validation scores don't improve for 100 rounds\n",
      "[50]\tvalid_0's multi_logloss: 1.01789\n",
      "[100]\tvalid_0's multi_logloss: 1.01392\n",
      "[150]\tvalid_0's multi_logloss: 1.01378\n",
      "[200]\tvalid_0's multi_logloss: 1.01496\n",
      "Early stopping, best iteration is:\n",
      "[129]\tvalid_0's multi_logloss: 1.01351\n"
     ]
    },
    {
     "name": "stderr",
     "output_type": "stream",
     "text": [
      "num_leaves, val_score: 1.011849:  85%|#########################################6       | 17/20 [08:57<01:24, 28.23s/it]\u001b[32m[I 2022-06-02 15:56:28,839]\u001b[0m Trial 23 finished with value: 1.0135066759358673 and parameters: {'num_leaves': 75}. Best is trial 16 with value: 1.011848720287255.\u001b[0m\n",
      "num_leaves, val_score: 1.011849:  85%|#########################################6       | 17/20 [08:57<01:24, 28.23s/it]"
     ]
    },
    {
     "name": "stdout",
     "output_type": "stream",
     "text": [
      "Training until validation scores don't improve for 100 rounds\n",
      "[50]\tvalid_0's multi_logloss: 1.02497\n",
      "[100]\tvalid_0's multi_logloss: 1.01631\n",
      "[150]\tvalid_0's multi_logloss: 1.01333\n",
      "[200]\tvalid_0's multi_logloss: 1.01234\n",
      "[250]\tvalid_0's multi_logloss: 1.01192\n",
      "[300]\tvalid_0's multi_logloss: 1.01184\n",
      "[350]\tvalid_0's multi_logloss: 1.01174\n",
      "[400]\tvalid_0's multi_logloss: 1.01188\n"
     ]
    },
    {
     "name": "stderr",
     "output_type": "stream",
     "text": [
      "num_leaves, val_score: 1.011694:  90%|############################################1    | 18/20 [09:30<00:59, 29.83s/it]\u001b[32m[I 2022-06-02 15:57:02,388]\u001b[0m Trial 24 finished with value: 1.0116939950221115 and parameters: {'num_leaves': 13}. Best is trial 24 with value: 1.0116939950221115.\u001b[0m\n",
      "num_leaves, val_score: 1.011694:  90%|############################################1    | 18/20 [09:30<00:59, 29.83s/it]"
     ]
    },
    {
     "name": "stdout",
     "output_type": "stream",
     "text": [
      "Early stopping, best iteration is:\n",
      "[320]\tvalid_0's multi_logloss: 1.01169\n",
      "Training until validation scores don't improve for 100 rounds\n",
      "[50]\tvalid_0's multi_logloss: 1.01829\n",
      "[100]\tvalid_0's multi_logloss: 1.01778\n",
      "[150]\tvalid_0's multi_logloss: 1.02097\n",
      "Early stopping, best iteration is:\n",
      "[73]\tvalid_0's multi_logloss: 1.01709\n"
     ]
    },
    {
     "name": "stderr",
     "output_type": "stream",
     "text": [
      "num_leaves, val_score: 1.011694:  95%|##############################################5  | 19/20 [10:05<00:31, 31.29s/it]\u001b[32m[I 2022-06-02 15:57:37,084]\u001b[0m Trial 25 finished with value: 1.017090510012396 and parameters: {'num_leaves': 245}. Best is trial 24 with value: 1.0116939950221115.\u001b[0m\n",
      "num_leaves, val_score: 1.011694:  95%|##############################################5  | 19/20 [10:05<00:31, 31.29s/it]"
     ]
    },
    {
     "name": "stdout",
     "output_type": "stream",
     "text": [
      "Training until validation scores don't improve for 100 rounds\n",
      "[50]\tvalid_0's multi_logloss: 1.01796\n",
      "[100]\tvalid_0's multi_logloss: 1.01373\n",
      "[150]\tvalid_0's multi_logloss: 1.01362\n",
      "[200]\tvalid_0's multi_logloss: 1.01379\n"
     ]
    },
    {
     "name": "stderr",
     "output_type": "stream",
     "text": [
      "num_leaves, val_score: 1.011694: 100%|#################################################| 20/20 [10:32<00:00, 30.06s/it]\u001b[32m[I 2022-06-02 15:58:04,258]\u001b[0m Trial 26 finished with value: 1.0133008264907462 and parameters: {'num_leaves': 66}. Best is trial 24 with value: 1.0116939950221115.\u001b[0m\n",
      "num_leaves, val_score: 1.011694: 100%|#################################################| 20/20 [10:32<00:00, 31.62s/it]\n"
     ]
    },
    {
     "name": "stdout",
     "output_type": "stream",
     "text": [
      "Early stopping, best iteration is:\n",
      "[129]\tvalid_0's multi_logloss: 1.0133\n"
     ]
    },
    {
     "name": "stderr",
     "output_type": "stream",
     "text": [
      "bagging, val_score: 1.011694:   0%|                                                             | 0/10 [00:00<?, ?it/s]"
     ]
    },
    {
     "name": "stdout",
     "output_type": "stream",
     "text": [
      "Training until validation scores don't improve for 100 rounds\n",
      "[50]\tvalid_0's multi_logloss: 1.02462\n",
      "[100]\tvalid_0's multi_logloss: 1.01612\n",
      "[150]\tvalid_0's multi_logloss: 1.01358\n",
      "[200]\tvalid_0's multi_logloss: 1.01295\n",
      "[250]\tvalid_0's multi_logloss: 1.0128\n",
      "[300]\tvalid_0's multi_logloss: 1.01283\n"
     ]
    },
    {
     "name": "stderr",
     "output_type": "stream",
     "text": [
      "bagging, val_score: 1.011694:  10%|#####3                                               | 1/10 [00:23<03:31, 23.50s/it]\u001b[32m[I 2022-06-02 15:58:27,776]\u001b[0m Trial 27 finished with value: 1.0126409050845926 and parameters: {'bagging_fraction': 0.5541515932057132, 'bagging_freq': 4}. Best is trial 27 with value: 1.0126409050845926.\u001b[0m\n",
      "bagging, val_score: 1.011694:  10%|#####3                                               | 1/10 [00:23<03:31, 23.50s/it]"
     ]
    },
    {
     "name": "stdout",
     "output_type": "stream",
     "text": [
      "Early stopping, best iteration is:\n",
      "[224]\tvalid_0's multi_logloss: 1.01264\n",
      "Training until validation scores don't improve for 100 rounds\n",
      "[50]\tvalid_0's multi_logloss: 1.02481\n",
      "[100]\tvalid_0's multi_logloss: 1.01611\n",
      "[150]\tvalid_0's multi_logloss: 1.0131\n",
      "[200]\tvalid_0's multi_logloss: 1.01204\n",
      "[250]\tvalid_0's multi_logloss: 1.01177\n",
      "[300]\tvalid_0's multi_logloss: 1.01122\n",
      "[350]\tvalid_0's multi_logloss: 1.0109\n",
      "[400]\tvalid_0's multi_logloss: 1.01105\n"
     ]
    },
    {
     "name": "stderr",
     "output_type": "stream",
     "text": [
      "\r",
      "bagging, val_score: 1.010902:  10%|#####3                                               | 1/10 [00:40<03:31, 23.50s/it]"
     ]
    },
    {
     "name": "stdout",
     "output_type": "stream",
     "text": [
      "[450]\tvalid_0's multi_logloss: 1.01129\n",
      "Early stopping, best iteration is:\n",
      "[350]\tvalid_0's multi_logloss: 1.0109\n"
     ]
    },
    {
     "name": "stderr",
     "output_type": "stream",
     "text": [
      "bagging, val_score: 1.010902:  20%|##########6                                          | 2/10 [00:40<02:35, 19.44s/it]\u001b[32m[I 2022-06-02 15:58:44,383]\u001b[0m Trial 28 finished with value: 1.0109024971827318 and parameters: {'bagging_fraction': 0.6306401373694912, 'bagging_freq': 6}. Best is trial 28 with value: 1.0109024971827318.\u001b[0m\n",
      "bagging, val_score: 1.010902:  20%|##########6                                          | 2/10 [00:40<02:35, 19.44s/it]"
     ]
    },
    {
     "name": "stdout",
     "output_type": "stream",
     "text": [
      "Training until validation scores don't improve for 100 rounds\n",
      "[50]\tvalid_0's multi_logloss: 1.02442\n",
      "[100]\tvalid_0's multi_logloss: 1.01613\n",
      "[150]\tvalid_0's multi_logloss: 1.01387\n",
      "[200]\tvalid_0's multi_logloss: 1.01299\n",
      "[250]\tvalid_0's multi_logloss: 1.01252\n",
      "[300]\tvalid_0's multi_logloss: 1.01293\n",
      "[350]\tvalid_0's multi_logloss: 1.01324\n"
     ]
    },
    {
     "name": "stderr",
     "output_type": "stream",
     "text": [
      "bagging, val_score: 1.010902:  30%|###############9                                     | 3/10 [01:08<02:46, 23.73s/it]\u001b[32m[I 2022-06-02 15:59:13,209]\u001b[0m Trial 29 finished with value: 1.0124225479518354 and parameters: {'bagging_fraction': 0.41423314894813706, 'bagging_freq': 7}. Best is trial 28 with value: 1.0109024971827318.\u001b[0m\n",
      "bagging, val_score: 1.010902:  30%|###############9                                     | 3/10 [01:08<02:46, 23.73s/it]"
     ]
    },
    {
     "name": "stdout",
     "output_type": "stream",
     "text": [
      "Early stopping, best iteration is:\n",
      "[254]\tvalid_0's multi_logloss: 1.01242\n",
      "Training until validation scores don't improve for 100 rounds\n",
      "[50]\tvalid_0's multi_logloss: 1.02531\n",
      "[100]\tvalid_0's multi_logloss: 1.01659\n",
      "[150]\tvalid_0's multi_logloss: 1.01355\n",
      "[200]\tvalid_0's multi_logloss: 1.0125\n",
      "[250]\tvalid_0's multi_logloss: 1.01219\n",
      "[300]\tvalid_0's multi_logloss: 1.01224\n",
      "[350]\tvalid_0's multi_logloss: 1.01227\n",
      "[400]\tvalid_0's multi_logloss: 1.0124\n"
     ]
    },
    {
     "name": "stderr",
     "output_type": "stream",
     "text": [
      "bagging, val_score: 1.010902:  40%|#####################2                               | 4/10 [01:37<02:34, 25.72s/it]\u001b[32m[I 2022-06-02 15:59:41,980]\u001b[0m Trial 30 finished with value: 1.0120625131646004 and parameters: {'bagging_fraction': 0.7152733585641334, 'bagging_freq': 7}. Best is trial 28 with value: 1.0109024971827318.\u001b[0m\n",
      "bagging, val_score: 1.010902:  40%|#####################2                               | 4/10 [01:37<02:34, 25.72s/it]"
     ]
    },
    {
     "name": "stdout",
     "output_type": "stream",
     "text": [
      "Early stopping, best iteration is:\n",
      "[313]\tvalid_0's multi_logloss: 1.01206\n",
      "Training until validation scores don't improve for 100 rounds\n",
      "[50]\tvalid_0's multi_logloss: 1.02509\n",
      "[100]\tvalid_0's multi_logloss: 1.01667\n",
      "[150]\tvalid_0's multi_logloss: 1.01382\n",
      "[200]\tvalid_0's multi_logloss: 1.01263\n",
      "[250]\tvalid_0's multi_logloss: 1.01244\n",
      "[300]\tvalid_0's multi_logloss: 1.01239\n",
      "[350]\tvalid_0's multi_logloss: 1.0122\n",
      "[400]\tvalid_0's multi_logloss: 1.01224\n",
      "[450]\tvalid_0's multi_logloss: 1.01241\n"
     ]
    },
    {
     "name": "stderr",
     "output_type": "stream",
     "text": [
      "bagging, val_score: 1.010902:  50%|##########################5                          | 5/10 [02:11<02:23, 28.75s/it]\u001b[32m[I 2022-06-02 16:00:16,098]\u001b[0m Trial 31 finished with value: 1.0121627294529403 and parameters: {'bagging_fraction': 0.5099420778670952, 'bagging_freq': 6}. Best is trial 28 with value: 1.0109024971827318.\u001b[0m\n",
      "bagging, val_score: 1.010902:  50%|##########################5                          | 5/10 [02:11<02:23, 28.75s/it]"
     ]
    },
    {
     "name": "stdout",
     "output_type": "stream",
     "text": [
      "Early stopping, best iteration is:\n",
      "[385]\tvalid_0's multi_logloss: 1.01216\n",
      "Training until validation scores don't improve for 100 rounds\n",
      "[50]\tvalid_0's multi_logloss: 1.02469\n",
      "[100]\tvalid_0's multi_logloss: 1.01606\n",
      "[150]\tvalid_0's multi_logloss: 1.01352\n",
      "[200]\tvalid_0's multi_logloss: 1.01264\n",
      "[250]\tvalid_0's multi_logloss: 1.0124\n",
      "[300]\tvalid_0's multi_logloss: 1.01245\n",
      "[350]\tvalid_0's multi_logloss: 1.01268\n"
     ]
    },
    {
     "name": "stderr",
     "output_type": "stream",
     "text": [
      "bagging, val_score: 1.010902:  60%|###############################8                     | 6/10 [02:36<01:49, 27.38s/it]\u001b[32m[I 2022-06-02 16:00:40,827]\u001b[0m Trial 32 finished with value: 1.0122367972752466 and parameters: {'bagging_fraction': 0.5349689661614987, 'bagging_freq': 4}. Best is trial 28 with value: 1.0109024971827318.\u001b[0m\n",
      "bagging, val_score: 1.010902:  60%|###############################8                     | 6/10 [02:36<01:49, 27.38s/it]"
     ]
    },
    {
     "name": "stdout",
     "output_type": "stream",
     "text": [
      "Early stopping, best iteration is:\n",
      "[258]\tvalid_0's multi_logloss: 1.01224\n",
      "Training until validation scores don't improve for 100 rounds\n",
      "[50]\tvalid_0's multi_logloss: 1.0252\n",
      "[100]\tvalid_0's multi_logloss: 1.01679\n",
      "[150]\tvalid_0's multi_logloss: 1.01387\n",
      "[200]\tvalid_0's multi_logloss: 1.01289\n",
      "[250]\tvalid_0's multi_logloss: 1.01265\n",
      "[300]\tvalid_0's multi_logloss: 1.01231\n",
      "[350]\tvalid_0's multi_logloss: 1.01223\n",
      "[400]\tvalid_0's multi_logloss: 1.01208\n"
     ]
    },
    {
     "name": "stderr",
     "output_type": "stream",
     "text": [
      "bagging, val_score: 1.010902:  70%|#####################################                | 7/10 [03:05<01:23, 27.80s/it]\u001b[32m[I 2022-06-02 16:01:09,495]\u001b[0m Trial 33 finished with value: 1.0120168650492287 and parameters: {'bagging_fraction': 0.6874814723628205, 'bagging_freq': 7}. Best is trial 28 with value: 1.0109024971827318.\u001b[0m\n",
      "bagging, val_score: 1.010902:  70%|#####################################                | 7/10 [03:05<01:23, 27.80s/it]"
     ]
    },
    {
     "name": "stdout",
     "output_type": "stream",
     "text": [
      "Early stopping, best iteration is:\n",
      "[323]\tvalid_0's multi_logloss: 1.01202\n",
      "Training until validation scores don't improve for 100 rounds\n",
      "[50]\tvalid_0's multi_logloss: 1.02556\n",
      "[100]\tvalid_0's multi_logloss: 1.01694\n",
      "[150]\tvalid_0's multi_logloss: 1.01365\n",
      "[200]\tvalid_0's multi_logloss: 1.01249\n",
      "[250]\tvalid_0's multi_logloss: 1.01209\n",
      "[300]\tvalid_0's multi_logloss: 1.01196\n",
      "[350]\tvalid_0's multi_logloss: 1.01195\n",
      "[400]\tvalid_0's multi_logloss: 1.01189\n",
      "[450]\tvalid_0's multi_logloss: 1.01203\n",
      "[500]\tvalid_0's multi_logloss: 1.01224\n"
     ]
    },
    {
     "name": "stderr",
     "output_type": "stream",
     "text": [
      "bagging, val_score: 1.010902:  80%|##########################################4          | 8/10 [03:38<00:59, 29.68s/it]\u001b[32m[I 2022-06-02 16:01:43,192]\u001b[0m Trial 34 finished with value: 1.0118337576798389 and parameters: {'bagging_fraction': 0.9711372096671144, 'bagging_freq': 3}. Best is trial 28 with value: 1.0109024971827318.\u001b[0m\n",
      "bagging, val_score: 1.010902:  80%|##########################################4          | 8/10 [03:38<00:59, 29.68s/it]"
     ]
    },
    {
     "name": "stdout",
     "output_type": "stream",
     "text": [
      "Early stopping, best iteration is:\n",
      "[408]\tvalid_0's multi_logloss: 1.01183\n",
      "Training until validation scores don't improve for 100 rounds\n",
      "[50]\tvalid_0's multi_logloss: 1.02447\n",
      "[100]\tvalid_0's multi_logloss: 1.01605\n",
      "[150]\tvalid_0's multi_logloss: 1.01353\n",
      "[200]\tvalid_0's multi_logloss: 1.01225\n",
      "[250]\tvalid_0's multi_logloss: 1.01207\n",
      "[300]\tvalid_0's multi_logloss: 1.01229\n"
     ]
    },
    {
     "name": "stderr",
     "output_type": "stream",
     "text": [
      "bagging, val_score: 1.010902:  90%|###############################################7     | 9/10 [03:59<00:26, 26.92s/it]\u001b[32m[I 2022-06-02 16:02:04,055]\u001b[0m Trial 35 finished with value: 1.0120085027771586 and parameters: {'bagging_fraction': 0.5486746052055819, 'bagging_freq': 2}. Best is trial 28 with value: 1.0109024971827318.\u001b[0m\n",
      "bagging, val_score: 1.010902:  90%|###############################################7     | 9/10 [03:59<00:26, 26.92s/it]"
     ]
    },
    {
     "name": "stdout",
     "output_type": "stream",
     "text": [
      "Early stopping, best iteration is:\n",
      "[217]\tvalid_0's multi_logloss: 1.01201\n",
      "Training until validation scores don't improve for 100 rounds\n",
      "[50]\tvalid_0's multi_logloss: 1.02496\n",
      "[100]\tvalid_0's multi_logloss: 1.01622\n",
      "[150]\tvalid_0's multi_logloss: 1.01334\n",
      "[200]\tvalid_0's multi_logloss: 1.01208\n",
      "[250]\tvalid_0's multi_logloss: 1.01148\n",
      "[300]\tvalid_0's multi_logloss: 1.01154\n"
     ]
    },
    {
     "name": "stderr",
     "output_type": "stream",
     "text": [
      "bagging, val_score: 1.010902: 100%|####################################################| 10/10 [04:22<00:00, 25.55s/it]\u001b[32m[I 2022-06-02 16:02:26,544]\u001b[0m Trial 36 finished with value: 1.0114804417848307 and parameters: {'bagging_fraction': 0.7654281619241146, 'bagging_freq': 1}. Best is trial 28 with value: 1.0109024971827318.\u001b[0m\n",
      "bagging, val_score: 1.010902: 100%|####################################################| 10/10 [04:22<00:00, 26.23s/it]\n"
     ]
    },
    {
     "name": "stdout",
     "output_type": "stream",
     "text": [
      "[350]\tvalid_0's multi_logloss: 1.0116\n",
      "Early stopping, best iteration is:\n",
      "[250]\tvalid_0's multi_logloss: 1.01148\n"
     ]
    },
    {
     "name": "stderr",
     "output_type": "stream",
     "text": [
      "feature_fraction_stage2, val_score: 1.010902:   0%|                                              | 0/3 [00:00<?, ?it/s]"
     ]
    },
    {
     "name": "stdout",
     "output_type": "stream",
     "text": [
      "Training until validation scores don't improve for 100 rounds\n",
      "[50]\tvalid_0's multi_logloss: 1.02494\n",
      "[100]\tvalid_0's multi_logloss: 1.01623\n",
      "[150]\tvalid_0's multi_logloss: 1.01343\n",
      "[200]\tvalid_0's multi_logloss: 1.01252\n",
      "[250]\tvalid_0's multi_logloss: 1.01212\n",
      "[300]\tvalid_0's multi_logloss: 1.01168\n",
      "[350]\tvalid_0's multi_logloss: 1.01155\n",
      "[400]\tvalid_0's multi_logloss: 1.01183\n"
     ]
    },
    {
     "name": "stderr",
     "output_type": "stream",
     "text": [
      "feature_fraction_stage2, val_score: 1.010902:  33%|############6                         | 1/3 [00:29<00:58, 29.04s/it]\u001b[32m[I 2022-06-02 16:02:55,599]\u001b[0m Trial 37 finished with value: 1.0114707656671267 and parameters: {'feature_fraction': 0.44800000000000006}. Best is trial 37 with value: 1.0114707656671267.\u001b[0m\n",
      "feature_fraction_stage2, val_score: 1.010902:  33%|############6                         | 1/3 [00:29<00:58, 29.04s/it]"
     ]
    },
    {
     "name": "stdout",
     "output_type": "stream",
     "text": [
      "Early stopping, best iteration is:\n",
      "[342]\tvalid_0's multi_logloss: 1.01147\n",
      "Training until validation scores don't improve for 100 rounds\n",
      "[50]\tvalid_0's multi_logloss: 1.02475\n",
      "[100]\tvalid_0's multi_logloss: 1.01596\n",
      "[150]\tvalid_0's multi_logloss: 1.01296\n",
      "[200]\tvalid_0's multi_logloss: 1.01206\n",
      "[250]\tvalid_0's multi_logloss: 1.01194\n",
      "[300]\tvalid_0's multi_logloss: 1.01125\n",
      "[350]\tvalid_0's multi_logloss: 1.01107\n",
      "[400]\tvalid_0's multi_logloss: 1.01115\n"
     ]
    },
    {
     "name": "stderr",
     "output_type": "stream",
     "text": [
      "feature_fraction_stage2, val_score: 1.010902:  67%|#########################3            | 2/3 [00:59<00:29, 29.66s/it]\u001b[32m[I 2022-06-02 16:03:25,692]\u001b[0m Trial 38 finished with value: 1.0109989026466701 and parameters: {'feature_fraction': 0.41600000000000004}. Best is trial 38 with value: 1.0109989026466701.\u001b[0m\n",
      "feature_fraction_stage2, val_score: 1.010902:  67%|#########################3            | 2/3 [00:59<00:29, 29.66s/it]"
     ]
    },
    {
     "name": "stdout",
     "output_type": "stream",
     "text": [
      "Early stopping, best iteration is:\n",
      "[327]\tvalid_0's multi_logloss: 1.011\n",
      "Training until validation scores don't improve for 100 rounds\n",
      "[50]\tvalid_0's multi_logloss: 1.02482\n",
      "[100]\tvalid_0's multi_logloss: 1.016\n",
      "[150]\tvalid_0's multi_logloss: 1.01325\n",
      "[200]\tvalid_0's multi_logloss: 1.01224\n",
      "[250]\tvalid_0's multi_logloss: 1.01189\n",
      "[300]\tvalid_0's multi_logloss: 1.01158\n",
      "[350]\tvalid_0's multi_logloss: 1.01143\n",
      "[400]\tvalid_0's multi_logloss: 1.01144\n"
     ]
    },
    {
     "name": "stderr",
     "output_type": "stream",
     "text": [
      "feature_fraction_stage2, val_score: 1.010902: 100%|######################################| 3/3 [01:13<00:00, 22.83s/it]\u001b[32m[I 2022-06-02 16:03:40,385]\u001b[0m Trial 39 finished with value: 1.011322124732434 and parameters: {'feature_fraction': 0.48000000000000004}. Best is trial 38 with value: 1.0109989026466701.\u001b[0m\n",
      "feature_fraction_stage2, val_score: 1.010902: 100%|######################################| 3/3 [01:13<00:00, 24.61s/it]\n"
     ]
    },
    {
     "name": "stdout",
     "output_type": "stream",
     "text": [
      "Early stopping, best iteration is:\n",
      "[333]\tvalid_0's multi_logloss: 1.01132\n"
     ]
    },
    {
     "name": "stderr",
     "output_type": "stream",
     "text": [
      "regularization_factors, val_score: 1.010902:   0%|                                              | 0/20 [00:00<?, ?it/s]"
     ]
    },
    {
     "name": "stdout",
     "output_type": "stream",
     "text": [
      "Training until validation scores don't improve for 100 rounds\n",
      "[50]\tvalid_0's multi_logloss: 1.02481\n",
      "[100]\tvalid_0's multi_logloss: 1.01611\n",
      "[150]\tvalid_0's multi_logloss: 1.0131\n",
      "[200]\tvalid_0's multi_logloss: 1.01201\n",
      "[250]\tvalid_0's multi_logloss: 1.01174\n",
      "[300]\tvalid_0's multi_logloss: 1.01108\n",
      "[350]\tvalid_0's multi_logloss: 1.01096\n",
      "[400]\tvalid_0's multi_logloss: 1.01116\n"
     ]
    },
    {
     "name": "stderr",
     "output_type": "stream",
     "text": [
      "regularization_factors, val_score: 1.010865:   5%|#9                                    | 1/20 [00:12<03:59, 12.60s/it]\u001b[32m[I 2022-06-02 16:03:53,001]\u001b[0m Trial 40 finished with value: 1.010864577018456 and parameters: {'lambda_l1': 0.0012815994543777247, 'lambda_l2': 1.2328133832289517e-07}. Best is trial 40 with value: 1.010864577018456.\u001b[0m\n",
      "regularization_factors, val_score: 1.010865:   5%|#9                                    | 1/20 [00:12<03:59, 12.60s/it]"
     ]
    },
    {
     "name": "stdout",
     "output_type": "stream",
     "text": [
      "Early stopping, best iteration is:\n",
      "[318]\tvalid_0's multi_logloss: 1.01086\n",
      "Training until validation scores don't improve for 100 rounds\n",
      "[50]\tvalid_0's multi_logloss: 1.02481\n",
      "[100]\tvalid_0's multi_logloss: 1.01614\n",
      "[150]\tvalid_0's multi_logloss: 1.01304\n",
      "[200]\tvalid_0's multi_logloss: 1.01206\n",
      "[250]\tvalid_0's multi_logloss: 1.01168\n",
      "[300]\tvalid_0's multi_logloss: 1.01118\n",
      "[350]\tvalid_0's multi_logloss: 1.01101\n",
      "[400]\tvalid_0's multi_logloss: 1.01124\n"
     ]
    },
    {
     "name": "stderr",
     "output_type": "stream",
     "text": [
      "regularization_factors, val_score: 1.010865:  10%|###8                                  | 2/20 [00:39<06:14, 20.81s/it]\u001b[32m[I 2022-06-02 16:04:19,549]\u001b[0m Trial 41 finished with value: 1.010927196687995 and parameters: {'lambda_l1': 0.000566993062867047, 'lambda_l2': 1.685360750426163e-07}. Best is trial 40 with value: 1.010864577018456.\u001b[0m\n",
      "regularization_factors, val_score: 1.010865:  10%|###8                                  | 2/20 [00:39<06:14, 20.81s/it]"
     ]
    },
    {
     "name": "stdout",
     "output_type": "stream",
     "text": [
      "Early stopping, best iteration is:\n",
      "[325]\tvalid_0's multi_logloss: 1.01093\n",
      "Training until validation scores don't improve for 100 rounds\n",
      "[50]\tvalid_0's multi_logloss: 1.02479\n",
      "[100]\tvalid_0's multi_logloss: 1.01612\n",
      "[150]\tvalid_0's multi_logloss: 1.0131\n",
      "[200]\tvalid_0's multi_logloss: 1.01222\n",
      "[250]\tvalid_0's multi_logloss: 1.01164\n",
      "[300]\tvalid_0's multi_logloss: 1.01111\n",
      "[350]\tvalid_0's multi_logloss: 1.01104\n",
      "[400]\tvalid_0's multi_logloss: 1.01132\n"
     ]
    },
    {
     "name": "stderr",
     "output_type": "stream",
     "text": [
      "regularization_factors, val_score: 1.010865:  15%|#####7                                | 3/20 [00:52<04:53, 17.24s/it]\u001b[32m[I 2022-06-02 16:04:32,551]\u001b[0m Trial 42 finished with value: 1.0109359224704146 and parameters: {'lambda_l1': 0.026547520451963402, 'lambda_l2': 0.030582830498580394}. Best is trial 40 with value: 1.010864577018456.\u001b[0m\n",
      "regularization_factors, val_score: 1.010865:  15%|#####7                                | 3/20 [00:52<04:53, 17.24s/it]"
     ]
    },
    {
     "name": "stdout",
     "output_type": "stream",
     "text": [
      "Early stopping, best iteration is:\n",
      "[317]\tvalid_0's multi_logloss: 1.01094\n",
      "Training until validation scores don't improve for 100 rounds\n",
      "[50]\tvalid_0's multi_logloss: 1.02465\n",
      "[100]\tvalid_0's multi_logloss: 1.01585\n",
      "[150]\tvalid_0's multi_logloss: 1.01286\n",
      "[200]\tvalid_0's multi_logloss: 1.01177\n",
      "[250]\tvalid_0's multi_logloss: 1.01129\n",
      "[300]\tvalid_0's multi_logloss: 1.01091\n",
      "[350]\tvalid_0's multi_logloss: 1.0107\n",
      "[400]\tvalid_0's multi_logloss: 1.01087\n"
     ]
    },
    {
     "name": "stderr",
     "output_type": "stream",
     "text": [
      "regularization_factors, val_score: 1.010659:  20%|#######6                              | 4/20 [01:19<05:38, 21.16s/it]\u001b[32m[I 2022-06-02 16:04:59,721]\u001b[0m Trial 43 finished with value: 1.010659132112063 and parameters: {'lambda_l1': 7.512025382504405e-07, 'lambda_l2': 0.21147559131021632}. Best is trial 43 with value: 1.010659132112063.\u001b[0m\n",
      "regularization_factors, val_score: 1.010659:  20%|#######6                              | 4/20 [01:19<05:38, 21.16s/it]"
     ]
    },
    {
     "name": "stdout",
     "output_type": "stream",
     "text": [
      "Early stopping, best iteration is:\n",
      "[325]\tvalid_0's multi_logloss: 1.01066\n",
      "Training until validation scores don't improve for 100 rounds\n",
      "[50]\tvalid_0's multi_logloss: 1.02481\n",
      "[100]\tvalid_0's multi_logloss: 1.01614\n",
      "[150]\tvalid_0's multi_logloss: 1.01304\n",
      "[200]\tvalid_0's multi_logloss: 1.01206\n",
      "[250]\tvalid_0's multi_logloss: 1.01168\n",
      "[300]\tvalid_0's multi_logloss: 1.01118\n",
      "[350]\tvalid_0's multi_logloss: 1.01101\n",
      "[400]\tvalid_0's multi_logloss: 1.01124\n"
     ]
    },
    {
     "name": "stderr",
     "output_type": "stream",
     "text": [
      "regularization_factors, val_score: 1.010659:  25%|#########5                            | 5/20 [01:48<06:02, 24.14s/it]\u001b[32m[I 2022-06-02 16:05:29,138]\u001b[0m Trial 44 finished with value: 1.0109271921767906 and parameters: {'lambda_l1': 0.0006274634533680175, 'lambda_l2': 1.9161373857797064e-08}. Best is trial 43 with value: 1.010659132112063.\u001b[0m\n",
      "regularization_factors, val_score: 1.010659:  25%|#########5                            | 5/20 [01:48<06:02, 24.14s/it]"
     ]
    },
    {
     "name": "stdout",
     "output_type": "stream",
     "text": [
      "Early stopping, best iteration is:\n",
      "[325]\tvalid_0's multi_logloss: 1.01093\n",
      "Training until validation scores don't improve for 100 rounds\n",
      "[50]\tvalid_0's multi_logloss: 1.02474\n",
      "[100]\tvalid_0's multi_logloss: 1.01606\n",
      "[150]\tvalid_0's multi_logloss: 1.013\n",
      "[200]\tvalid_0's multi_logloss: 1.01192\n",
      "[250]\tvalid_0's multi_logloss: 1.01145\n",
      "[300]\tvalid_0's multi_logloss: 1.011\n",
      "[350]\tvalid_0's multi_logloss: 1.0109\n",
      "[400]\tvalid_0's multi_logloss: 1.01107\n"
     ]
    },
    {
     "name": "stderr",
     "output_type": "stream",
     "text": [
      "regularization_factors, val_score: 1.010659:  30%|###########4                          | 6/20 [02:03<04:52, 20.91s/it]\u001b[32m[I 2022-06-02 16:05:43,790]\u001b[0m Trial 45 finished with value: 1.010813971197568 and parameters: {'lambda_l1': 0.37032679830373705, 'lambda_l2': 5.935582803459458e-07}. Best is trial 43 with value: 1.010659132112063.\u001b[0m\n",
      "regularization_factors, val_score: 1.010659:  30%|###########4                          | 6/20 [02:03<04:52, 20.91s/it]"
     ]
    },
    {
     "name": "stdout",
     "output_type": "stream",
     "text": [
      "Early stopping, best iteration is:\n",
      "[317]\tvalid_0's multi_logloss: 1.01081\n",
      "Training until validation scores don't improve for 100 rounds\n",
      "[50]\tvalid_0's multi_logloss: 1.02481\n",
      "[100]\tvalid_0's multi_logloss: 1.01614\n",
      "[150]\tvalid_0's multi_logloss: 1.01304\n",
      "[200]\tvalid_0's multi_logloss: 1.01205\n",
      "[250]\tvalid_0's multi_logloss: 1.01166\n",
      "[300]\tvalid_0's multi_logloss: 1.01127\n",
      "[350]\tvalid_0's multi_logloss: 1.01102\n",
      "[400]\tvalid_0's multi_logloss: 1.01116\n"
     ]
    },
    {
     "name": "stderr",
     "output_type": "stream",
     "text": [
      "regularization_factors, val_score: 1.010659:  35%|#############3                        | 7/20 [02:32<05:05, 23.53s/it]\u001b[32m[I 2022-06-02 16:06:12,693]\u001b[0m Trial 46 finished with value: 1.0109809437064865 and parameters: {'lambda_l1': 3.105273229988956e-08, 'lambda_l2': 0.0003499188799149922}. Best is trial 43 with value: 1.010659132112063.\u001b[0m\n",
      "regularization_factors, val_score: 1.010659:  35%|#############3                        | 7/20 [02:32<05:05, 23.53s/it]"
     ]
    },
    {
     "name": "stdout",
     "output_type": "stream",
     "text": [
      "Early stopping, best iteration is:\n",
      "[341]\tvalid_0's multi_logloss: 1.01098\n",
      "Training until validation scores don't improve for 100 rounds\n",
      "[50]\tvalid_0's multi_logloss: 1.02479\n",
      "[100]\tvalid_0's multi_logloss: 1.01614\n",
      "[150]\tvalid_0's multi_logloss: 1.01326\n",
      "[200]\tvalid_0's multi_logloss: 1.01218\n",
      "[250]\tvalid_0's multi_logloss: 1.01176\n",
      "[300]\tvalid_0's multi_logloss: 1.01121\n",
      "[350]\tvalid_0's multi_logloss: 1.0112\n",
      "[400]\tvalid_0's multi_logloss: 1.01149\n"
     ]
    },
    {
     "name": "stderr",
     "output_type": "stream",
     "text": [
      "regularization_factors, val_score: 1.010659:  40%|###############2                      | 8/20 [02:59<04:56, 24.71s/it]\u001b[32m[I 2022-06-02 16:06:39,925]\u001b[0m Trial 47 finished with value: 1.0110597051159818 and parameters: {'lambda_l1': 2.009557572158376e-06, 'lambda_l2': 3.095730540692998}. Best is trial 43 with value: 1.010659132112063.\u001b[0m\n",
      "regularization_factors, val_score: 1.010659:  40%|###############2                      | 8/20 [02:59<04:56, 24.71s/it]"
     ]
    },
    {
     "name": "stdout",
     "output_type": "stream",
     "text": [
      "Early stopping, best iteration is:\n",
      "[316]\tvalid_0's multi_logloss: 1.01106\n",
      "Training until validation scores don't improve for 100 rounds\n",
      "[50]\tvalid_0's multi_logloss: 1.02583\n",
      "[100]\tvalid_0's multi_logloss: 1.0169\n",
      "[150]\tvalid_0's multi_logloss: 1.01371\n",
      "[200]\tvalid_0's multi_logloss: 1.01245\n",
      "[250]\tvalid_0's multi_logloss: 1.01203\n",
      "[300]\tvalid_0's multi_logloss: 1.01171\n",
      "[350]\tvalid_0's multi_logloss: 1.01154\n",
      "[400]\tvalid_0's multi_logloss: 1.01173\n"
     ]
    },
    {
     "name": "stderr",
     "output_type": "stream",
     "text": [
      "regularization_factors, val_score: 1.010659:  45%|#################1                    | 9/20 [03:34<05:06, 27.90s/it]\u001b[32m[I 2022-06-02 16:07:14,856]\u001b[0m Trial 48 finished with value: 1.011454300864489 and parameters: {'lambda_l1': 9.314001120318494, 'lambda_l2': 0.0007272349970880443}. Best is trial 43 with value: 1.010659132112063.\u001b[0m\n",
      "regularization_factors, val_score: 1.010659:  45%|#################1                    | 9/20 [03:34<05:06, 27.90s/it]"
     ]
    },
    {
     "name": "stdout",
     "output_type": "stream",
     "text": [
      "Early stopping, best iteration is:\n",
      "[324]\tvalid_0's multi_logloss: 1.01145\n",
      "Training until validation scores don't improve for 100 rounds\n",
      "[50]\tvalid_0's multi_logloss: 1.02506\n",
      "[100]\tvalid_0's multi_logloss: 1.01606\n",
      "[150]\tvalid_0's multi_logloss: 1.01298\n",
      "[200]\tvalid_0's multi_logloss: 1.01209\n",
      "[250]\tvalid_0's multi_logloss: 1.01172\n",
      "[300]\tvalid_0's multi_logloss: 1.01132\n",
      "[350]\tvalid_0's multi_logloss: 1.01108\n",
      "[400]\tvalid_0's multi_logloss: 1.01134\n"
     ]
    },
    {
     "name": "stderr",
     "output_type": "stream",
     "text": [
      "regularization_factors, val_score: 1.010659:  50%|##################5                  | 10/20 [04:09<05:02, 30.22s/it]\u001b[32m[I 2022-06-02 16:07:50,263]\u001b[0m Trial 49 finished with value: 1.01108343527813 and parameters: {'lambda_l1': 1.6624356112339231, 'lambda_l2': 1.5777837027870914e-07}. Best is trial 43 with value: 1.010659132112063.\u001b[0m\n",
      "regularization_factors, val_score: 1.010659:  50%|##################5                  | 10/20 [04:09<05:02, 30.22s/it]"
     ]
    },
    {
     "name": "stdout",
     "output_type": "stream",
     "text": [
      "[450]\tvalid_0's multi_logloss: 1.0116\n",
      "Early stopping, best iteration is:\n",
      "[350]\tvalid_0's multi_logloss: 1.01108\n",
      "Training until validation scores don't improve for 100 rounds\n",
      "[50]\tvalid_0's multi_logloss: 1.02474\n",
      "[100]\tvalid_0's multi_logloss: 1.01604\n",
      "[150]\tvalid_0's multi_logloss: 1.01293\n",
      "[200]\tvalid_0's multi_logloss: 1.01196\n",
      "[250]\tvalid_0's multi_logloss: 1.01158\n",
      "[300]\tvalid_0's multi_logloss: 1.01109\n",
      "[350]\tvalid_0's multi_logloss: 1.01107\n",
      "[400]\tvalid_0's multi_logloss: 1.01126\n",
      "Early stopping, best iteration is:\n",
      "[303]\tvalid_0's multi_logloss: 1.01103\n"
     ]
    },
    {
     "name": "stderr",
     "output_type": "stream",
     "text": [
      "regularization_factors, val_score: 1.010659:  55%|####################3                | 11/20 [04:26<03:53, 25.92s/it]\u001b[32m[I 2022-06-02 16:08:06,433]\u001b[0m Trial 50 finished with value: 1.0110333671888818 and parameters: {'lambda_l1': 3.4583594343915785e-06, 'lambda_l2': 4.343905579021262}. Best is trial 43 with value: 1.010659132112063.\u001b[0m\n",
      "regularization_factors, val_score: 1.010659:  55%|####################3                | 11/20 [04:26<03:53, 25.92s/it]"
     ]
    },
    {
     "name": "stdout",
     "output_type": "stream",
     "text": [
      "Training until validation scores don't improve for 100 rounds\n",
      "[50]\tvalid_0's multi_logloss: 1.02481\n",
      "[100]\tvalid_0's multi_logloss: 1.01614\n",
      "[150]\tvalid_0's multi_logloss: 1.01304\n",
      "[200]\tvalid_0's multi_logloss: 1.01205\n",
      "[250]\tvalid_0's multi_logloss: 1.01166\n",
      "[300]\tvalid_0's multi_logloss: 1.01127\n",
      "[350]\tvalid_0's multi_logloss: 1.01102\n",
      "[400]\tvalid_0's multi_logloss: 1.01116\n"
     ]
    },
    {
     "name": "stderr",
     "output_type": "stream",
     "text": [
      "regularization_factors, val_score: 1.010659:  60%|######################2              | 12/20 [05:01<03:50, 28.82s/it]"
     ]
    },
    {
     "name": "stdout",
     "output_type": "stream",
     "text": [
      "Early stopping, best iteration is:\n",
      "[341]\tvalid_0's multi_logloss: 1.01098\n"
     ]
    },
    {
     "name": "stderr",
     "output_type": "stream",
     "text": [
      "\u001b[32m[I 2022-06-02 16:08:41,875]\u001b[0m Trial 51 finished with value: 1.0109809620218377 and parameters: {'lambda_l1': 2.0521579407172954e-06, 'lambda_l2': 3.1660672431948556e-06}. Best is trial 43 with value: 1.010659132112063.\u001b[0m\n",
      "regularization_factors, val_score: 1.010659:  60%|######################2              | 12/20 [05:01<03:50, 28.82s/it]"
     ]
    },
    {
     "name": "stdout",
     "output_type": "stream",
     "text": [
      "Training until validation scores don't improve for 100 rounds\n",
      "[50]\tvalid_0's multi_logloss: 1.02479\n",
      "[100]\tvalid_0's multi_logloss: 1.01613\n",
      "[150]\tvalid_0's multi_logloss: 1.01316\n",
      "[200]\tvalid_0's multi_logloss: 1.01204\n",
      "[250]\tvalid_0's multi_logloss: 1.01164\n",
      "[300]\tvalid_0's multi_logloss: 1.01121\n",
      "[350]\tvalid_0's multi_logloss: 1.01108\n",
      "[400]\tvalid_0's multi_logloss: 1.0114\n"
     ]
    },
    {
     "name": "stderr",
     "output_type": "stream",
     "text": [
      "regularization_factors, val_score: 1.010659:  65%|########################             | 13/20 [05:34<03:30, 30.10s/it]\u001b[32m[I 2022-06-02 16:09:14,940]\u001b[0m Trial 52 finished with value: 1.0110056183516871 and parameters: {'lambda_l1': 0.032730688497396306, 'lambda_l2': 0.02951455233014026}. Best is trial 43 with value: 1.010659132112063.\u001b[0m\n",
      "regularization_factors, val_score: 1.010659:  65%|########################             | 13/20 [05:34<03:30, 30.10s/it]"
     ]
    },
    {
     "name": "stdout",
     "output_type": "stream",
     "text": [
      "Early stopping, best iteration is:\n",
      "[338]\tvalid_0's multi_logloss: 1.01101\n",
      "Training until validation scores don't improve for 100 rounds\n",
      "[50]\tvalid_0's multi_logloss: 1.02481\n",
      "[100]\tvalid_0's multi_logloss: 1.01614\n",
      "[150]\tvalid_0's multi_logloss: 1.01304\n",
      "[200]\tvalid_0's multi_logloss: 1.01205\n",
      "[250]\tvalid_0's multi_logloss: 1.01166\n",
      "[300]\tvalid_0's multi_logloss: 1.01127\n",
      "[350]\tvalid_0's multi_logloss: 1.01102\n",
      "[400]\tvalid_0's multi_logloss: 1.01116\n"
     ]
    },
    {
     "name": "stderr",
     "output_type": "stream",
     "text": [
      "regularization_factors, val_score: 1.010659:  70%|#########################9           | 14/20 [06:09<03:08, 31.48s/it]\u001b[32m[I 2022-06-02 16:09:49,587]\u001b[0m Trial 53 finished with value: 1.0109809614936607 and parameters: {'lambda_l1': 1.1272518357707013e-07, 'lambda_l2': 1.604683836450592e-05}. Best is trial 43 with value: 1.010659132112063.\u001b[0m\n",
      "regularization_factors, val_score: 1.010659:  70%|#########################9           | 14/20 [06:09<03:08, 31.48s/it]"
     ]
    },
    {
     "name": "stdout",
     "output_type": "stream",
     "text": [
      "Early stopping, best iteration is:\n",
      "[341]\tvalid_0's multi_logloss: 1.01098\n",
      "Training until validation scores don't improve for 100 rounds\n",
      "[50]\tvalid_0's multi_logloss: 1.02481\n",
      "[100]\tvalid_0's multi_logloss: 1.01608\n",
      "[150]\tvalid_0's multi_logloss: 1.01318\n",
      "[200]\tvalid_0's multi_logloss: 1.01225\n",
      "[250]\tvalid_0's multi_logloss: 1.01175\n",
      "[300]\tvalid_0's multi_logloss: 1.0112\n",
      "[350]\tvalid_0's multi_logloss: 1.01117\n",
      "[400]\tvalid_0's multi_logloss: 1.01144\n"
     ]
    },
    {
     "name": "stderr",
     "output_type": "stream",
     "text": [
      "regularization_factors, val_score: 1.010659:  75%|###########################7         | 15/20 [06:38<02:34, 30.96s/it]\u001b[32m[I 2022-06-02 16:10:19,349]\u001b[0m Trial 54 finished with value: 1.0110365483160584 and parameters: {'lambda_l1': 3.455112130854155e-05, 'lambda_l2': 0.03398409396347817}. Best is trial 43 with value: 1.010659132112063.\u001b[0m\n",
      "regularization_factors, val_score: 1.010659:  75%|###########################7         | 15/20 [06:38<02:34, 30.96s/it]"
     ]
    },
    {
     "name": "stdout",
     "output_type": "stream",
     "text": [
      "Early stopping, best iteration is:\n",
      "[317]\tvalid_0's multi_logloss: 1.01104\n",
      "Training until validation scores don't improve for 100 rounds\n",
      "[50]\tvalid_0's multi_logloss: 1.02474\n",
      "[100]\tvalid_0's multi_logloss: 1.01605\n",
      "[150]\tvalid_0's multi_logloss: 1.013\n",
      "[200]\tvalid_0's multi_logloss: 1.01218\n",
      "[250]\tvalid_0's multi_logloss: 1.01178\n",
      "[300]\tvalid_0's multi_logloss: 1.01128\n",
      "[350]\tvalid_0's multi_logloss: 1.0112\n",
      "[400]\tvalid_0's multi_logloss: 1.01139\n"
     ]
    },
    {
     "name": "stderr",
     "output_type": "stream",
     "text": [
      "regularization_factors, val_score: 1.010659:  80%|#############################6       | 16/20 [07:08<02:01, 30.45s/it]\u001b[32m[I 2022-06-02 16:10:48,622]\u001b[0m Trial 55 finished with value: 1.0110607516192123 and parameters: {'lambda_l1': 0.0968971997118209, 'lambda_l2': 1.2831418757904703e-05}. Best is trial 43 with value: 1.010659132112063.\u001b[0m\n",
      "regularization_factors, val_score: 1.010659:  80%|#############################6       | 16/20 [07:08<02:01, 30.45s/it]"
     ]
    },
    {
     "name": "stdout",
     "output_type": "stream",
     "text": [
      "Early stopping, best iteration is:\n",
      "[325]\tvalid_0's multi_logloss: 1.01106\n",
      "Training until validation scores don't improve for 100 rounds\n",
      "[50]\tvalid_0's multi_logloss: 1.02487\n",
      "[100]\tvalid_0's multi_logloss: 1.01596\n",
      "[150]\tvalid_0's multi_logloss: 1.01298\n",
      "[200]\tvalid_0's multi_logloss: 1.01187\n",
      "[250]\tvalid_0's multi_logloss: 1.01132\n",
      "[300]\tvalid_0's multi_logloss: 1.01098\n",
      "[350]\tvalid_0's multi_logloss: 1.01096\n",
      "[400]\tvalid_0's multi_logloss: 1.01113\n"
     ]
    },
    {
     "name": "stderr",
     "output_type": "stream",
     "text": [
      "regularization_factors, val_score: 1.010659:  85%|###############################4     | 17/20 [07:43<01:35, 31.86s/it]\u001b[32m[I 2022-06-02 16:11:23,748]\u001b[0m Trial 56 finished with value: 1.0107819942849339 and parameters: {'lambda_l1': 0.2527003303587164, 'lambda_l2': 0.3400741097619454}. Best is trial 43 with value: 1.010659132112063.\u001b[0m\n",
      "regularization_factors, val_score: 1.010659:  85%|###############################4     | 17/20 [07:43<01:35, 31.86s/it]"
     ]
    },
    {
     "name": "stdout",
     "output_type": "stream",
     "text": [
      "Early stopping, best iteration is:\n",
      "[327]\tvalid_0's multi_logloss: 1.01078\n",
      "Training until validation scores don't improve for 100 rounds\n",
      "[50]\tvalid_0's multi_logloss: 1.02464\n",
      "[100]\tvalid_0's multi_logloss: 1.01583\n",
      "[150]\tvalid_0's multi_logloss: 1.01284\n",
      "[200]\tvalid_0's multi_logloss: 1.01195\n",
      "[250]\tvalid_0's multi_logloss: 1.01145\n",
      "[300]\tvalid_0's multi_logloss: 1.01101\n",
      "[350]\tvalid_0's multi_logloss: 1.01099\n",
      "[400]\tvalid_0's multi_logloss: 1.01132\n"
     ]
    },
    {
     "name": "stderr",
     "output_type": "stream",
     "text": [
      "regularization_factors, val_score: 1.010659:  90%|#################################3   | 18/20 [08:14<01:03, 31.61s/it]\u001b[32m[I 2022-06-02 16:11:54,785]\u001b[0m Trial 57 finished with value: 1.010887962147928 and parameters: {'lambda_l1': 3.0257916029365424e-05, 'lambda_l2': 0.28914898367396524}. Best is trial 43 with value: 1.010659132112063.\u001b[0m\n",
      "regularization_factors, val_score: 1.010659:  90%|#################################3   | 18/20 [08:14<01:03, 31.61s/it]"
     ]
    },
    {
     "name": "stdout",
     "output_type": "stream",
     "text": [
      "Early stopping, best iteration is:\n",
      "[325]\tvalid_0's multi_logloss: 1.01089\n",
      "Training until validation scores don't improve for 100 rounds\n",
      "[50]\tvalid_0's multi_logloss: 1.02481\n",
      "[100]\tvalid_0's multi_logloss: 1.01612\n",
      "[150]\tvalid_0's multi_logloss: 1.01311\n",
      "[200]\tvalid_0's multi_logloss: 1.01195\n",
      "[250]\tvalid_0's multi_logloss: 1.01158\n",
      "[300]\tvalid_0's multi_logloss: 1.01106\n",
      "[350]\tvalid_0's multi_logloss: 1.01102\n",
      "[400]\tvalid_0's multi_logloss: 1.01124\n"
     ]
    },
    {
     "name": "stderr",
     "output_type": "stream",
     "text": [
      "regularization_factors, val_score: 1.010659:  95%|###################################1 | 19/20 [08:28<00:26, 26.35s/it]\u001b[32m[I 2022-06-02 16:12:08,869]\u001b[0m Trial 58 finished with value: 1.010928061060918 and parameters: {'lambda_l1': 0.008301602574483662, 'lambda_l2': 0.0027557026095722426}. Best is trial 43 with value: 1.010659132112063.\u001b[0m\n",
      "regularization_factors, val_score: 1.010659:  95%|###################################1 | 19/20 [08:28<00:26, 26.35s/it]"
     ]
    },
    {
     "name": "stdout",
     "output_type": "stream",
     "text": [
      "Early stopping, best iteration is:\n",
      "[317]\tvalid_0's multi_logloss: 1.01093\n",
      "Training until validation scores don't improve for 100 rounds\n",
      "[50]\tvalid_0's multi_logloss: 1.02477\n",
      "[100]\tvalid_0's multi_logloss: 1.01611\n",
      "[150]\tvalid_0's multi_logloss: 1.01308\n",
      "[200]\tvalid_0's multi_logloss: 1.01207\n",
      "[250]\tvalid_0's multi_logloss: 1.01158\n",
      "[300]\tvalid_0's multi_logloss: 1.01102\n",
      "[350]\tvalid_0's multi_logloss: 1.01098\n",
      "[400]\tvalid_0's multi_logloss: 1.01121\n"
     ]
    },
    {
     "name": "stderr",
     "output_type": "stream",
     "text": [
      "regularization_factors, val_score: 1.010659: 100%|#####################################| 20/20 [09:01<00:00, 28.30s/it]\u001b[32m[I 2022-06-02 16:12:41,733]\u001b[0m Trial 59 finished with value: 1.0108546110257706 and parameters: {'lambda_l1': 1.0124665357032241e-08, 'lambda_l2': 0.45427662720167195}. Best is trial 43 with value: 1.010659132112063.\u001b[0m\n",
      "regularization_factors, val_score: 1.010659: 100%|#####################################| 20/20 [09:01<00:00, 27.07s/it]\n"
     ]
    },
    {
     "name": "stdout",
     "output_type": "stream",
     "text": [
      "Early stopping, best iteration is:\n",
      "[325]\tvalid_0's multi_logloss: 1.01085\n"
     ]
    },
    {
     "name": "stderr",
     "output_type": "stream",
     "text": [
      "min_data_in_leaf, val_score: 1.010659:   0%|                                                     | 0/5 [00:00<?, ?it/s]"
     ]
    },
    {
     "name": "stdout",
     "output_type": "stream",
     "text": [
      "Training until validation scores don't improve for 100 rounds\n",
      "[50]\tvalid_0's multi_logloss: 1.02465\n",
      "[100]\tvalid_0's multi_logloss: 1.01585\n",
      "[150]\tvalid_0's multi_logloss: 1.01286\n",
      "[200]\tvalid_0's multi_logloss: 1.01177\n",
      "[250]\tvalid_0's multi_logloss: 1.01129\n",
      "[300]\tvalid_0's multi_logloss: 1.01091\n",
      "[350]\tvalid_0's multi_logloss: 1.0107\n",
      "[400]\tvalid_0's multi_logloss: 1.01087\n"
     ]
    },
    {
     "name": "stderr",
     "output_type": "stream",
     "text": [
      "min_data_in_leaf, val_score: 1.010659:  20%|#########                                    | 1/5 [00:15<01:02, 15.69s/it]\u001b[32m[I 2022-06-02 16:12:57,434]\u001b[0m Trial 60 finished with value: 1.010659132112063 and parameters: {'min_child_samples': 50}. Best is trial 60 with value: 1.010659132112063.\u001b[0m\n",
      "min_data_in_leaf, val_score: 1.010659:  20%|#########                                    | 1/5 [00:15<01:02, 15.69s/it]"
     ]
    },
    {
     "name": "stdout",
     "output_type": "stream",
     "text": [
      "Early stopping, best iteration is:\n",
      "[325]\tvalid_0's multi_logloss: 1.01066\n",
      "Training until validation scores don't improve for 100 rounds\n",
      "[50]\tvalid_0's multi_logloss: 1.02465\n",
      "[100]\tvalid_0's multi_logloss: 1.01585\n",
      "[150]\tvalid_0's multi_logloss: 1.01286\n",
      "[200]\tvalid_0's multi_logloss: 1.01177\n",
      "[250]\tvalid_0's multi_logloss: 1.01129\n",
      "[300]\tvalid_0's multi_logloss: 1.01091\n",
      "[350]\tvalid_0's multi_logloss: 1.0107\n",
      "[400]\tvalid_0's multi_logloss: 1.01087\n"
     ]
    },
    {
     "name": "stderr",
     "output_type": "stream",
     "text": [
      "min_data_in_leaf, val_score: 1.010659:  40%|##################                           | 2/5 [00:47<01:15, 25.15s/it]\u001b[32m[I 2022-06-02 16:13:29,215]\u001b[0m Trial 61 finished with value: 1.010659132112063 and parameters: {'min_child_samples': 10}. Best is trial 60 with value: 1.010659132112063.\u001b[0m\n",
      "min_data_in_leaf, val_score: 1.010659:  40%|##################                           | 2/5 [00:47<01:15, 25.15s/it]"
     ]
    },
    {
     "name": "stdout",
     "output_type": "stream",
     "text": [
      "Early stopping, best iteration is:\n",
      "[325]\tvalid_0's multi_logloss: 1.01066\n",
      "Training until validation scores don't improve for 100 rounds\n",
      "[50]\tvalid_0's multi_logloss: 1.02465\n",
      "[100]\tvalid_0's multi_logloss: 1.01585\n",
      "[150]\tvalid_0's multi_logloss: 1.01286\n",
      "[200]\tvalid_0's multi_logloss: 1.01177\n",
      "[250]\tvalid_0's multi_logloss: 1.01129\n",
      "[300]\tvalid_0's multi_logloss: 1.01091\n",
      "[350]\tvalid_0's multi_logloss: 1.0107\n",
      "[400]\tvalid_0's multi_logloss: 1.01087\n"
     ]
    },
    {
     "name": "stderr",
     "output_type": "stream",
     "text": [
      "min_data_in_leaf, val_score: 1.010659:  60%|###########################                  | 3/5 [01:19<00:56, 28.16s/it]\u001b[32m[I 2022-06-02 16:14:00,951]\u001b[0m Trial 62 finished with value: 1.010659132112063 and parameters: {'min_child_samples': 100}. Best is trial 60 with value: 1.010659132112063.\u001b[0m\n",
      "min_data_in_leaf, val_score: 1.010659:  60%|###########################                  | 3/5 [01:19<00:56, 28.16s/it]"
     ]
    },
    {
     "name": "stdout",
     "output_type": "stream",
     "text": [
      "Early stopping, best iteration is:\n",
      "[325]\tvalid_0's multi_logloss: 1.01066\n",
      "Training until validation scores don't improve for 100 rounds\n",
      "[50]\tvalid_0's multi_logloss: 1.02465\n",
      "[100]\tvalid_0's multi_logloss: 1.01585\n",
      "[150]\tvalid_0's multi_logloss: 1.01286\n",
      "[200]\tvalid_0's multi_logloss: 1.01177\n",
      "[250]\tvalid_0's multi_logloss: 1.01129\n",
      "[300]\tvalid_0's multi_logloss: 1.01091\n",
      "[350]\tvalid_0's multi_logloss: 1.0107\n",
      "[400]\tvalid_0's multi_logloss: 1.01087\n"
     ]
    },
    {
     "name": "stderr",
     "output_type": "stream",
     "text": [
      "min_data_in_leaf, val_score: 1.010659:  80%|####################################         | 4/5 [01:51<00:29, 29.64s/it]\u001b[32m[I 2022-06-02 16:14:32,851]\u001b[0m Trial 63 finished with value: 1.010659132112063 and parameters: {'min_child_samples': 25}. Best is trial 60 with value: 1.010659132112063.\u001b[0m\n",
      "min_data_in_leaf, val_score: 1.010659:  80%|####################################         | 4/5 [01:51<00:29, 29.64s/it]"
     ]
    },
    {
     "name": "stdout",
     "output_type": "stream",
     "text": [
      "Early stopping, best iteration is:\n",
      "[325]\tvalid_0's multi_logloss: 1.01066\n",
      "Training until validation scores don't improve for 100 rounds\n",
      "[50]\tvalid_0's multi_logloss: 1.02465\n",
      "[100]\tvalid_0's multi_logloss: 1.01585\n",
      "[150]\tvalid_0's multi_logloss: 1.01286\n",
      "[200]\tvalid_0's multi_logloss: 1.01177\n",
      "[250]\tvalid_0's multi_logloss: 1.01129\n",
      "[300]\tvalid_0's multi_logloss: 1.01091\n",
      "[350]\tvalid_0's multi_logloss: 1.0107\n",
      "[400]\tvalid_0's multi_logloss: 1.01087\n"
     ]
    },
    {
     "name": "stderr",
     "output_type": "stream",
     "text": [
      "min_data_in_leaf, val_score: 1.010659: 100%|#############################################| 5/5 [02:19<00:00, 29.08s/it]\u001b[32m[I 2022-06-02 16:15:00,955]\u001b[0m Trial 64 finished with value: 1.010659132112063 and parameters: {'min_child_samples': 5}. Best is trial 60 with value: 1.010659132112063.\u001b[0m\n",
      "min_data_in_leaf, val_score: 1.010659: 100%|#############################################| 5/5 [02:19<00:00, 27.84s/it]"
     ]
    },
    {
     "name": "stdout",
     "output_type": "stream",
     "text": [
      "Early stopping, best iteration is:\n",
      "[325]\tvalid_0's multi_logloss: 1.01066\n",
      "{'objective': 'multiclass', 'num_class': 3, 'metric': 'multi_logloss', 'verbosity': -1, 'num_leaves': 13, 'learning_rate': 0.05, 'feature_fraction': 0.4, 'bagging_fraction': 0.6306401373694912, 'bagging_freq': 6, 'feature_pre_filter': False, 'lambda_l1': 7.512025382504405e-07, 'lambda_l2': 0.21147559131021632, 'min_data_in_leaf': 25, 'min_child_samples': 20, 'num_iterations': 10000, 'early_stopping_round': 100}\n"
     ]
    },
    {
     "name": "stderr",
     "output_type": "stream",
     "text": [
      "\n"
     ]
    },
    {
     "name": "stdout",
     "output_type": "stream",
     "text": [
      "[[0.53283172 0.25556535 0.21160293]\n",
      " [0.21813934 0.26949315 0.5123675 ]\n",
      " [0.29980508 0.25345771 0.44673721]\n",
      " ...\n",
      " [0.61066748 0.19136728 0.19796524]\n",
      " [0.2382787  0.22110497 0.54061633]\n",
      " [0.37023156 0.19301198 0.43675646]]\n"
     ]
    }
   ],
   "source": [
    "import optuna.integration.lightgbm as lgb   #Models with tuning\n",
    "\n",
    "X_train, X_valid, y_train, y_valid = train_test_split(X_train, y_train, test_size=0.30, random_state=1998, stratify=y_train)\n",
    "# Create dataset for LightGBM\n",
    "lgb_train = lgb.Dataset(X_train, y_train)\n",
    "lgb_valid = lgb.Dataset(X_valid, y_valid)\n",
    "# setting parameter\n",
    "params = {'objective': 'multiclass', \n",
    "          'num_class': 3,\n",
    "          'metric': 'multi_logloss', \n",
    "          'verbosity': -1, \n",
    "          'num_leaves': 45, \n",
    "          'learning_rate': 0.05, \n",
    "          'feature_fraction': 1.0, \n",
    "          'bagging_fraction': 0.7, \n",
    "          'bagging_freq': 2, \n",
    "          'feature_pre_filter': False, \n",
    "          'lambda_l1': 0.005, \n",
    "          'lambda_l2': 1.0e-08, \n",
    "          'min_child_samples': 25}\n",
    " #Model creation from training data\n",
    "gbm = lgb.train(params, lgb_train, valid_sets=lgb_valid,\n",
    "                verbose_eval=50, # Learning result output every 50 iter\n",
    "                num_boost_round=10000, # max iteration\n",
    "                early_stopping_rounds=100\n",
    "              )\n",
    "best_params = gbm.params\n",
    "print(best_params)\n",
    "# Check forecast accuracy\n",
    "y_pred = gbm.predict(X_test, num_iteration=gbm.best_iteration)\n",
    "print(y_pred)"
   ]
  },
  {
   "cell_type": "markdown",
   "metadata": {
    "id": "Dk_de-Y5E7sZ"
   },
   "source": [
    "Learning without Tuning.  \n",
    "Here, **k-fold cross validation** is performed to create a model with better generalization performance"
   ]
  },
  {
   "cell_type": "code",
   "execution_count": 19,
   "metadata": {
    "execution": {
     "iopub.execute_input": "2022-04-18T14:58:57.355259Z",
     "iopub.status.busy": "2022-04-18T14:58:57.354863Z",
     "iopub.status.idle": "2022-04-18T15:03:58.661563Z",
     "shell.execute_reply": "2022-04-18T15:03:58.66079Z",
     "shell.execute_reply.started": "2022-04-18T14:58:57.355218Z"
    },
    "id": "E6bd2Sj1E7sZ",
    "scrolled": false
   },
   "outputs": [
    {
     "name": "stdout",
     "output_type": "stream",
     "text": [
      "[LightGBM] [Warning] min_data_in_leaf is set=25, min_child_samples=20 will be ignored. Current value: min_data_in_leaf=25\n",
      "Training until validation scores don't improve for 100 rounds\n",
      "[100]\tvalid_0's multi_logloss: 1.01993\n",
      "[200]\tvalid_0's multi_logloss: 1.01261\n",
      "[300]\tvalid_0's multi_logloss: 1.01058\n",
      "[400]\tvalid_0's multi_logloss: 1.00934\n",
      "[500]\tvalid_0's multi_logloss: 1.00902\n",
      "[600]\tvalid_0's multi_logloss: 1.0087\n",
      "[700]\tvalid_0's multi_logloss: 1.00854\n",
      "[800]\tvalid_0's multi_logloss: 1.00869\n",
      "Early stopping, best iteration is:\n",
      "[706]\tvalid_0's multi_logloss: 1.00849\n",
      "Fold:  1, loss: 1.008\n",
      "[LightGBM] [Warning] min_data_in_leaf is set=25, min_child_samples=20 will be ignored. Current value: min_data_in_leaf=25\n",
      "Training until validation scores don't improve for 100 rounds\n",
      "[100]\tvalid_0's multi_logloss: 1.02168\n",
      "[200]\tvalid_0's multi_logloss: 1.01532\n",
      "[300]\tvalid_0's multi_logloss: 1.01384\n",
      "[400]\tvalid_0's multi_logloss: 1.0133\n",
      "[500]\tvalid_0's multi_logloss: 1.01287\n",
      "[600]\tvalid_0's multi_logloss: 1.01271\n",
      "[700]\tvalid_0's multi_logloss: 1.01225\n",
      "[800]\tvalid_0's multi_logloss: 1.01222\n",
      "Early stopping, best iteration is:\n",
      "[765]\tvalid_0's multi_logloss: 1.01206\n",
      "Fold:  2, loss: 1.012\n",
      "[LightGBM] [Warning] min_data_in_leaf is set=25, min_child_samples=20 will be ignored. Current value: min_data_in_leaf=25\n",
      "Training until validation scores don't improve for 100 rounds\n",
      "[100]\tvalid_0's multi_logloss: 1.02071\n",
      "[200]\tvalid_0's multi_logloss: 1.01463\n",
      "[300]\tvalid_0's multi_logloss: 1.01241\n",
      "[400]\tvalid_0's multi_logloss: 1.01161\n",
      "[500]\tvalid_0's multi_logloss: 1.01129\n",
      "[600]\tvalid_0's multi_logloss: 1.01106\n",
      "[700]\tvalid_0's multi_logloss: 1.01062\n",
      "Early stopping, best iteration is:\n",
      "[694]\tvalid_0's multi_logloss: 1.0106\n",
      "Fold:  3, loss: 1.011\n",
      "[LightGBM] [Warning] min_data_in_leaf is set=25, min_child_samples=20 will be ignored. Current value: min_data_in_leaf=25\n",
      "Training until validation scores don't improve for 100 rounds\n",
      "[100]\tvalid_0's multi_logloss: 1.02267\n",
      "[200]\tvalid_0's multi_logloss: 1.01651\n",
      "[300]\tvalid_0's multi_logloss: 1.01463\n",
      "[400]\tvalid_0's multi_logloss: 1.01383\n",
      "[500]\tvalid_0's multi_logloss: 1.01361\n",
      "[600]\tvalid_0's multi_logloss: 1.01344\n",
      "[700]\tvalid_0's multi_logloss: 1.01343\n",
      "Early stopping, best iteration is:\n",
      "[651]\tvalid_0's multi_logloss: 1.01322\n",
      "Fold:  4, loss: 1.013\n",
      "[LightGBM] [Warning] min_data_in_leaf is set=25, min_child_samples=20 will be ignored. Current value: min_data_in_leaf=25\n",
      "Training until validation scores don't improve for 100 rounds\n",
      "[100]\tvalid_0's multi_logloss: 1.02073\n",
      "[200]\tvalid_0's multi_logloss: 1.01365\n",
      "[300]\tvalid_0's multi_logloss: 1.011\n",
      "[400]\tvalid_0's multi_logloss: 1.01015\n",
      "[500]\tvalid_0's multi_logloss: 1.01008\n",
      "Early stopping, best iteration is:\n",
      "[440]\tvalid_0's multi_logloss: 1.00997\n",
      "Fold:  5, loss: 1.010\n",
      "[LightGBM] [Warning] min_data_in_leaf is set=25, min_child_samples=20 will be ignored. Current value: min_data_in_leaf=25\n",
      "Training until validation scores don't improve for 100 rounds\n",
      "[100]\tvalid_0's multi_logloss: 1.02085\n",
      "[200]\tvalid_0's multi_logloss: 1.01403\n",
      "[300]\tvalid_0's multi_logloss: 1.01182\n",
      "[400]\tvalid_0's multi_logloss: 1.0103\n",
      "[500]\tvalid_0's multi_logloss: 1.0099\n",
      "[600]\tvalid_0's multi_logloss: 1.00951\n"
     ]
    },
    {
     "ename": "KeyboardInterrupt",
     "evalue": "",
     "output_type": "error",
     "traceback": [
      "\u001b[1;31m---------------------------------------------------------------------------\u001b[0m",
      "\u001b[1;31mKeyboardInterrupt\u001b[0m                         Traceback (most recent call last)",
      "\u001b[1;32m~\\AppData\\Local\\Temp\\ipykernel_15412\\764028489.py\u001b[0m in \u001b[0;36m<module>\u001b[1;34m\u001b[0m\n\u001b[0;32m     29\u001b[0m                 \u001b[0mverbose_eval\u001b[0m\u001b[1;33m=\u001b[0m\u001b[1;36m100\u001b[0m\u001b[1;33m,\u001b[0m\u001b[1;33m\u001b[0m\u001b[1;33m\u001b[0m\u001b[0m\n\u001b[0;32m     30\u001b[0m                 \u001b[0mnum_boost_round\u001b[0m\u001b[1;33m=\u001b[0m\u001b[1;36m10000\u001b[0m\u001b[1;33m,\u001b[0m\u001b[1;33m\u001b[0m\u001b[1;33m\u001b[0m\u001b[0m\n\u001b[1;32m---> 31\u001b[1;33m                 early_stopping_rounds=100)\n\u001b[0m\u001b[0;32m     32\u001b[0m     \u001b[0mpred_t\u001b[0m \u001b[1;33m=\u001b[0m \u001b[0mgbm\u001b[0m\u001b[1;33m.\u001b[0m\u001b[0mpredict\u001b[0m\u001b[1;33m(\u001b[0m\u001b[0mX_train\u001b[0m\u001b[1;33m[\u001b[0m\u001b[0mtest\u001b[0m\u001b[1;33m]\u001b[0m\u001b[1;33m,\u001b[0m \u001b[0mnum_iteration\u001b[0m\u001b[1;33m=\u001b[0m\u001b[0mgbm\u001b[0m\u001b[1;33m.\u001b[0m\u001b[0mbest_iteration\u001b[0m\u001b[1;33m)\u001b[0m\u001b[1;33m\u001b[0m\u001b[1;33m\u001b[0m\u001b[0m\n\u001b[0;32m     33\u001b[0m     \u001b[0mscore\u001b[0m \u001b[1;33m=\u001b[0m \u001b[0mlog_loss\u001b[0m\u001b[1;33m(\u001b[0m\u001b[0my_train\u001b[0m\u001b[1;33m[\u001b[0m\u001b[0mtest\u001b[0m\u001b[1;33m]\u001b[0m\u001b[1;33m,\u001b[0m \u001b[0mpred_t\u001b[0m\u001b[1;33m)\u001b[0m \u001b[1;31m# Calculation of correct response rate for test data\u001b[0m\u001b[1;33m\u001b[0m\u001b[1;33m\u001b[0m\u001b[0m\n",
      "\u001b[1;32mc:\\users\\hp\\appdata\\local\\programs\\python\\python37\\lib\\site-packages\\lightgbm\\engine.py\u001b[0m in \u001b[0;36mtrain\u001b[1;34m(params, train_set, num_boost_round, valid_sets, valid_names, fobj, feval, init_model, feature_name, categorical_feature, early_stopping_rounds, evals_result, verbose_eval, learning_rates, keep_training_booster, callbacks)\u001b[0m\n\u001b[0;32m    290\u001b[0m                                     evaluation_result_list=None))\n\u001b[0;32m    291\u001b[0m \u001b[1;33m\u001b[0m\u001b[0m\n\u001b[1;32m--> 292\u001b[1;33m         \u001b[0mbooster\u001b[0m\u001b[1;33m.\u001b[0m\u001b[0mupdate\u001b[0m\u001b[1;33m(\u001b[0m\u001b[0mfobj\u001b[0m\u001b[1;33m=\u001b[0m\u001b[0mfobj\u001b[0m\u001b[1;33m)\u001b[0m\u001b[1;33m\u001b[0m\u001b[1;33m\u001b[0m\u001b[0m\n\u001b[0m\u001b[0;32m    293\u001b[0m \u001b[1;33m\u001b[0m\u001b[0m\n\u001b[0;32m    294\u001b[0m         \u001b[0mevaluation_result_list\u001b[0m \u001b[1;33m=\u001b[0m \u001b[1;33m[\u001b[0m\u001b[1;33m]\u001b[0m\u001b[1;33m\u001b[0m\u001b[1;33m\u001b[0m\u001b[0m\n",
      "\u001b[1;32mc:\\users\\hp\\appdata\\local\\programs\\python\\python37\\lib\\site-packages\\lightgbm\\basic.py\u001b[0m in \u001b[0;36mupdate\u001b[1;34m(self, train_set, fobj)\u001b[0m\n\u001b[0;32m   3021\u001b[0m             _safe_call(_LIB.LGBM_BoosterUpdateOneIter(\n\u001b[0;32m   3022\u001b[0m                 \u001b[0mself\u001b[0m\u001b[1;33m.\u001b[0m\u001b[0mhandle\u001b[0m\u001b[1;33m,\u001b[0m\u001b[1;33m\u001b[0m\u001b[1;33m\u001b[0m\u001b[0m\n\u001b[1;32m-> 3023\u001b[1;33m                 ctypes.byref(is_finished)))\n\u001b[0m\u001b[0;32m   3024\u001b[0m             \u001b[0mself\u001b[0m\u001b[1;33m.\u001b[0m\u001b[0m__is_predicted_cur_iter\u001b[0m \u001b[1;33m=\u001b[0m \u001b[1;33m[\u001b[0m\u001b[1;32mFalse\u001b[0m \u001b[1;32mfor\u001b[0m \u001b[0m_\u001b[0m \u001b[1;32min\u001b[0m \u001b[0mrange\u001b[0m\u001b[1;33m(\u001b[0m\u001b[0mself\u001b[0m\u001b[1;33m.\u001b[0m\u001b[0m__num_dataset\u001b[0m\u001b[1;33m)\u001b[0m\u001b[1;33m]\u001b[0m\u001b[1;33m\u001b[0m\u001b[1;33m\u001b[0m\u001b[0m\n\u001b[0;32m   3025\u001b[0m             \u001b[1;32mreturn\u001b[0m \u001b[0mis_finished\u001b[0m\u001b[1;33m.\u001b[0m\u001b[0mvalue\u001b[0m \u001b[1;33m==\u001b[0m \u001b[1;36m1\u001b[0m\u001b[1;33m\u001b[0m\u001b[1;33m\u001b[0m\u001b[0m\n",
      "\u001b[1;31mKeyboardInterrupt\u001b[0m: "
     ]
    }
   ],
   "source": [
    "#import lightgbm as lgb   # No hyper-parameter tuning\n",
    "## training parameter\n",
    "#params = {'objective': 'multiclass', \n",
    "#          'num_class': 3, \n",
    "#          'metric': 'multi_logloss', \n",
    "#          'verbosity': -1, \n",
    "#          'num_leaves': 6, \n",
    "#          'learning_rate': 0.05, \n",
    "#          'feature_fraction': 0.4, \n",
    "#          'bagging_fraction': 0.6780922358381494, \n",
    "#          'bagging_freq': 4, \n",
    "#          'feature_pre_filter': False, \n",
    "#          'lambda_l1': 1.0136734007272632, \n",
    "#          'lambda_l2': 5.110989943250052,  \n",
    "#          'min_data_in_leaf': 25, \n",
    "#          'min_child_samples': 20, \n",
    "#          'num_iterations': 10000, \n",
    "#          'early_stopping_round': 100}#\n",
    "\n",
    "#kfold = StratifiedKFold(n_splits=10,\n",
    "#                        random_state=1, shuffle=True).split(X_train, y_train)     \n",
    "#scores = []   \n",
    "#models = []   \n",
    "#for k, (train, test) in enumerate(kfold):\n",
    "#    X_trainset_lgb = lgb.Dataset(X_train[train], y_train[train])\n",
    "#    X_validset_lgb = lgb.Dataset(X_train[test], y_train[test])\n",
    "#\n",
    "#    gbm = lgb.train(params, X_trainset_lgb, valid_sets=X_validset_lgb,\n",
    "#                verbose_eval=100, \n",
    "#                num_boost_round=10000, \n",
    "#                early_stopping_rounds=100)\n",
    "#    pred_t = gbm.predict(X_train[test], num_iteration=gbm.best_iteration)\n",
    "#    score = log_loss(y_train[test], pred_t) # Calculation of correct response rate for test data\n",
    "#    scores.append(score)  # append score\n",
    "#    print('Fold: %2d, loss: %.3f' % (k+1, score))\n",
    "#    models.append(gbm)\n",
    "#print('\\nCV loss: %.3f +/- %.3f' % (np.mean(scores), np.std(scores)))\n",
    "#######"
   ]
  },
  {
   "cell_type": "markdown",
   "metadata": {
    "id": "pJlNtYwNE7sa"
   },
   "source": [
    "Create a function for predict, make predictions with k models, and average the predictions."
   ]
  },
  {
   "cell_type": "code",
   "execution_count": 24,
   "metadata": {
    "execution": {
     "iopub.execute_input": "2022-04-18T15:04:06.063499Z",
     "iopub.status.busy": "2022-04-18T15:04:06.062646Z",
     "iopub.status.idle": "2022-04-18T15:04:29.29739Z",
     "shell.execute_reply": "2022-04-18T15:04:29.295425Z",
     "shell.execute_reply.started": "2022-04-18T15:04:06.063456Z"
    },
    "id": "8PlbLhqdE7sa"
   },
   "outputs": [
    {
     "name": "stdout",
     "output_type": "stream",
     "text": [
      "test loss =  1.0084465179226625\n",
      "train loss =  0.9812075480457418\n"
     ]
    }
   ],
   "source": [
    "def predict(models, X_test):\n",
    "#　Create array for storing test data\n",
    "    y_pred = np.zeros((len(X_test), len(models), 3))\n",
    "    for fold_, model in enumerate(models):\n",
    "        # predict test\n",
    "        pred_ = model.predict(X_test, num_iteration=model.best_iteration)\n",
    "        # save predict\n",
    "        y_pred[:, fold_] = pred_ \n",
    "    y_pred = y_pred.mean(axis=1)\n",
    "    return y_pred\n",
    "y_pred = predict(models, X_test)\n",
    "y_pred_train = predict(models, X_train)\n",
    "print('test loss = ', log_loss(y_test, y_pred))\n",
    "print('train loss = ', log_loss(y_train, y_pred_train))"
   ]
  },
  {
   "cell_type": "markdown",
   "metadata": {
    "id": "seBxUPpUE7sb"
   },
   "source": [
    "# Submit prediction"
   ]
  },
  {
   "cell_type": "markdown",
   "metadata": {
    "id": "Z7azqLiiE7sb"
   },
   "source": [
    "Create data for submission."
   ]
  },
  {
   "cell_type": "code",
   "execution_count": 25,
   "metadata": {
    "execution": {
     "iopub.execute_input": "2022-04-18T15:04:45.203815Z",
     "iopub.status.busy": "2022-04-18T15:04:45.203514Z",
     "iopub.status.idle": "2022-04-18T15:05:05.156751Z",
     "shell.execute_reply": "2022-04-18T15:05:05.155692Z",
     "shell.execute_reply.started": "2022-04-18T15:04:45.203782Z"
    },
    "id": "VRrrRaNfE7sb"
   },
   "outputs": [
    {
     "name": "stdout",
     "output_type": "stream",
     "text": [
      "(72711, 3)\n"
     ]
    }
   ],
   "source": [
    "X_submit = test_df.values\n",
    "y_submit = predict(models, X_submit)\n",
    "print(y_submit.shape)"
   ]
  },
  {
   "cell_type": "code",
   "execution_count": 26,
   "metadata": {
    "execution": {
     "iopub.execute_input": "2022-04-18T15:05:38.96512Z",
     "iopub.status.busy": "2022-04-18T15:05:38.964819Z",
     "iopub.status.idle": "2022-04-18T15:05:39.027787Z",
     "shell.execute_reply": "2022-04-18T15:05:39.027123Z",
     "shell.execute_reply.started": "2022-04-18T15:05:38.965089Z"
    },
    "id": "-YCUoftKE7sb"
   },
   "outputs": [
    {
     "data": {
      "text/html": [
       "<div>\n",
       "<style scoped>\n",
       "    .dataframe tbody tr th:only-of-type {\n",
       "        vertical-align: middle;\n",
       "    }\n",
       "\n",
       "    .dataframe tbody tr th {\n",
       "        vertical-align: top;\n",
       "    }\n",
       "\n",
       "    .dataframe thead th {\n",
       "        text-align: right;\n",
       "    }\n",
       "</style>\n",
       "<table border=\"1\" class=\"dataframe\">\n",
       "  <thead>\n",
       "    <tr style=\"text-align: right;\">\n",
       "      <th></th>\n",
       "      <th>id</th>\n",
       "      <th>home</th>\n",
       "      <th>draw</th>\n",
       "      <th>away</th>\n",
       "    </tr>\n",
       "  </thead>\n",
       "  <tbody>\n",
       "    <tr>\n",
       "      <th>0</th>\n",
       "      <td>17761448</td>\n",
       "      <td>0.333</td>\n",
       "      <td>0.333</td>\n",
       "      <td>0.333</td>\n",
       "    </tr>\n",
       "    <tr>\n",
       "      <th>1</th>\n",
       "      <td>17695487</td>\n",
       "      <td>0.333</td>\n",
       "      <td>0.333</td>\n",
       "      <td>0.333</td>\n",
       "    </tr>\n",
       "    <tr>\n",
       "      <th>2</th>\n",
       "      <td>17715496</td>\n",
       "      <td>0.333</td>\n",
       "      <td>0.333</td>\n",
       "      <td>0.333</td>\n",
       "    </tr>\n",
       "    <tr>\n",
       "      <th>3</th>\n",
       "      <td>17715493</td>\n",
       "      <td>0.333</td>\n",
       "      <td>0.333</td>\n",
       "      <td>0.333</td>\n",
       "    </tr>\n",
       "    <tr>\n",
       "      <th>4</th>\n",
       "      <td>17715492</td>\n",
       "      <td>0.333</td>\n",
       "      <td>0.333</td>\n",
       "      <td>0.333</td>\n",
       "    </tr>\n",
       "  </tbody>\n",
       "</table>\n",
       "</div>"
      ],
      "text/plain": [
       "         id   home   draw   away\n",
       "0  17761448  0.333  0.333  0.333\n",
       "1  17695487  0.333  0.333  0.333\n",
       "2  17715496  0.333  0.333  0.333\n",
       "3  17715493  0.333  0.333  0.333\n",
       "4  17715492  0.333  0.333  0.333"
      ]
     },
     "execution_count": 26,
     "metadata": {},
     "output_type": "execute_result"
    }
   ],
   "source": [
    "submission_df = pd.read_csv('C:/Users/HP/Downloads/football-match-probability-prediction/sample_submission.csv')\n",
    "submission_df.head()"
   ]
  },
  {
   "cell_type": "code",
   "execution_count": 27,
   "metadata": {
    "execution": {
     "iopub.execute_input": "2022-04-18T15:05:41.244061Z",
     "iopub.status.busy": "2022-04-18T15:05:41.2436Z",
     "iopub.status.idle": "2022-04-18T15:05:41.258855Z",
     "shell.execute_reply": "2022-04-18T15:05:41.258151Z",
     "shell.execute_reply.started": "2022-04-18T15:05:41.244014Z"
    },
    "id": "bJt2WeOdE7sb"
   },
   "outputs": [
    {
     "data": {
      "text/html": [
       "<div>\n",
       "<style scoped>\n",
       "    .dataframe tbody tr th:only-of-type {\n",
       "        vertical-align: middle;\n",
       "    }\n",
       "\n",
       "    .dataframe tbody tr th {\n",
       "        vertical-align: top;\n",
       "    }\n",
       "\n",
       "    .dataframe thead th {\n",
       "        text-align: right;\n",
       "    }\n",
       "</style>\n",
       "<table border=\"1\" class=\"dataframe\">\n",
       "  <thead>\n",
       "    <tr style=\"text-align: right;\">\n",
       "      <th></th>\n",
       "      <th>id</th>\n",
       "      <th>home</th>\n",
       "      <th>draw</th>\n",
       "      <th>away</th>\n",
       "    </tr>\n",
       "  </thead>\n",
       "  <tbody>\n",
       "    <tr>\n",
       "      <th>0</th>\n",
       "      <td>17761448</td>\n",
       "      <td>0.438769</td>\n",
       "      <td>0.297231</td>\n",
       "      <td>0.264001</td>\n",
       "    </tr>\n",
       "    <tr>\n",
       "      <th>1</th>\n",
       "      <td>17695487</td>\n",
       "      <td>0.343536</td>\n",
       "      <td>0.315419</td>\n",
       "      <td>0.341044</td>\n",
       "    </tr>\n",
       "    <tr>\n",
       "      <th>2</th>\n",
       "      <td>17715496</td>\n",
       "      <td>0.379567</td>\n",
       "      <td>0.300392</td>\n",
       "      <td>0.320042</td>\n",
       "    </tr>\n",
       "    <tr>\n",
       "      <th>3</th>\n",
       "      <td>17715493</td>\n",
       "      <td>0.182015</td>\n",
       "      <td>0.322750</td>\n",
       "      <td>0.495236</td>\n",
       "    </tr>\n",
       "    <tr>\n",
       "      <th>4</th>\n",
       "      <td>17715492</td>\n",
       "      <td>0.463777</td>\n",
       "      <td>0.327684</td>\n",
       "      <td>0.208539</td>\n",
       "    </tr>\n",
       "  </tbody>\n",
       "</table>\n",
       "</div>"
      ],
      "text/plain": [
       "         id      home      draw      away\n",
       "0  17761448  0.438769  0.297231  0.264001\n",
       "1  17695487  0.343536  0.315419  0.341044\n",
       "2  17715496  0.379567  0.300392  0.320042\n",
       "3  17715493  0.182015  0.322750  0.495236\n",
       "4  17715492  0.463777  0.327684  0.208539"
      ]
     },
     "execution_count": 27,
     "metadata": {},
     "output_type": "execute_result"
    }
   ],
   "source": [
    "submission_df['home'] = pd.DataFrame(y_submit[:, 0])\n",
    "submission_df['draw'] = pd.DataFrame(y_submit[:, 1])\n",
    "submission_df['away'] = pd.DataFrame(y_submit[:, 2])\n",
    "submission_df.head()"
   ]
  },
  {
   "cell_type": "code",
   "execution_count": 28,
   "metadata": {
    "execution": {
     "iopub.execute_input": "2022-04-18T15:05:43.834486Z",
     "iopub.status.busy": "2022-04-18T15:05:43.833722Z",
     "iopub.status.idle": "2022-04-18T15:05:44.234282Z",
     "shell.execute_reply": "2022-04-18T15:05:44.23326Z",
     "shell.execute_reply.started": "2022-04-18T15:05:43.834433Z"
    },
    "id": "yWpmfii2E7sb"
   },
   "outputs": [],
   "source": [
    "submission_df.to_csv(\"submission.csv\", index=False, header=True)"
   ]
  },
  {
   "cell_type": "code",
   "execution_count": null,
   "metadata": {
    "id": "33lqNe6aE7sc"
   },
   "outputs": [],
   "source": []
  },
  {
   "cell_type": "code",
   "execution_count": null,
   "metadata": {},
   "outputs": [],
   "source": []
  }
 ],
 "metadata": {
  "colab": {
   "collapsed_sections": [],
   "name": "football match prediction project.ipynb",
   "provenance": []
  },
  "kernelspec": {
   "display_name": "Python 3 (ipykernel)",
   "language": "python",
   "name": "python3"
  },
  "language_info": {
   "codemirror_mode": {
    "name": "ipython",
    "version": 3
   },
   "file_extension": ".py",
   "mimetype": "text/x-python",
   "name": "python",
   "nbconvert_exporter": "python",
   "pygments_lexer": "ipython3",
   "version": "3.7.9"
  }
 },
 "nbformat": 4,
 "nbformat_minor": 1
}
